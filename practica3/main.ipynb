{
 "cells": [
  {
   "cell_type": "code",
   "execution_count": 7,
   "metadata": {},
   "outputs": [],
   "source": [
    "from Datos import Datos\n",
    "from EstrategiaParticionado import *\n",
    "from Clasificador import *\n",
    "import matplotlib.pyplot as plt\n",
    "import numpy as np"
   ]
  },
  {
   "cell_type": "markdown",
   "metadata": {},
   "source": [
    "<h2>Declaración de funciones generales</h2>"
   ]
  },
  {
   "cell_type": "code",
   "execution_count": 8,
   "metadata": {},
   "outputs": [],
   "source": [
    "def transformar_datos(dataset):\n",
    "    \n",
    "    # Utilizamos el diccionario para adaptar los datos\n",
    "    for i in range(dataset.datos.shape[0]):\n",
    "        for j in range(dataset.datos.shape[1]):\n",
    "            if dataset.nominalAtributos[j]:\n",
    "                dataset.datos[i, j] = dataset.diccionario[j][dataset.datos[i, j]]\n",
    "                \n",
    "    \n",
    "\n",
    "def get_train_test(dataset, seed=None, p=0.2):\n",
    "    vs = ValidacionSimple(p, 1)\n",
    "    particiones = vs.creaParticiones(len(dataset.datos), seed=seed)\n",
    "\n",
    "    datostrain = dataset.extraeDatos(particiones[0].indicesTrain)\n",
    "    datostest = dataset.extraeDatos(particiones[0].indicesTest)\n",
    "    datostrain = datostrain.astype('float32')\n",
    "    datostest = datostest.astype('float32')\n",
    "    return datostrain, datostest"
   ]
  },
  {
   "cell_type": "code",
   "execution_count": null,
   "metadata": {},
   "outputs": [
    {
     "name": "stdout",
     "output_type": "stream",
     "text": [
      "Generacion: 0\n",
      "Fitness medio: 0.4977425492706643\n",
      "Fitness mejor individuo: 0.6057347670250897\n",
      "###################################################\n",
      "Generacion: 1\n",
      "Fitness medio: 0.5041338112305854\n",
      "Fitness mejor individuo: 0.6057347670250897\n",
      "###################################################\n",
      "Generacion: 2\n",
      "Fitness medio: 0.526937475109518\n",
      "Fitness mejor individuo: 0.6152927120669056\n",
      "###################################################\n",
      "Generacion: 3\n",
      "Fitness medio: 0.5388928713659896\n",
      "Fitness mejor individuo: 0.6212664277180406\n",
      "###################################################\n",
      "Generacion: 4\n",
      "Fitness medio: 0.5720589406610912\n",
      "Fitness mejor individuo: 0.6379928315412187\n",
      "###################################################\n",
      "Generacion: 5\n",
      "Fitness medio: 0.585925925925926\n",
      "Fitness mejor individuo: 0.6475507765830346\n",
      "###################################################\n",
      "Generacion: 6\n",
      "Fitness medio: 0.5892712066905614\n",
      "Fitness mejor individuo: 0.6475507765830346\n",
      "###################################################\n",
      "Generacion: 7\n",
      "Fitness medio: 0.5921226602947034\n",
      "Fitness mejor individuo: 0.6750298685782556\n",
      "###################################################\n",
      "Generacion: 8\n",
      "Fitness medio: 0.6025169255276783\n",
      "Fitness mejor individuo: 0.6750298685782556\n",
      "###################################################\n",
      "Generacion: 9\n",
      "Fitness medio: 0.6085463958582238\n",
      "Fitness mejor individuo: 0.6750298685782556\n",
      "###################################################\n",
      "Generacion: 10\n",
      "Fitness medio: 0.6090959776981283\n",
      "Fitness mejor individuo: 0.6750298685782556\n",
      "###################################################\n",
      "Generacion: 11\n",
      "Fitness medio: 0.607773795300677\n",
      "Fitness mejor individuo: 0.6893667861409797\n",
      "###################################################\n",
      "Generacion: 12\n",
      "Fitness medio: 0.617642373556352\n",
      "Fitness mejor individuo: 0.6893667861409797\n",
      "###################################################\n",
      "Generacion: 13\n",
      "Fitness medio: 0.6264117881322182\n",
      "Fitness mejor individuo: 0.6893667861409797\n",
      "###################################################\n",
      "Generacion: 14\n",
      "Fitness medio: 0.6523297491039426\n",
      "Fitness mejor individuo: 0.6893667861409797\n",
      "###################################################\n",
      "Generacion: 15\n",
      "Fitness medio: 0.6515651135005974\n",
      "Fitness mejor individuo: 0.7013142174432497\n",
      "###################################################\n"
     ]
    }
   ],
   "source": [
    "dataset = Datos('titanic.data')\n",
    "\n",
    "transformar_datos(dataset)\n",
    "datostrain, datostest = get_train_test(dataset)\n",
    "\n",
    "ag = AlgoritmoGenetico()\n",
    "ag.entrenamiento(datostrain, dataset.nominalAtributos, dataset.diccionario, tamanio_poblacion=150, n_epocas=200)"
   ]
  },
  {
   "cell_type": "code",
   "execution_count": null,
   "metadata": {},
   "outputs": [],
   "source": [
    "pred = ag.clasifica(datostest, dataset.nominalAtributos, dataset.diccionario)"
   ]
  },
  {
   "cell_type": "code",
   "execution_count": null,
   "metadata": {},
   "outputs": [],
   "source": [
    "print(ag.error(datostest, pred))"
   ]
  },
  {
   "cell_type": "code",
   "execution_count": null,
   "metadata": {},
   "outputs": [],
   "source": []
  },
  {
   "cell_type": "code",
   "execution_count": null,
   "metadata": {},
   "outputs": [],
   "source": []
  }
 ],
 "metadata": {
  "kernelspec": {
   "display_name": "Python 3",
   "language": "python",
   "name": "python3"
  },
  "language_info": {
   "codemirror_mode": {
    "name": "ipython",
    "version": 3
   },
   "file_extension": ".py",
   "mimetype": "text/x-python",
   "name": "python",
   "nbconvert_exporter": "python",
   "pygments_lexer": "ipython3",
   "version": "3.7.4"
  }
 },
 "nbformat": 4,
 "nbformat_minor": 4
}
