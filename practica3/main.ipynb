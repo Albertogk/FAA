{
 "cells": [
  {
   "cell_type": "code",
   "execution_count": 1,
   "metadata": {},
   "outputs": [],
   "source": [
    "from Datos import Datos\n",
    "from EstrategiaParticionado import *\n",
    "from Clasificador import *\n",
    "import matplotlib.pyplot as plt\n",
    "import numpy as np"
   ]
  },
  {
   "cell_type": "markdown",
   "metadata": {},
   "source": [
    "<h4>Declaración de funciones generales</h4>"
   ]
  },
  {
   "cell_type": "code",
   "execution_count": 2,
   "metadata": {},
   "outputs": [],
   "source": [
    "def transformar_datos(dataset):\n",
    "    \n",
    "    # Utilizamos el diccionario para adaptar los datos\n",
    "    for i in range(dataset.datos.shape[0]):\n",
    "        for j in range(dataset.datos.shape[1]):\n",
    "            if dataset.nominalAtributos[j]:\n",
    "                dataset.datos[i, j] = dataset.diccionario[j][dataset.datos[i, j]]\n",
    "                \n",
    "    \n",
    "\n",
    "def get_train_test(dataset, seed=None, p=0.2):\n",
    "    vs = ValidacionSimple(p, 1)\n",
    "    particiones = vs.creaParticiones(len(dataset.datos), seed=seed)\n",
    "\n",
    "    datostrain = dataset.extraeDatos(particiones[0].indicesTrain)\n",
    "    datostest = dataset.extraeDatos(particiones[0].indicesTest)\n",
    "    datostrain = datostrain.astype('float32')\n",
    "    datostest = datostest.astype('float32')\n",
    "    return datostrain, datostest"
   ]
  },
  {
   "cell_type": "markdown",
   "metadata": {},
   "source": [
    "<h4>Prueba inicial del funcionamiento del código</h4>"
   ]
  },
  {
   "cell_type": "markdown",
   "metadata": {},
   "source": [
    "Utilizamos los parámetros:\n",
    "\n",
    "    tamanio_poblacion=50\n",
    "    n_epocas=100\n",
    "    reglas_por_ind=5\n",
    "    \n",
    "Los parámetros que no están especificados toman los valores por defecto:\n",
    "    \n",
    "    pelitismo=0.05\n",
    "    puntos_cruce=1\n",
    "    p_mutacion=0.01"
   ]
  },
  {
   "cell_type": "markdown",
   "metadata": {},
   "source": [
    "Añadimos un parámetro, *flag_print* que permite especificar si se quiere o no que la función imprima la evolución del fitness medio y el fitness del mejor individuo.\n",
    "Por defecto el valor es *True*."
   ]
  },
  {
   "cell_type": "code",
   "execution_count": 3,
   "metadata": {},
   "outputs": [
    {
     "name": "stdout",
     "output_type": "stream",
     "text": [
      "Generacion: 0\n",
      "Fitness medio: 0.5019211469534051\n",
      "Fitness mejor individuo: 0.5648745519713262\n",
      "###################################################\n",
      "Generacion: 1\n",
      "Fitness medio: 0.4966929510155316\n",
      "Fitness mejor individuo: 0.5624850657108722\n",
      "###################################################\n",
      "Generacion: 2\n",
      "Fitness medio: 0.49834647550776573\n",
      "Fitness mejor individuo: 0.5675029868578255\n",
      "###################################################\n",
      "Generacion: 3\n",
      "Fitness medio: 0.5123010752688172\n",
      "Fitness mejor individuo: 0.5945041816009558\n",
      "###################################################\n",
      "Generacion: 4\n",
      "Fitness medio: 0.5252759856630824\n",
      "Fitness mejor individuo: 0.5978494623655914\n",
      "###################################################\n",
      "Generacion: 5\n",
      "Fitness medio: 0.5271541218637994\n",
      "Fitness mejor individuo: 0.5973715651135006\n",
      "###################################################\n",
      "Generacion: 6\n",
      "Fitness medio: 0.5475555555555556\n",
      "Fitness mejor individuo: 0.5995221027479092\n",
      "###################################################\n",
      "Generacion: 7\n",
      "Fitness medio: 0.5479187574671446\n",
      "Fitness mejor individuo: 0.609557945041816\n",
      "###################################################\n",
      "Generacion: 8\n",
      "Fitness medio: 0.5571517323775388\n",
      "Fitness mejor individuo: 0.6160095579450419\n",
      "###################################################\n",
      "Generacion: 9\n",
      "Fitness medio: 0.5833070489844683\n",
      "Fitness mejor individuo: 0.622700119474313\n",
      "###################################################\n",
      "Generacion: 10\n",
      "Fitness medio: 0.5872688172043011\n",
      "Fitness mejor individuo: 0.6234169653524492\n",
      "###################################################\n",
      "Generacion: 11\n",
      "Fitness medio: 0.5904181600955795\n",
      "Fitness mejor individuo: 0.6279569892473118\n",
      "###################################################\n",
      "Generacion: 12\n",
      "Fitness medio: 0.5874743130227\n",
      "Fitness mejor individuo: 0.6301075268817204\n",
      "###################################################\n",
      "Generacion: 13\n",
      "Fitness medio: 0.584310633213859\n",
      "Fitness mejor individuo: 0.6336917562724015\n",
      "###################################################\n",
      "Generacion: 14\n",
      "Fitness medio: 0.5848172043010752\n",
      "Fitness mejor individuo: 0.6351254480286739\n",
      "###################################################\n",
      "Generacion: 15\n",
      "Fitness medio: 0.5867192353643967\n",
      "Fitness mejor individuo: 0.6351254480286739\n",
      "###################################################\n",
      "Generacion: 16\n",
      "Fitness medio: 0.5900884109916368\n",
      "Fitness mejor individuo: 0.6434886499402629\n",
      "###################################################\n",
      "Generacion: 17\n",
      "Fitness medio: 0.5866762246117085\n",
      "Fitness mejor individuo: 0.6618876941457587\n",
      "###################################################\n",
      "Generacion: 18\n",
      "Fitness medio: 0.5839856630824374\n",
      "Fitness mejor individuo: 0.6640382317801673\n",
      "###################################################\n",
      "Generacion: 19\n",
      "Fitness medio: 0.5872066905615293\n",
      "Fitness mejor individuo: 0.6635603345280765\n",
      "###################################################\n",
      "Generacion: 20\n",
      "Fitness medio: 0.5859593787335722\n",
      "Fitness mejor individuo: 0.6642771804062126\n",
      "###################################################\n",
      "Generacion: 21\n",
      "Fitness medio: 0.585189964157706\n",
      "Fitness mejor individuo: 0.6642771804062126\n",
      "###################################################\n",
      "Generacion: 22\n",
      "Fitness medio: 0.5808410991636799\n",
      "Fitness mejor individuo: 0.6676224611708482\n",
      "###################################################\n",
      "Generacion: 23\n",
      "Fitness medio: 0.5863703703703704\n",
      "Fitness mejor individuo: 0.6685782556750298\n",
      "###################################################\n",
      "Generacion: 24\n",
      "Fitness medio: 0.6050609318996416\n",
      "Fitness mejor individuo: 0.674074074074074\n",
      "###################################################\n",
      "Generacion: 25\n",
      "Fitness medio: 0.602446833930705\n",
      "Fitness mejor individuo: 0.6652329749103942\n",
      "###################################################\n",
      "Generacion: 26\n",
      "Fitness medio: 0.6008697729988053\n",
      "Fitness mejor individuo: 0.6733572281959379\n",
      "###################################################\n",
      "Generacion: 27\n",
      "Fitness medio: 0.6064850657108721\n",
      "Fitness mejor individuo: 0.6821983273596177\n",
      "###################################################\n",
      "Generacion: 28\n",
      "Fitness medio: 0.6060597371565114\n",
      "Fitness mejor individuo: 0.6836320191158901\n",
      "###################################################\n",
      "Generacion: 29\n",
      "Fitness medio: 0.6024181600955795\n",
      "Fitness mejor individuo: 0.6888888888888889\n",
      "###################################################\n",
      "Generacion: 30\n",
      "Fitness medio: 0.6125495818399044\n",
      "Fitness mejor individuo: 0.6795698924731183\n",
      "###################################################\n",
      "Generacion: 31\n",
      "Fitness medio: 0.6035555555555556\n",
      "Fitness mejor individuo: 0.6802867383512545\n",
      "###################################################\n",
      "Generacion: 32\n",
      "Fitness medio: 0.6059450418160095\n",
      "Fitness mejor individuo: 0.6817204301075269\n",
      "###################################################\n",
      "Generacion: 33\n",
      "Fitness medio: 0.5906332138590202\n",
      "Fitness mejor individuo: 0.6829151732377539\n",
      "###################################################\n",
      "Generacion: 34\n",
      "Fitness medio: 0.5654241338112307\n",
      "Fitness mejor individuo: 0.6829151732377539\n",
      "###################################################\n",
      "Generacion: 35\n",
      "Fitness medio: 0.5658637992831541\n",
      "Fitness mejor individuo: 0.6841099163679809\n",
      "###################################################\n",
      "Generacion: 36\n",
      "Fitness medio: 0.5514265232974911\n",
      "Fitness mejor individuo: 0.6841099163679809\n",
      "###################################################\n",
      "Generacion: 37\n",
      "Fitness medio: 0.5543942652329749\n",
      "Fitness mejor individuo: 0.6781362007168459\n",
      "###################################################\n",
      "Generacion: 38\n",
      "Fitness medio: 0.5795412186379929\n",
      "Fitness mejor individuo: 0.6774193548387096\n",
      "###################################################\n",
      "Generacion: 39\n",
      "Fitness medio: 0.5765113500597372\n",
      "Fitness mejor individuo: 0.6817204301075269\n",
      "###################################################\n",
      "Generacion: 40\n",
      "Fitness medio: 0.5852855436081243\n",
      "Fitness mejor individuo: 0.6855436081242533\n",
      "###################################################\n",
      "Generacion: 41\n",
      "Fitness medio: 0.6014767025089606\n",
      "Fitness mejor individuo: 0.6867383512544802\n",
      "###################################################\n",
      "Generacion: 42\n",
      "Fitness medio: 0.5947956989247312\n",
      "Fitness mejor individuo: 0.6850657108721625\n",
      "###################################################\n",
      "Generacion: 43\n",
      "Fitness medio: 0.5933906810035842\n",
      "Fitness mejor individuo: 0.6876941457586618\n",
      "###################################################\n",
      "Generacion: 44\n",
      "Fitness medio: 0.5870203106332138\n",
      "Fitness mejor individuo: 0.6874551971326165\n",
      "###################################################\n",
      "Generacion: 45\n",
      "Fitness medio: 0.6269964157706093\n",
      "Fitness mejor individuo: 0.6912783751493429\n",
      "###################################################\n",
      "Generacion: 46\n",
      "Fitness medio: 0.6301218637992833\n",
      "Fitness mejor individuo: 0.6934289127837515\n",
      "###################################################\n",
      "Generacion: 47\n",
      "Fitness medio: 0.6209940262843489\n",
      "Fitness mejor individuo: 0.6951015531660693\n",
      "###################################################\n",
      "Generacion: 48\n",
      "Fitness medio: 0.6252807646356033\n",
      "Fitness mejor individuo: 0.6989247311827957\n",
      "###################################################\n",
      "Generacion: 49\n",
      "Fitness medio: 0.618547192353644\n",
      "Fitness mejor individuo: 0.6891278375149343\n",
      "###################################################\n",
      "Generacion: 50\n",
      "Fitness medio: 0.6155603345280765\n",
      "Fitness mejor individuo: 0.6965352449223416\n",
      "###################################################\n",
      "Generacion: 51\n",
      "Fitness medio: 0.6057729988052569\n",
      "Fitness mejor individuo: 0.6974910394265234\n",
      "###################################################\n",
      "Generacion: 52\n",
      "Fitness medio: 0.617405017921147\n",
      "Fitness mejor individuo: 0.7001194743130227\n",
      "###################################################\n",
      "Generacion: 53\n",
      "Fitness medio: 0.6162341696535245\n",
      "Fitness mejor individuo: 0.7060931899641577\n",
      "###################################################\n",
      "Generacion: 54\n",
      "Fitness medio: 0.5955459976105137\n",
      "Fitness mejor individuo: 0.7053763440860215\n",
      "###################################################\n",
      "Generacion: 55\n",
      "Fitness medio: 0.5580358422939069\n",
      "Fitness mejor individuo: 0.6979689366786141\n",
      "###################################################\n",
      "Generacion: 56\n",
      "Fitness medio: 0.5887550776583034\n",
      "Fitness mejor individuo: 0.6979689366786141\n",
      "###################################################\n",
      "Generacion: 57\n",
      "Fitness medio: 0.5873166069295102\n",
      "Fitness mejor individuo: 0.7046594982078853\n",
      "###################################################\n",
      "Generacion: 58\n",
      "Fitness medio: 0.6057252090800478\n",
      "Fitness mejor individuo: 0.7072879330943848\n",
      "###################################################\n",
      "Generacion: 59\n",
      "Fitness medio: 0.6064038231780168\n",
      "Fitness mejor individuo: 0.7037037037037037\n",
      "###################################################\n",
      "Generacion: 60\n",
      "Fitness medio: 0.6328458781362007\n",
      "Fitness mejor individuo: 0.7027479091995221\n",
      "###################################################\n",
      "Generacion: 61\n",
      "Fitness medio: 0.6286260454002389\n",
      "Fitness mejor individuo: 0.7032258064516129\n",
      "###################################################\n",
      "Generacion: 62\n",
      "Fitness medio: 0.6283679808841098\n",
      "Fitness mejor individuo: 0.698446833930705\n",
      "###################################################\n",
      "Generacion: 63\n",
      "Fitness medio: 0.6378542413381124\n",
      "Fitness mejor individuo: 0.7065710872162485\n",
      "###################################################\n",
      "Generacion: 64\n",
      "Fitness medio: 0.607426523297491\n",
      "Fitness mejor individuo: 0.7163679808841099\n",
      "###################################################\n",
      "Generacion: 65\n",
      "Fitness medio: 0.6114647550776584\n",
      "Fitness mejor individuo: 0.7139784946236559\n",
      "###################################################\n",
      "Generacion: 66\n",
      "Fitness medio: 0.6250848267622461\n",
      "Fitness mejor individuo: 0.6958183990442055\n",
      "###################################################\n",
      "Generacion: 67\n",
      "Fitness medio: 0.6333333333333333\n",
      "Fitness mejor individuo: 0.7072879330943848\n",
      "###################################################\n",
      "Generacion: 68\n",
      "Fitness medio: 0.6384659498207885\n",
      "Fitness mejor individuo: 0.7225806451612903\n",
      "###################################################\n",
      "Generacion: 69\n",
      "Fitness medio: 0.6572043010752688\n",
      "Fitness mejor individuo: 0.7335722819593787\n",
      "###################################################\n",
      "Generacion: 70\n",
      "Fitness medio: 0.6570322580645162\n",
      "Fitness mejor individuo: 0.7340501792114695\n",
      "###################################################\n",
      "Generacion: 71\n",
      "Fitness medio: 0.634700119474313\n",
      "Fitness mejor individuo: 0.7340501792114695\n",
      "###################################################\n",
      "Generacion: 72\n",
      "Fitness medio: 0.5956463560334528\n",
      "Fitness mejor individuo: 0.7209080047789725\n",
      "###################################################\n",
      "Generacion: 73\n",
      "Fitness medio: 0.6119569892473119\n",
      "Fitness mejor individuo: 0.7127837514934289\n",
      "###################################################\n",
      "Generacion: 74\n",
      "Fitness medio: 0.6230346475507766\n",
      "Fitness mejor individuo: 0.7166069295101554\n",
      "###################################################\n",
      "Generacion: 75\n",
      "Fitness medio: 0.6149056152927121\n",
      "Fitness mejor individuo: 0.7168458781362007\n",
      "###################################################\n",
      "Generacion: 76\n",
      "Fitness medio: 0.6109820788530466\n",
      "Fitness mejor individuo: 0.7216248506571087\n",
      "###################################################\n",
      "Generacion: 77\n",
      "Fitness medio: 0.5874838709677419\n",
      "Fitness mejor individuo: 0.7194743130227002\n",
      "###################################################\n",
      "Generacion: 78\n",
      "Fitness medio: 0.5871445639187575\n",
      "Fitness mejor individuo: 0.7161290322580646\n",
      "###################################################\n",
      "Generacion: 79\n",
      "Fitness medio: 0.6074074074074074\n",
      "Fitness mejor individuo: 0.7161290322580646\n",
      "###################################################\n",
      "Generacion: 80\n",
      "Fitness medio: 0.6061505376344086\n",
      "Fitness mejor individuo: 0.7142174432497013\n",
      "###################################################\n",
      "Generacion: 81\n",
      "Fitness medio: 0.6158136200716846\n",
      "Fitness mejor individuo: 0.7154121863799283\n",
      "###################################################\n",
      "Generacion: 82\n",
      "Fitness medio: 0.6065758661887695\n",
      "Fitness mejor individuo: 0.7211469534050179\n",
      "###################################################\n",
      "Generacion: 83\n",
      "Fitness medio: 0.6091995221027479\n",
      "Fitness mejor individuo: 0.719952210274791\n",
      "###################################################\n",
      "Generacion: 84\n",
      "Fitness medio: 0.6300836320191159\n",
      "Fitness mejor individuo: 0.7252090800477897\n",
      "###################################################\n",
      "Generacion: 85\n",
      "Fitness medio: 0.6386475507765831\n",
      "Fitness mejor individuo: 0.7278375149342892\n",
      "###################################################\n",
      "Generacion: 86\n",
      "Fitness medio: 0.6156798088410991\n",
      "Fitness mejor individuo: 0.7290322580645161\n",
      "###################################################\n",
      "Generacion: 87\n",
      "Fitness medio: 0.6378016726403823\n",
      "Fitness mejor individuo: 0.7297491039426524\n",
      "###################################################\n",
      "Generacion: 88\n",
      "Fitness medio: 0.6381266427718041\n",
      "Fitness mejor individuo: 0.7440860215053764\n",
      "###################################################\n",
      "Generacion: 89\n",
      "Fitness medio: 0.6239808841099165\n",
      "Fitness mejor individuo: 0.7316606929510155\n",
      "###################################################\n",
      "Generacion: 90\n",
      "Fitness medio: 0.6111780167264037\n",
      "Fitness mejor individuo: 0.7299880525686977\n",
      "###################################################\n",
      "Generacion: 91\n",
      "Fitness medio: 0.5936965352449224\n",
      "Fitness mejor individuo: 0.7280764635603345\n",
      "###################################################\n",
      "Generacion: 92\n",
      "Fitness medio: 0.6029725209080048\n",
      "Fitness mejor individuo: 0.7278375149342892\n",
      "###################################################\n",
      "Generacion: 93\n",
      "Fitness medio: 0.6115794504181601\n",
      "Fitness mejor individuo: 0.7280764635603345\n",
      "###################################################\n",
      "Generacion: 94\n",
      "Fitness medio: 0.6252712066905616\n",
      "Fitness mejor individuo: 0.7278375149342892\n",
      "###################################################\n",
      "Generacion: 95\n",
      "Fitness medio: 0.6455436081242533\n",
      "Fitness mejor individuo: 0.7213859020310633\n",
      "###################################################\n",
      "Generacion: 96\n",
      "Fitness medio: 0.6343464755077659\n",
      "Fitness mejor individuo: 0.7285543608124253\n",
      "###################################################\n",
      "Generacion: 97\n",
      "Fitness medio: 0.6264181600955794\n",
      "Fitness mejor individuo: 0.7443249701314217\n",
      "###################################################\n",
      "Generacion: 98\n",
      "Fitness medio: 0.6204587813620072\n",
      "Fitness mejor individuo: 0.7378733572281959\n",
      "###################################################\n",
      "Generacion: 99\n",
      "Fitness medio: 0.6441720430107526\n",
      "Fitness mejor individuo: 0.7424133811230585\n",
      "###################################################\n",
      "Generacion: 100\n",
      "Fitness medio: 0.6386571087216248\n",
      "Fitness mejor individuo: 0.7421744324970131\n",
      "###################################################\n"
     ]
    }
   ],
   "source": [
    "dataset = Datos('titanic.data')\n",
    "\n",
    "transformar_datos(dataset)\n",
    "datostrain, datostest = get_train_test(dataset)\n",
    "\n",
    "ag = AlgoritmoGenetico()\n",
    "ag.entrenamiento(datostrain, dataset.nominalAtributos, dataset.diccionario, tamanio_poblacion=50, n_epocas=100, reglas_por_ind=5)"
   ]
  },
  {
   "cell_type": "markdown",
   "metadata": {},
   "source": [
    "Imprimimos el mejor individuo de la última generación."
   ]
  },
  {
   "cell_type": "code",
   "execution_count": 4,
   "metadata": {},
   "outputs": [
    {
     "name": "stdout",
     "output_type": "stream",
     "text": [
      "[[1 1 0 1 0 1 0 0 1 1 1 1 1 1 0 1 1 0 1 0 1 1]\n",
      " [1 1 0 1 0 1 0 1 1 0 0 0 1 0 1 1 1 1 0 1 1 1]\n",
      " [1 1 1 1 0 1 1 0 1 1 1 0 1 1 1 1 1 1 1 1 1 1]\n",
      " [1 1 1 1 0 1 0 1 1 1 1 1 1 1 0 1 1 1 1 0 0 1]\n",
      " [1 1 0 1 0 1 1 0 1 0 1 1 1 1 1 1 1 1 0 1 1 1]]\n"
     ]
    }
   ],
   "source": [
    "print(ag.ultimo_individuo)"
   ]
  },
  {
   "cell_type": "code",
   "execution_count": 5,
   "metadata": {},
   "outputs": [],
   "source": [
    "pred = ag.clasifica(datostest, dataset.nominalAtributos, dataset.diccionario)"
   ]
  },
  {
   "cell_type": "markdown",
   "metadata": {},
   "source": [
    "Y el porcentaje de error, siendo este en general menor del 25%."
   ]
  },
  {
   "cell_type": "code",
   "execution_count": 6,
   "metadata": {},
   "outputs": [
    {
     "name": "stdout",
     "output_type": "stream",
     "text": [
      "0.22966507177033493\n"
     ]
    }
   ],
   "source": [
    "print(ag.error(datostest, pred))"
   ]
  },
  {
   "cell_type": "markdown",
   "metadata": {},
   "source": [
    "<h1> Apartado 1 </h1>"
   ]
  },
  {
   "cell_type": "markdown",
   "metadata": {},
   "source": [
    "<h3> a. Generación de la población inicial </h3>"
   ]
  },
  {
   "cell_type": "markdown",
   "metadata": {},
   "source": [
    "Dado el conjunto de datos de train, para cada dato perteneciente a este creamos una regla. \n",
    "\n",
    "Después, para cada individuo seleccionamos *reglas_por_ind* reglas de forma aleatoria.\n",
    "\n",
    "De forma más esquemática, a partir de datostrain generamos el conjunto de reglas $R$ = {$r_1$, $r_2$, $r_3$, ..., $r_n$} donde $n$ es el número de elementos en datostrain. \n",
    "\n",
    "A partir de estas reglas generamos {$I_1$, $I_2$, ..., $I_k$} individuos donde k es el dato correspondiente al parámetro *tamanio_poblacion*.\n",
    "\n",
    "Para obtener un individuo seleccionamos de forma aleatoria *reglas_por_ind* reglas del conjunto $R$."
   ]
  },
  {
   "cell_type": "markdown",
   "metadata": {},
   "source": [
    "<h3> b. Mecanismo de cruce implementado </h3>"
   ]
  },
  {
   "cell_type": "markdown",
   "metadata": {},
   "source": [
    "Implementamos varias posibilidades para cruce. El mecanismo de cruce es controlado por el prámetro *puntos_cruce* cuyo valor por defecto es 1. \n",
    "\n",
    "En caso de que este parámetro sea None, se utiliza el cruce uniforme. En caso contrario, cruce en el número de puntos especificado por este párametro."
   ]
  },
  {
   "cell_type": "markdown",
   "metadata": {},
   "source": [
    "**Cruce uniforme**"
   ]
  },
  {
   "cell_type": "markdown",
   "metadata": {},
   "source": [
    "Dado un bit del hijo1, se elige de forma aleatoria de que padre proviene este bit, el otro hijo heredara el bit de otro padre. "
   ]
  },
  {
   "cell_type": "markdown",
   "metadata": {},
   "source": [
    "**Cruce en n puntos**"
   ]
  },
  {
   "cell_type": "markdown",
   "metadata": {},
   "source": [
    "Se eligen n puntos de forma aleatoria. Los dos padres se dividen por estos puntos. Los dos hijos se producen al intercalar las partes de los padres.\n",
    "\n",
    "Por ejemplo, siendo los padres 111111 y 000000 con dos puntos de cruce (1, y 4) los hijos serían: 100011 y 011100. "
   ]
  },
  {
   "cell_type": "markdown",
   "metadata": {},
   "source": [
    "<h3> c. Mecanismo de mutación implementado </h3>"
   ]
  },
  {
   "cell_type": "markdown",
   "metadata": {},
   "source": [
    "Para cada individuo de la población, para cada regla de este individuo y por cada bit de la regla se genera un número aleatorio. En el caso de que este número sea menor a *p_mutacion*, este bit se cambia.\n",
    "\n",
    "La probabilidad *p_mutacion* es la probabilidad de que un bit en concreto cambie. La probabilidad de que surja una mutación en un individuo sería *p_mutacion* por el número de bits que componen el individuo."
   ]
  },
  {
   "cell_type": "markdown",
   "metadata": {},
   "source": [
    "<h3> d. Mecanismo de clasificación implementado </h3>"
   ]
  },
  {
   "cell_type": "markdown",
   "metadata": {},
   "source": [
    "Para cada dato del conjunto de test se realiza lo siguiente. \n",
    "\n",
    "Se tiene un contador de votos para cada clase. \n",
    "Para cada regla que contiene el mejor individuo se mira si el dato cumple esa regla, en caso de cumplirla, se suma un voto a la clase de la regla, en caso contrario, se suma un voto a la hora clase. \n",
    "\n",
    "Se devuelve la clase más votada. "
   ]
  },
  {
   "cell_type": "markdown",
   "metadata": {},
   "source": [
    "<h1> Apartado 2 </h1>"
   ]
  },
  {
   "cell_type": "markdown",
   "metadata": {},
   "source": [
    "<h3> a. Conjunto de datos: tic-tac-toe </h3"
   ]
  },
  {
   "cell_type": "markdown",
   "metadata": {},
   "source": [
    "Obtenemos los conjuntos de test y train en formato adecuado."
   ]
  },
  {
   "cell_type": "code",
   "execution_count": 7,
   "metadata": {},
   "outputs": [],
   "source": [
    "dataset = Datos('tic-tac-toe.data')\n",
    "\n",
    "transformar_datos(dataset)\n",
    "datostrain, datostest = get_train_test(dataset)"
   ]
  },
  {
   "cell_type": "markdown",
   "metadata": {},
   "source": [
    "**Porcentaje de aciertos frente al tamaño de la población**"
   ]
  },
  {
   "cell_type": "markdown",
   "metadata": {},
   "source": [
    "Ejecutamos el algoritmo con *tamanio_poblacion* variando entre 50 y 200 individuos de 10 en 10 con *n_epocas* fijo en 20 (se fija un número bajo por los tiempos de ejecución).\n",
    "\n",
    "En el resto de parámetros se utilizan los valores por defecto:\n",
    "\n",
    "    elitismo=0.05\n",
    "    puntos_cruce=1\n",
    "    p_mutacion=0.02\n",
    "    reglas_por_ind=3"
   ]
  },
  {
   "cell_type": "code",
   "execution_count": 12,
   "metadata": {},
   "outputs": [
    {
     "name": "stdout",
     "output_type": "stream",
     "text": [
      "192\n",
      "[True, True, True, True, True, True, True, True, True, True]\n"
     ]
    }
   ],
   "source": [
    "ag = AlgoritmoGenetico()\n",
    "porcentaje_aciertos_tic_tam = []"
   ]
  },
  {
   "cell_type": "code",
   "execution_count": null,
   "metadata": {},
   "outputs": [],
   "source": [
    "for tam in range(50, 201, 10):\n",
    "    print(\"Numero de individuos: \" + str(tam))\n",
    "    ag.entrenamiento(datostrain, dataset.nominalAtributos, dataset.diccionario, tamanio_poblacion=tam, n_epocas=20)\n",
    "    pred = ag.clasifica(datostest, dataset.nominalAtributos, dataset.diccionario)\n",
    "    porcentaje_aciertos_tic_tam.append(1-ag.error(datostest, pred))\n",
    "    print(porcentaje_aciertos_tic_tam[-1])\n",
    "    "
   ]
  },
  {
   "cell_type": "code",
   "execution_count": null,
   "metadata": {},
   "outputs": [],
   "source": [
    "plt.figure()\n",
    "plt.plot(range(50, 201, 10), porcentaje_aciertos_tic_tam)\n",
    "#plt.legend()\n",
    "#plt.ylim(0.5, 1)\n",
    "plt.xlabel(\"Tamanio de la poblacion\")\n",
    "plt.ylabel(\"Porcentaje de aciertos\")\n",
    "plt.title(\"Porcentaje de aciertos frente al tamanio de la poblacion\")\n",
    "plt.show()"
   ]
  },
  {
   "cell_type": "markdown",
   "metadata": {},
   "source": [
    "**Porcentaje de aciertos frente al número de épocas**"
   ]
  },
  {
   "cell_type": "markdown",
   "metadata": {},
   "source": [
    "Ejecutamos el algoritmo con *n_epocas* variando entre 50 y 200 de 10 en 10 con *tamanio_pobalcion* fijo en 20 (se fija un número bajo por los tiempos de ejecución).\n",
    "\n",
    "En el resto de parámetros se utilizan los valores por defecto:\n",
    "\n",
    "    elitismo=0.05\n",
    "    puntos_cruce=1\n",
    "    p_mutacion=0.02\n",
    "    reglas_por_ind=3"
   ]
  },
  {
   "cell_type": "code",
   "execution_count": null,
   "metadata": {},
   "outputs": [],
   "source": [
    "porcentaje_aciertos_tic_epocas = []"
   ]
  },
  {
   "cell_type": "code",
   "execution_count": null,
   "metadata": {},
   "outputs": [],
   "source": [
    "for n_epocas in range(50, 201, 10):\n",
    "    print(\"Numero de epocas: \" + str(tam))\n",
    "    ag.entrenamiento(datostrain, dataset.nominalAtributos, dataset.diccionario, tamanio_poblacion=20, n_epocas=n_epocas, flag_print=False)\n",
    "    pred = ag.clasifica(datostest, dataset.nominalAtributos, dataset.diccionario)\n",
    "    porcentaje_aciertos_tic_epocas.append(1-ag.error(datostest, pred))\n",
    "    print(porcentaje_aciertos_tic_epocas[-1])"
   ]
  },
  {
   "cell_type": "code",
   "execution_count": null,
   "metadata": {},
   "outputs": [],
   "source": [
    "plt.figure()\n",
    "plt.plot(range(50, 201, 10), porcentaje_aciertos_tic_epocas)\n",
    "#plt.legend()\n",
    "#plt.ylim(0.5, 1)\n",
    "plt.xlabel(\"Numero de epocas\")\n",
    "plt.ylabel(\"Porcentaje de aciertos\")\n",
    "plt.title(\"Porcentaje de aciertos frente al numero de epocas\")\n",
    "plt.show()"
   ]
  },
  {
   "cell_type": "markdown",
   "metadata": {},
   "source": [
    "Lo esperado es que los resultados mejoren a medida que aumenten ambos parámetros aunque estabilizandose en un cierto punto.\n",
    "\n",
    "Así que, ejecutamos una vez más el algoritmo escogiedo los valores altos para cada parámetro, comprobando que el porcentaje de aciertos es mayor, e imprimimos el mejor individuo generado."
   ]
  },
  {
   "cell_type": "code",
   "execution_count": null,
   "metadata": {},
   "outputs": [],
   "source": [
    "ag.entrenamiento(datostrain, dataset.nominalAtributos, dataset.diccionario, tamanio_poblacion=150, n_epocas=100, flag_print=False)"
   ]
  },
  {
   "cell_type": "code",
   "execution_count": null,
   "metadata": {},
   "outputs": [],
   "source": [
    "pred = ag.clasifica(datostest, dataset.nominalAtributos, dataset.diccionario)\n",
    "print(\"Porcentaje de aciertos: \", 1-ag.error(datostest, pred))\n",
    "print(\"Mejor individuo:\")\n",
    "print(ag.ultimo_individuo)"
   ]
  },
  {
   "cell_type": "markdown",
   "metadata": {},
   "source": [
    "<h3> b. Conjunto de datos: titanic </h3>"
   ]
  },
  {
   "cell_type": "markdown",
   "metadata": {},
   "source": [
    "Obtenemos los conjuntos de test y train en formato adecuado."
   ]
  },
  {
   "cell_type": "code",
   "execution_count": 80,
   "metadata": {},
   "outputs": [],
   "source": [
    "dataset = Datos('titanic.data')\n",
    "\n",
    "transformar_datos(dataset)\n",
    "datostrain, datostest = get_train_test(dataset)"
   ]
  },
  {
   "cell_type": "markdown",
   "metadata": {},
   "source": [
    "**Porcentaje de aciertos frente al tamaño de la población**"
   ]
  },
  {
   "cell_type": "markdown",
   "metadata": {},
   "source": [
    "Ejecutamos el algoritmo con *tamanio_poblacion* variando entre 50 y 200 individuos de 10 en 10 con *n_epocas* fijo en 20 (se fija un número bajo por los tiempos de ejecución).\n",
    "\n",
    "En el resto de parámetros se utilizan los valores por defecto:\n",
    "\n",
    "    elitismo=0.05\n",
    "    puntos_cruce=1\n",
    "    p_mutacion=0.02\n",
    "    reglas_por_ind=3"
   ]
  },
  {
   "cell_type": "code",
   "execution_count": 81,
   "metadata": {},
   "outputs": [],
   "source": [
    "ag = AlgoritmoGenetico()\n",
    "porcentaje_aciertos_titanic_tam = []"
   ]
  },
  {
   "cell_type": "code",
   "execution_count": 82,
   "metadata": {},
   "outputs": [
    {
     "name": "stdout",
     "output_type": "stream",
     "text": [
      "Numero de individuos: 50\n",
      "0.5598086124401913\n",
      "Numero de individuos: 60\n",
      "0.6172248803827751\n",
      "Numero de individuos: 70\n",
      "0.6602870813397129\n",
      "Numero de individuos: 80\n",
      "0.6363636363636364\n",
      "Numero de individuos: 90\n",
      "0.5311004784688995\n",
      "Numero de individuos: 100\n",
      "0.5789473684210527\n",
      "Numero de individuos: 110\n",
      "0.569377990430622\n",
      "Numero de individuos: 120\n",
      "0.6507177033492824\n",
      "Numero de individuos: 130\n",
      "0.6842105263157895\n",
      "Numero de individuos: 140\n",
      "0.6411483253588517\n",
      "Numero de individuos: 150\n",
      "0.6842105263157895\n",
      "Numero de individuos: 160\n",
      "0.6220095693779905\n",
      "Numero de individuos: 170\n",
      "0.6124401913875598\n",
      "Numero de individuos: 180\n",
      "0.69377990430622\n",
      "Numero de individuos: 190\n",
      "0.6698564593301435\n",
      "Numero de individuos: 200\n",
      "0.6459330143540669\n"
     ]
    }
   ],
   "source": [
    "for tam in range(50, 201, 10):\n",
    "    print(\"Numero de individuos: \" + str(tam))\n",
    "    ag.entrenamiento(datostrain, dataset.nominalAtributos, dataset.diccionario, tamanio_poblacion=tam, n_epocas=20, flag_print=False)\n",
    "    pred = ag.clasifica(datostest, dataset.nominalAtributos, dataset.diccionario)\n",
    "    porcentaje_aciertos_titanic_tam.append(1-ag.error(datostest, pred))\n",
    "    print(porcentaje_aciertos_titanic_tam[-1])"
   ]
  },
  {
   "cell_type": "code",
   "execution_count": 83,
   "metadata": {},
   "outputs": [
    {
     "data": {
      "image/png": "[encoded data removed]",
      "text/plain": [
       "<Figure size 432x288 with 1 Axes>"
      ]
     },
     "metadata": {
      "needs_background": "light"
     },
     "output_type": "display_data"
    }
   ],
   "source": [
    "plt.figure()\n",
    "plt.plot(range(50, 201, 10), porcentaje_aciertos_titanic_tam)\n",
    "plt.ylim(0.5, 1)\n",
    "plt.xlabel(\"Tamanio de la poblacion\")\n",
    "plt.ylabel(\"Porcentaje de aciertos\")\n",
    "plt.title(\"Porcentaje de aciertos frente al tamanio de la poblacion\")\n",
    "plt.show()"
   ]
  },
  {
   "cell_type": "markdown",
   "metadata": {},
   "source": [
    "**Porcentaje de aciertos frente al número de épocas**"
   ]
  },
  {
   "cell_type": "markdown",
   "metadata": {},
   "source": [
    "Ejecutamos el algoritmo con *n_epocas* variando entre 50 y 200 de 10 en 10 con *tamanio_pobalcion* fijo en 20 (se fija un número bajo por los tiempos de ejecución).\n",
    "\n",
    "En el resto de parámetros se utilizan los valores por defecto:\n",
    "\n",
    "    elitismo=0.05\n",
    "    puntos_cruce=1\n",
    "    p_mutacion=0.01\n",
    "    reglas_por_ind=3"
   ]
  },
  {
   "cell_type": "code",
   "execution_count": 84,
   "metadata": {},
   "outputs": [],
   "source": [
    "porcentaje_aciertos_titanic_epocas = []"
   ]
  },
  {
   "cell_type": "code",
   "execution_count": null,
   "metadata": {},
   "outputs": [
    {
     "name": "stdout",
     "output_type": "stream",
     "text": [
      "Numero de epocas: 50\n"
     ]
    }
   ],
   "source": [
    "for n_epocas in range(50, 201, 10):\n",
    "    print(\"Numero de epocas: \" + str(n_epocas))\n",
    "    ag.entrenamiento(datostrain, dataset.nominalAtributos, dataset.diccionario, tamanio_poblacion=20, n_epocas=n_epocas, flag_print=False)\n",
    "    pred = ag.clasifica(datostest, dataset.nominalAtributos, dataset.diccionario)\n",
    "    porcentaje_aciertos_titanic_epocas.append(1-ag.error(datostest, pred))\n",
    "    print(porcentaje_aciertos_titanic_epocas[-1])"
   ]
  },
  {
   "cell_type": "code",
   "execution_count": null,
   "metadata": {},
   "outputs": [],
   "source": [
    "plt.figure()\n",
    "plt.plot(range(50, 201, 10), porcentaje_aciertos_titanic_epocas)\n",
    "plt.ylim(0.5, 1)\n",
    "plt.xlabel(\"Numero de epocas\")\n",
    "plt.ylabel(\"Porcentaje de aciertos\")\n",
    "plt.title(\"Porcentaje de aciertos frente al numero de epocas\")\n",
    "plt.show()"
   ]
  },
  {
   "cell_type": "markdown",
   "metadata": {},
   "source": [
    "Lo esperado es que los resultados mejoren a medida que aumenten ambos parámetros aunque estabilizandose en un cierto punto. Pero los datos que usamos pueden ser demasiado pequeños. \n",
    "\n",
    "Así que, ejecutamos una vez más el algoritmo escogiedo los valores altos para cada parámetro, comprobando que el porcentaje de aciertos es mayor, e imprimimos el mejor individuo generado."
   ]
  },
  {
   "cell_type": "code",
   "execution_count": null,
   "metadata": {},
   "outputs": [],
   "source": [
    "ag.entrenamiento(datostrain, dataset.nominalAtributos, dataset.diccionario, tamanio_poblacion=150, n_epocas=100, flag_print=False)"
   ]
  },
  {
   "cell_type": "code",
   "execution_count": null,
   "metadata": {},
   "outputs": [],
   "source": [
    "pred = ag.clasifica(datostest, dataset.nominalAtributos, dataset.diccionario)\n",
    "print(\"Porcentaje de aciertos: \", 1-ag.error(datostest, pred))\n",
    "print(\"Mejor individuo:\")\n",
    "print(ag.ultimo_individuo)"
   ]
  },
  {
   "cell_type": "markdown",
   "metadata": {},
   "source": [
    "<h1> Apartado 3 </h1>"
   ]
  },
  {
   "cell_type": "markdown",
   "metadata": {},
   "source": [
    "<h2> Conjunto de datos: tic-tac-toe <\\h2>"
   ]
  },
  {
   "cell_type": "code",
   "execution_count": null,
   "metadata": {},
   "outputs": [],
   "source": [
    "dataset = Datos('tic-tac-toe.data')\n",
    "\n",
    "transformar_datos(dataset)\n",
    "datostrain, datostest = get_train_test(dataset)"
   ]
  },
  {
   "cell_type": "markdown",
   "metadata": {},
   "source": [
    "<h3> a. Porcentaje de aciertos frente a número de reglas </h3>"
   ]
  },
  {
   "cell_type": "markdown",
   "metadata": {},
   "source": [
    "Ejecutamos el algoritmo con *reglas_por_ind* variando entre 1 y 10 con *n_epocas* = 50 y *tamanio_poblacion* = 50.\n",
    "\n",
    "En el resto de parámetros se utilizan los valores por defecto:\n",
    "\n",
    "    elitismo=0.05\n",
    "    puntos_cruce=1\n",
    "    p_mutacion=0.02"
   ]
  },
  {
   "cell_type": "code",
   "execution_count": null,
   "metadata": {},
   "outputs": [],
   "source": [
    "ag = AlgoritmoGenetico()\n",
    "porcentaje_aciertos_tic_reglas = []"
   ]
  },
  {
   "cell_type": "code",
   "execution_count": null,
   "metadata": {},
   "outputs": [],
   "source": [
    "for n_reglas in range(1, 11):\n",
    "    print(\"Numero de reglas por individuo: \" + str(n_reglas))\n",
    "    ag.entrenamiento(datostrain, dataset.nominalAtributos, dataset.diccionario, tamanio_poblacion=50, n_epocas=50, reglas_por_ind=n_reglas, flag_print=False)\n",
    "    pred = ag.clasifica(datostest, dataset.nominalAtributos, dataset.diccionario)\n",
    "    porcentaje_aciertos_tic_reglas.append(1-ag.error(datostest, pred))\n",
    "    print(porcentaje_aciertos_tic_reglas[-1])"
   ]
  },
  {
   "cell_type": "code",
   "execution_count": null,
   "metadata": {},
   "outputs": [],
   "source": [
    "plt.figure()\n",
    "plt.plot(range(1, 11), porcentaje_aciertos_tic_reglas)\n",
    "plt.ylim(0.5, 1)\n",
    "plt.xlabel(\"Numero de reglas por individuo\")\n",
    "plt.ylabel(\"Porcentaje de aciertos\")\n",
    "plt.title(\"Porcentaje de aciertos frente al numero de reglas por individuo\")\n",
    "plt.show()"
   ]
  },
  {
   "cell_type": "markdown",
   "metadata": {},
   "source": [
    "<h3> b. Porcentaje de aciertos frente a número de individuos </h3>"
   ]
  },
  {
   "cell_type": "markdown",
   "metadata": {},
   "source": [
    "Ya hemos tomado los datos en el apartado anteior pero volveremos a incluir la gráfica:"
   ]
  },
  {
   "cell_type": "code",
   "execution_count": null,
   "metadata": {},
   "outputs": [],
   "source": [
    "plt.figure()\n",
    "plt.plot(range(50, 201, 10), porcentaje_aciertos_tic_tam)\n",
    "plt.ylim(0.5, 1)\n",
    "plt.xlabel(\"Tamanio de la poblacion\")\n",
    "plt.ylabel(\"Porcentaje de aciertos\")\n",
    "plt.title(\"Porcentaje de aciertos frente al tamanio de la poblacion\")\n",
    "plt.show()"
   ]
  },
  {
   "cell_type": "markdown",
   "metadata": {},
   "source": [
    "<h3> c. Porcentaje de aciertos frente a número de generaciones </h3>"
   ]
  },
  {
   "cell_type": "code",
   "execution_count": null,
   "metadata": {},
   "outputs": [],
   "source": [
    "Ya hemos tomado los datos en el apartado anteior pero volveremos a incluir la gráfica:"
   ]
  },
  {
   "cell_type": "code",
   "execution_count": null,
   "metadata": {},
   "outputs": [],
   "source": [
    "plt.figure()\n",
    "plt.plot(range(50, 201, 10), porcentaje_aciertos_tic_epocas)\n",
    "plt.ylim(0.5, 1)\n",
    "plt.xlabel(\"Numero de epocas\")\n",
    "plt.ylabel(\"Porcentaje de aciertos\")\n",
    "plt.title(\"Porcentaje de aciertos frente al numero de epocas\")\n",
    "plt.show()"
   ]
  },
  {
   "cell_type": "markdown",
   "metadata": {},
   "source": [
    "<h3> d. Porcentaje de aciertos frente a tasa de cruce </h3>"
   ]
  },
  {
   "cell_type": "code",
   "execution_count": null,
   "metadata": {},
   "outputs": [],
   "source": [
    "Ejecutamos el algoritmo con *puntos_cruce* variando entre 1 y 10 con *n_epocas* = 50 y *tamanio_poblacion* = 50.\n",
    "\n",
    "En el resto de parámetros se utilizan los valores por defecto:\n",
    "\n",
    "    elitismo=0.05\n",
    "    p_mutacion=0.02\n",
    "    reglas_por_ind=3"
   ]
  },
  {
   "cell_type": "code",
   "execution_count": null,
   "metadata": {},
   "outputs": [],
   "source": [
    "ag = AlgoritmoGenetico()\n",
    "porcentaje_aciertos_tic_puntos = []"
   ]
  },
  {
   "cell_type": "code",
   "execution_count": null,
   "metadata": {},
   "outputs": [],
   "source": [
    "for n_puntos in range(1, 11):\n",
    "    print(\"Numero de puntos de cruce: \" + str(n_puntos))\n",
    "    ag.entrenamiento(datostrain, dataset.nominalAtributos, dataset.diccionario, tamanio_poblacion=50, n_epocas=50, puntos_cruce=n_puntos, flag_print=False)\n",
    "    pred = ag.clasifica(datostest, dataset.nominalAtributos, dataset.diccionario)\n",
    "    porcentaje_aciertos_tic_puntos.append(1-ag.error(datostest, pred))\n",
    "    print(porcentaje_aciertos_tic_puntos[-1])"
   ]
  },
  {
   "cell_type": "code",
   "execution_count": null,
   "metadata": {},
   "outputs": [],
   "source": [
    "plt.figure()\n",
    "plt.plot(range(1, 11), porcentaje_aciertos_tic_puntos)\n",
    "plt.ylim(0.5, 1)\n",
    "plt.xlabel(\"Numero de puntos de cruce\")\n",
    "plt.ylabel(\"Porcentaje de aciertos\")\n",
    "plt.title(\"Porcentaje de aciertos frente al numero de puntos de cruce\")\n",
    "plt.show()"
   ]
  },
  {
   "cell_type": "markdown",
   "metadata": {},
   "source": [
    "<h3> e. Porcentaje de aciertos frente a tasa de mutación </h3>"
   ]
  },
  {
   "cell_type": "code",
   "execution_count": null,
   "metadata": {},
   "outputs": [],
   "source": [
    "Ejecutamos el algoritmo con *p_mutacion* variando entre 0.001 y 0.1 con *n_epocas* = 50 y *tamanio_poblacion* = 50.\n",
    "\n",
    "En el resto de parámetros se utilizan los valores por defecto:\n",
    "\n",
    "    elitismo=0.05\n",
    "    puntos_cruce=1\n",
    "    reglas_por_ind=3"
   ]
  },
  {
   "cell_type": "code",
   "execution_count": null,
   "metadata": {},
   "outputs": [],
   "source": [
    "ag = AlgoritmoGenetico()\n",
    "porcentaje_aciertos_tic_pmut = []"
   ]
  },
  {
   "cell_type": "code",
   "execution_count": null,
   "metadata": {},
   "outputs": [],
   "source": [
    "p_mutaciones = [0.001, 0.005, 0.007, 0.01, 0.03, 0.05, 0.07, 0.09, 0.1]\n",
    "\n",
    "for p in p_mutaciones:\n",
    "    print(\"Probabilidad de mutacion: \" + str(p))\n",
    "    ag.entrenamiento(datostrain, dataset.nominalAtributos, dataset.diccionario, tamanio_poblacion=50, n_epocas=50, p_mutacion=p, flag_print=False)\n",
    "    pred = ag.clasifica(datostest, dataset.nominalAtributos, dataset.diccionario)\n",
    "    porcentaje_aciertos_tic_pmut.append(1-ag.error(datostest, pred))\n",
    "    print(porcentaje_aciertos_tic_pmut[-1])"
   ]
  },
  {
   "cell_type": "code",
   "execution_count": null,
   "metadata": {},
   "outputs": [],
   "source": [
    "plt.figure()\n",
    "plt.plot(p_mutaciones, porcentaje_aciertos_tic_pmut)\n",
    "plt.ylim(0.5, 1)\n",
    "plt.xlabel(\"Probabilidad de mutacion\")\n",
    "plt.ylabel(\"Porcentaje de aciertos\")\n",
    "plt.title(\"Porcentaje de aciertos frente a la probabilidad de mutacion\")\n",
    "plt.show()"
   ]
  },
  {
   "cell_type": "markdown",
   "metadata": {},
   "source": [
    "<h2> Conjunto de datos: titanic <\\h2>"
   ]
  },
  {
   "cell_type": "code",
   "execution_count": null,
   "metadata": {},
   "outputs": [],
   "source": [
    "dataset = Datos('titanic.data')\n",
    "\n",
    "transformar_datos(dataset)\n",
    "datostrain, datostest = get_train_test(dataset)"
   ]
  },
  {
   "cell_type": "markdown",
   "metadata": {},
   "source": [
    "<h3> a. Porcentaje de aciertos frente a número de reglas </h3>"
   ]
  },
  {
   "cell_type": "markdown",
   "metadata": {},
   "source": [
    "Ejecutamos el algoritmo con *reglas_por_ind* variando entre 1 y 10 con *n_epocas* = 50 y *tamanio_poblacion* = 50.\n",
    "\n",
    "En el resto de parámetros se utilizan los valores por defecto:\n",
    "\n",
    "    elitismo=0.05\n",
    "    puntos_cruce=1\n",
    "    p_mutacion=0.02"
   ]
  },
  {
   "cell_type": "code",
   "execution_count": null,
   "metadata": {},
   "outputs": [],
   "source": [
    "ag = AlgoritmoGenetico()\n",
    "porcentaje_aciertos_titanic_reglas = []"
   ]
  },
  {
   "cell_type": "code",
   "execution_count": null,
   "metadata": {},
   "outputs": [],
   "source": [
    "for n_reglas in range(1, 11):\n",
    "    print(\"Numero de reglas por individuo: \" + str(n_reglas))\n",
    "    ag.entrenamiento(datostrain, dataset.nominalAtributos, dataset.diccionario, tamanio_poblacion=50, n_epocas=50, reglas_por_ind=n_reglas, flag_print=False)\n",
    "    pred = ag.clasifica(datostest, dataset.nominalAtributos, dataset.diccionario)\n",
    "    porcentaje_aciertos_titanic_reglas.append(1-ag.error(datostest, pred))\n",
    "    print(porcentaje_aciertos_titanic_reglas[-1])"
   ]
  },
  {
   "cell_type": "code",
   "execution_count": null,
   "metadata": {},
   "outputs": [],
   "source": [
    "plt.figure()\n",
    "plt.plot(range(1, 11), porcentaje_aciertos_titanic_reglas)\n",
    "plt.ylim(0.5, 1)\n",
    "plt.xlabel(\"Numero de reglas por individuo\")\n",
    "plt.ylabel(\"Porcentaje de aciertos\")\n",
    "plt.title(\"Porcentaje de aciertos frente al numero de reglas por individuo\")\n",
    "plt.show()"
   ]
  },
  {
   "cell_type": "markdown",
   "metadata": {},
   "source": [
    "<h3> b. Porcentaje de aciertos frente a número de individuos </h3>"
   ]
  },
  {
   "cell_type": "markdown",
   "metadata": {},
   "source": [
    "Ya hemos tomado los datos en el apartado anteior pero volveremos a incluir la gráfica:"
   ]
  },
  {
   "cell_type": "code",
   "execution_count": null,
   "metadata": {},
   "outputs": [],
   "source": [
    "plt.figure()\n",
    "plt.plot(range(50, 201, 10), porcentaje_aciertos_titanic_tam)\n",
    "plt.ylim(0.5, 1)\n",
    "plt.xlabel(\"Tamanio de la poblacion\")\n",
    "plt.ylabel(\"Porcentaje de aciertos\")\n",
    "plt.title(\"Porcentaje de aciertos frente al tamanio de la poblacion\")\n",
    "plt.show()"
   ]
  },
  {
   "cell_type": "markdown",
   "metadata": {},
   "source": [
    "<h3> c. Porcentaje de aciertos frente a número de generaciones </h3>"
   ]
  },
  {
   "cell_type": "code",
   "execution_count": null,
   "metadata": {},
   "outputs": [],
   "source": [
    "Ya hemos tomado los datos en el apartado anteior pero volveremos a incluir la gráfica:"
   ]
  },
  {
   "cell_type": "code",
   "execution_count": null,
   "metadata": {},
   "outputs": [],
   "source": [
    "plt.figure()\n",
    "plt.plot(range(50, 201, 10), porcentaje_aciertos_titanic_epocas)\n",
    "plt.ylim(0.5, 1)\n",
    "plt.xlabel(\"Numero de epocas\")\n",
    "plt.ylabel(\"Porcentaje de aciertos\")\n",
    "plt.title(\"Porcentaje de aciertos frente al numero de epocas\")\n",
    "plt.show()"
   ]
  },
  {
   "cell_type": "markdown",
   "metadata": {},
   "source": [
    "<h3> d. Porcentaje de aciertos frente puntos de cruce </h3>"
   ]
  },
  {
   "cell_type": "code",
   "execution_count": null,
   "metadata": {},
   "outputs": [],
   "source": [
    "Ejecutamos el algoritmo con *puntos_cruce* variando entre 1 y 10 con *n_epocas* = 50 y *tamanio_poblacion* = 50.\n",
    "\n",
    "En el resto de parámetros se utilizan los valores por defecto:\n",
    "\n",
    "    elitismo=0.05\n",
    "    p_mutacion=0.02\n",
    "    reglas_por_ind=3"
   ]
  },
  {
   "cell_type": "code",
   "execution_count": null,
   "metadata": {},
   "outputs": [],
   "source": [
    "ag = AlgoritmoGenetico()\n",
    "porcentaje_aciertos_titanic_puntos = []"
   ]
  },
  {
   "cell_type": "code",
   "execution_count": null,
   "metadata": {},
   "outputs": [],
   "source": [
    "for n_puntos in range(1, 11):\n",
    "    print(\"Numero de puntos de cruce: \" + str(n_puntos))\n",
    "    ag.entrenamiento(datostrain, dataset.nominalAtributos, dataset.diccionario, tamanio_poblacion=50, n_epocas=50, puntos_cruce=n_puntos, flag_print=False)\n",
    "    pred = ag.clasifica(datostest, dataset.nominalAtributos, dataset.diccionario)\n",
    "    porcentaje_aciertos_titanic_puntos.append(1-ag.error(datostest, pred))\n",
    "    print(porcentaje_aciertos_titanic_puntos[-1])"
   ]
  },
  {
   "cell_type": "code",
   "execution_count": null,
   "metadata": {},
   "outputs": [],
   "source": [
    "plt.figure()\n",
    "plt.plot(range(1, 11), porcentaje_aciertos_titanic_puntos)\n",
    "plt.ylim(0.5, 1)\n",
    "plt.xlabel(\"Numero de puntos de cruce\")\n",
    "plt.ylabel(\"Porcentaje de aciertos\")\n",
    "plt.title(\"Porcentaje de aciertos frente al numero de puntos de cruce\")\n",
    "plt.show()"
   ]
  },
  {
   "cell_type": "markdown",
   "metadata": {},
   "source": [
    "<h3> e. Porcentaje de aciertos frente a tasa de mutación </h3>"
   ]
  },
  {
   "cell_type": "code",
   "execution_count": null,
   "metadata": {},
   "outputs": [],
   "source": [
    "Ejecutamos el algoritmo con *p_mutacion* variando entre 0.001 y 0.1 con *n_epocas* = 50 y *tamanio_poblacion* = 50.\n",
    "\n",
    "En el resto de parámetros se utilizan los valores por defecto:\n",
    "\n",
    "    elitismo=0.05\n",
    "    puntos_cruce=1\n",
    "    reglas_por_ind=3"
   ]
  },
  {
   "cell_type": "code",
   "execution_count": null,
   "metadata": {},
   "outputs": [],
   "source": [
    "ag = AlgoritmoGenetico()\n",
    "porcentaje_aciertos_titanic_pmut = []"
   ]
  },
  {
   "cell_type": "code",
   "execution_count": null,
   "metadata": {},
   "outputs": [],
   "source": [
    "p_mutaciones = [0.001, 0.005, 0.007, 0.01, 0.03, 0.05, 0.07, 0.09, 0.1]\n",
    "\n",
    "for p in p_mutaciones:\n",
    "    print(\"Probabilidad de mutacion: \" + str(p))\n",
    "    ag.entrenamiento(datostrain, dataset.nominalAtributos, dataset.diccionario, tamanio_poblacion=50, n_epocas=50, p_mutacion=p, flag_print=False)\n",
    "    pred = ag.clasifica(datostest, dataset.nominalAtributos, dataset.diccionario)\n",
    "    porcentaje_aciertos_titanic_pmut.append(1-ag.error(datostest, pred))\n",
    "    print(porcentaje_aciertos_titanic_pmut[-1])"
   ]
  },
  {
   "cell_type": "code",
   "execution_count": null,
   "metadata": {},
   "outputs": [],
   "source": [
    "plt.figure()\n",
    "plt.plot(p_mutaciones, porcentaje_aciertos_titanic_pmut)\n",
    "plt.ylim(0.5, 1)\n",
    "plt.xlabel(\"Probabilidad de mutacion\")\n",
    "plt.ylabel(\"Porcentaje de aciertos\")\n",
    "plt.title(\"Porcentaje de aciertos frente a la probabilidad de mutacion\")\n",
    "plt.show()"
   ]
  },
  {
   "cell_type": "markdown",
   "metadata": {},
   "source": [
    "<h1> Apartado 4 </h1>"
   ]
  },
  {
   "cell_type": "code",
   "execution_count": 64,
   "metadata": {},
   "outputs": [],
   "source": [
    "import sys\n",
    "from io import StringIO"
   ]
  },
  {
   "cell_type": "markdown",
   "metadata": {},
   "source": [
    "<h2> Conjunto de datos: tic-tac-toe <\\h2>"
   ]
  },
  {
   "cell_type": "code",
   "execution_count": 65,
   "metadata": {},
   "outputs": [],
   "source": [
    "stdout = sys.stdout\n",
    "s = StringIO()\n",
    "sys.stdout = s"
   ]
  },
  {
   "cell_type": "code",
   "execution_count": 66,
   "metadata": {},
   "outputs": [],
   "source": [
    "dataset = Datos('tic-tac-toe.data')\n",
    "\n",
    "transformar_datos(dataset)\n",
    "datostrain, datostest = get_train_test(dataset)\n",
    "\n",
    "ag = AlgoritmoGenetico()\n",
    "ag.entrenamiento(datostrain, dataset.nominalAtributos, dataset.diccionario, tamanio_poblacion=50, n_epocas=100, reglas_por_ind=5)"
   ]
  },
  {
   "cell_type": "code",
   "execution_count": 67,
   "metadata": {},
   "outputs": [],
   "source": [
    "sys.stdout = stdout\n",
    "arr = s.seek(0)\n",
    "arr = s.read().split('\\n')"
   ]
  },
  {
   "cell_type": "code",
   "execution_count": 68,
   "metadata": {},
   "outputs": [],
   "source": [
    "datos_mejor_tic = []\n",
    "datos_medio_tic = []\n",
    "\n",
    "for i in range(0, len(arr)-1, 4):\n",
    "    datos_medio_tic.append(arr[i+1].split()[2])\n",
    "    datos_mejor_tic.append(arr[i+2].split()[3])\n",
    "\n",
    "datos_mejor_tic = list(map(float, datos_mejor_tic))\n",
    "datos_medio_tic = list(map(float, datos_medio_tic))"
   ]
  },
  {
   "cell_type": "markdown",
   "metadata": {},
   "source": [
    "<h3> a. Evolución del fitness del mejor individuo de la población </h3>"
   ]
  },
  {
   "cell_type": "code",
   "execution_count": 69,
   "metadata": {},
   "outputs": [
    {
     "data": {
      "image/png": "[encoded data removed]",
      "text/plain": [
       "<Figure size 432x288 with 1 Axes>"
      ]
     },
     "metadata": {
      "needs_background": "light"
     },
     "output_type": "display_data"
    }
   ],
   "source": [
    "plt.figure()\n",
    "plt.plot(range(len(datos_mejor_tic)), datos_mejor_tic)\n",
    "plt.ylim(0.4, 1)\n",
    "plt.xlabel(\"Generacion\")\n",
    "plt.ylabel(\"Fitness del mejor individuo\")\n",
    "plt.title(\"Evolución del fitness del mejor individuo\")\n",
    "plt.show()"
   ]
  },
  {
   "cell_type": "markdown",
   "metadata": {},
   "source": [
    "<h3> b. Evolución del fitness medio de la población </h3>"
   ]
  },
  {
   "cell_type": "code",
   "execution_count": 70,
   "metadata": {},
   "outputs": [
    {
     "data": {
      "image/png": "[encoded data removed]",
      "text/plain": [
       "<Figure size 432x288 with 1 Axes>"
      ]
     },
     "metadata": {
      "needs_background": "light"
     },
     "output_type": "display_data"
    }
   ],
   "source": [
    "plt.figure()\n",
    "plt.plot(range(len(datos_medio_tic)), datos_medio_tic)\n",
    "plt.ylim(0.4, 1)\n",
    "plt.xlabel(\"Generacion\")\n",
    "plt.ylabel(\"Fitness medio de la  poblacion\")\n",
    "plt.title(\"Evolución del fitness medio de la poblacion\")\n",
    "plt.show()"
   ]
  },
  {
   "cell_type": "markdown",
   "metadata": {},
   "source": [
    "Representando ambas gráficas en una imágen:"
   ]
  },
  {
   "cell_type": "code",
   "execution_count": 71,
   "metadata": {},
   "outputs": [
    {
     "data": {
      "image/png": "[encoded data removed]",
      "text/plain": [
       "<Figure size 432x288 with 1 Axes>"
      ]
     },
     "metadata": {
      "needs_background": "light"
     },
     "output_type": "display_data"
    }
   ],
   "source": [
    "plt.figure()\n",
    "plt.plot(range(len(datos_medio_tic)), datos_medio_tic, label='Fitness medio')\n",
    "plt.plot(range(len(datos_mejor_tic)), datos_mejor_tic, label='Fitness mejor individuo')\n",
    "plt.ylim(0.4, 1)\n",
    "plt.legend()\n",
    "plt.xlabel(\"Generacion\")\n",
    "plt.ylabel(\"Fitness\")\n",
    "plt.title(\"Evolución del fitness\")\n",
    "plt.show()"
   ]
  },
  {
   "cell_type": "markdown",
   "metadata": {},
   "source": [
    "<h2> Conjunto de datos: titanic <\\h2>"
   ]
  },
  {
   "cell_type": "code",
   "execution_count": 73,
   "metadata": {},
   "outputs": [],
   "source": [
    "stdout = sys.stdout\n",
    "s = StringIO()\n",
    "sys.stdout = s"
   ]
  },
  {
   "cell_type": "code",
   "execution_count": 74,
   "metadata": {},
   "outputs": [],
   "source": [
    "dataset = Datos('titanic.data')\n",
    "\n",
    "transformar_datos(dataset)\n",
    "datostrain, datostest = get_train_test(dataset)\n",
    "\n",
    "ag = AlgoritmoGenetico()\n",
    "ag.entrenamiento(datostrain, dataset.nominalAtributos, dataset.diccionario, tamanio_poblacion=50, n_epocas=100, reglas_por_ind=5)"
   ]
  },
  {
   "cell_type": "code",
   "execution_count": 75,
   "metadata": {},
   "outputs": [],
   "source": [
    "sys.stdout = stdout\n",
    "arr = s.seek(0)\n",
    "arr = s.read().split('\\n')"
   ]
  },
  {
   "cell_type": "code",
   "execution_count": 76,
   "metadata": {},
   "outputs": [],
   "source": [
    "datos_mejor_titanic = []\n",
    "datos_medio_titanic = []\n",
    "\n",
    "for i in range(0, len(arr)-1, 4):\n",
    "    datos_medio_titanic.append(arr[i+1].split()[2])\n",
    "    datos_mejor_titanic.append(arr[i+2].split()[3])\n",
    "\n",
    "datos_mejor_titanic = list(map(float, datos_mejor_titanic))\n",
    "datos_medio_titanic = list(map(float, datos_medio_titanic))"
   ]
  },
  {
   "cell_type": "markdown",
   "metadata": {},
   "source": [
    "<h3> a. Evolución del fitness del mejor individuo de la población </h3>"
   ]
  },
  {
   "cell_type": "code",
   "execution_count": 77,
   "metadata": {},
   "outputs": [
    {
     "data": {
      "image/png": "[encoded data removed]",
      "text/plain": [
       "<Figure size 432x288 with 1 Axes>"
      ]
     },
     "metadata": {
      "needs_background": "light"
     },
     "output_type": "display_data"
    }
   ],
   "source": [
    "plt.figure()\n",
    "plt.plot(range(len(datos_mejor_titanic)), datos_mejor_titanic)\n",
    "plt.ylim(0.4, 1)\n",
    "plt.xlabel(\"Generacion\")\n",
    "plt.ylabel(\"Fitness del mejor individuo\")\n",
    "plt.title(\"Evolución del fitness del mejor individuo\")\n",
    "plt.show()"
   ]
  },
  {
   "cell_type": "markdown",
   "metadata": {},
   "source": [
    "<h3> b. Evolución del fitness medio de la población </h3>"
   ]
  },
  {
   "cell_type": "code",
   "execution_count": 78,
   "metadata": {},
   "outputs": [
    {
     "data": {
      "image/png": "[encoded data removed]",
      "text/plain": [
       "<Figure size 432x288 with 1 Axes>"
      ]
     },
     "metadata": {
      "needs_background": "light"
     },
     "output_type": "display_data"
    }
   ],
   "source": [
    "plt.figure()\n",
    "plt.plot(range(len(datos_medio_titanic)), datos_medio_titanic)\n",
    "plt.ylim(0.4, 1)\n",
    "plt.xlabel(\"Generacion\")\n",
    "plt.ylabel(\"Fitness medio de la  poblacion\")\n",
    "plt.title(\"Evolución del fitness medio de la poblacion\")\n",
    "plt.show()"
   ]
  },
  {
   "cell_type": "markdown",
   "metadata": {},
   "source": [
    "Representando ambas gráficas en una imágen:"
   ]
  },
  {
   "cell_type": "code",
   "execution_count": 79,
   "metadata": {},
   "outputs": [
    {
     "data": {
      "image/png": "[encoded data removed]",
      "text/plain": [
       "<Figure size 432x288 with 1 Axes>"
      ]
     },
     "metadata": {
      "needs_background": "light"
     },
     "output_type": "display_data"
    }
   ],
   "source": [
    "plt.figure()\n",
    "plt.plot(range(len(datos_medio_titanic)), datos_medio_titanic, label='Fitness medio')\n",
    "plt.plot(range(len(datos_mejor_titanic)), datos_mejor_titanic, label='Fitness mejor individuo')\n",
    "plt.ylim(0.4, 1)\n",
    "plt.legend()\n",
    "plt.xlabel(\"Generacion\")\n",
    "plt.ylabel(\"Fitness\")\n",
    "plt.title(\"Evolución del fitness\")\n",
    "plt.show()"
   ]
  },
  {
   "cell_type": "markdown",
   "metadata": {},
   "source": [
    "<h1> Apartado 5 </h1>"
   ]
  },
  {
   "cell_type": "code",
   "execution_count": null,
   "metadata": {},
   "outputs": [],
   "source": []
  },
  {
   "cell_type": "code",
   "execution_count": null,
   "metadata": {},
   "outputs": [],
   "source": []
  },
  {
   "cell_type": "code",
   "execution_count": null,
   "metadata": {},
   "outputs": [],
   "source": []
  }
 ],
 "metadata": {
  "kernelspec": {
   "display_name": "Python 3",
   "language": "python",
   "name": "python3"
  },
  "language_info": {
   "codemirror_mode": {
    "name": "ipython",
    "version": 3
   },
   "file_extension": ".py",
   "mimetype": "text/x-python",
   "name": "python",
   "nbconvert_exporter": "python",
   "pygments_lexer": "ipython3",
   "version": "3.7.4"
  }
 },
 "nbformat": 4,
 "nbformat_minor": 4
}
