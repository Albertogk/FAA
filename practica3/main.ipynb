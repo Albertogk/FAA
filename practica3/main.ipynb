{
 "cells": [
  {
   "cell_type": "code",
   "execution_count": 1,
   "metadata": {},
   "outputs": [],
   "source": [
    "from Datos import Datos\n",
    "from EstrategiaParticionado import *\n",
    "from Clasificador import *\n",
    "import matplotlib.pyplot as plt\n",
    "import numpy as np"
   ]
  },
  {
   "cell_type": "markdown",
   "metadata": {},
   "source": [
    "<h2>Declaración de funciones generales</h2>"
   ]
  },
  {
   "cell_type": "code",
   "execution_count": 2,
   "metadata": {},
   "outputs": [],
   "source": [
    "def transformar_datos(dataset):\n",
    "    \n",
    "    # Utilizamos el diccionario para adaptar los datos\n",
    "    for i in range(dataset.datos.shape[0]):\n",
    "        for j in range(dataset.datos.shape[1]):\n",
    "            if dataset.nominalAtributos[j]:\n",
    "                dataset.datos[i, j] = dataset.diccionario[j][dataset.datos[i, j]]\n",
    "                \n",
    "    \n",
    "\n",
    "def get_train_test(dataset, seed=None, p=0.2):\n",
    "    vs = ValidacionSimple(p, 1)\n",
    "    particiones = vs.creaParticiones(len(dataset.datos), seed=seed)\n",
    "\n",
    "    datostrain = dataset.extraeDatos(particiones[0].indicesTrain)\n",
    "    datostest = dataset.extraeDatos(particiones[0].indicesTest)\n",
    "    datostrain = datostrain.astype('float32')\n",
    "    datostest = datostest.astype('float32')\n",
    "    return datostrain, datostest"
   ]
  },
  {
   "cell_type": "code",
   "execution_count": 3,
   "metadata": {},
   "outputs": [],
   "source": [
    "dataset = Datos('titanic.data')\n",
    "transformar_datos(dataset)\n",
    "\n",
    "ag = AlgoritmoGenetico()\n",
    "ag.entrenamiento(dataset.datos, dataset.nominalAtributos, dataset.diccionario)"
   ]
  },
  {
   "cell_type": "code",
   "execution_count": 4,
   "metadata": {},
   "outputs": [
    {
     "name": "stdout",
     "output_type": "stream",
     "text": [
      "[[1 0 0 ... 0 0 1]\n",
      " [1 0 0 ... 0 0 1]\n",
      " [1 0 0 ... 0 0 1]\n",
      " ...\n",
      " [1 0 0 ... 0 0 1]\n",
      " [1 0 0 ... 0 0 1]\n",
      " [1 0 0 ... 0 0 1]]\n"
     ]
    }
   ],
   "source": [
    "print(ag.mejor_individuo)"
   ]
  },
  {
   "cell_type": "code",
   "execution_count": null,
   "metadata": {},
   "outputs": [],
   "source": []
  }
 ],
 "metadata": {
  "kernelspec": {
   "display_name": "Python 3",
   "language": "python",
   "name": "python3"
  },
  "language_info": {
   "codemirror_mode": {
    "name": "ipython",
    "version": 3
   },
   "file_extension": ".py",
   "mimetype": "text/x-python",
   "name": "python",
   "nbconvert_exporter": "python",
   "pygments_lexer": "ipython3",
   "version": "3.7.4"
  }
 },
 "nbformat": 4,
 "nbformat_minor": 4
}
