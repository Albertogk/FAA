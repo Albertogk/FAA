{
 "cells": [
  {
   "cell_type": "code",
   "execution_count": 1,
   "metadata": {},
   "outputs": [],
   "source": [
    "from Datos import Datos\n",
    "from EstrategiaParticionado import *\n",
    "from Clasificador import *\n",
    "import matplotlib.pyplot as plt\n",
    "import numpy as np"
   ]
  },
  {
   "cell_type": "markdown",
   "metadata": {},
   "source": [
    "<h4>Declaración de funciones generales</h4>"
   ]
  },
  {
   "cell_type": "code",
   "execution_count": 2,
   "metadata": {},
   "outputs": [],
   "source": [
    "def transformar_datos(dataset):\n",
    "    \n",
    "    # Utilizamos el diccionario para adaptar los datos\n",
    "    for i in range(dataset.datos.shape[0]):\n",
    "        for j in range(dataset.datos.shape[1]):\n",
    "            if dataset.nominalAtributos[j]:\n",
    "                dataset.datos[i, j] = dataset.diccionario[j][dataset.datos[i, j]]\n",
    "                \n",
    "    \n",
    "\n",
    "def get_train_test(dataset, seed=None, p=0.2):\n",
    "    vs = ValidacionSimple(p, 1)\n",
    "    particiones = vs.creaParticiones(len(dataset.datos), seed=seed)\n",
    "\n",
    "    datostrain = dataset.extraeDatos(particiones[0].indicesTrain)\n",
    "    datostest = dataset.extraeDatos(particiones[0].indicesTest)\n",
    "    datostrain = datostrain.astype('float32')\n",
    "    datostest = datostest.astype('float32')\n",
    "    return datostrain, datostest"
   ]
  },
  {
   "cell_type": "markdown",
   "metadata": {},
   "source": [
    "<h4>Prueba inicial del funcionamiento del código</h4>"
   ]
  },
  {
   "cell_type": "code",
   "execution_count": 3,
   "metadata": {},
   "outputs": [
    {
     "name": "stdout",
     "output_type": "stream",
     "text": [
      "Generacion: 0\n",
      "Fitness medio: 0.49777777777777776\n",
      "Fitness mejor individuo: 0.604778972520908\n",
      "###################################################\n",
      "Generacion: 1\n",
      "Fitness medio: 0.5055722819593788\n",
      "Fitness mejor individuo: 0.6033452807646356\n",
      "###################################################\n",
      "Generacion: 2\n",
      "Fitness medio: 0.5022652329749103\n",
      "Fitness mejor individuo: 0.6062126642771805\n",
      "###################################################\n",
      "Generacion: 3\n",
      "Fitness medio: 0.4991971326164875\n",
      "Fitness mejor individuo: 0.6078853046594982\n",
      "###################################################\n",
      "Generacion: 4\n",
      "Fitness medio: 0.5154408602150538\n",
      "Fitness mejor individuo: 0.6088410991636798\n",
      "###################################################\n",
      "Generacion: 5\n",
      "Fitness medio: 0.5410083632019116\n",
      "Fitness mejor individuo: 0.6088410991636798\n",
      "###################################################\n",
      "Generacion: 6\n",
      "Fitness medio: 0.5530800477897252\n",
      "Fitness mejor individuo: 0.613142174432497\n",
      "###################################################\n",
      "Generacion: 7\n",
      "Fitness medio: 0.5696917562724014\n",
      "Fitness mejor individuo: 0.613142174432497\n",
      "###################################################\n",
      "Generacion: 8\n",
      "Fitness medio: 0.5580501792114695\n",
      "Fitness mejor individuo: 0.613142174432497\n",
      "###################################################\n",
      "Generacion: 9\n",
      "Fitness medio: 0.5744611708482676\n",
      "Fitness mejor individuo: 0.6157706093189964\n",
      "###################################################\n",
      "Generacion: 10\n",
      "Fitness medio: 0.572463560334528\n",
      "Fitness mejor individuo: 0.6162485065710872\n",
      "###################################################\n",
      "Generacion: 11\n",
      "Fitness medio: 0.579221027479092\n",
      "Fitness mejor individuo: 0.6210274790919952\n",
      "###################################################\n",
      "Generacion: 12\n",
      "Fitness medio: 0.5874982078853047\n",
      "Fitness mejor individuo: 0.617921146953405\n",
      "###################################################\n",
      "Generacion: 13\n",
      "Fitness medio: 0.6014814814814816\n",
      "Fitness mejor individuo: 0.622700119474313\n",
      "###################################################\n",
      "Generacion: 14\n",
      "Fitness medio: 0.6019928315412187\n",
      "Fitness mejor individuo: 0.6236559139784946\n",
      "###################################################\n",
      "Generacion: 15\n",
      "Fitness medio: 0.6013476702508961\n",
      "Fitness mejor individuo: 0.6255675029868578\n",
      "###################################################\n",
      "Generacion: 16\n",
      "Fitness medio: 0.6052186379928317\n",
      "Fitness mejor individuo: 0.6305854241338112\n",
      "###################################################\n",
      "Generacion: 17\n",
      "Fitness medio: 0.6022986857825567\n",
      "Fitness mejor individuo: 0.6305854241338112\n",
      "###################################################\n",
      "Generacion: 18\n",
      "Fitness medio: 0.6066427718040621\n",
      "Fitness mejor individuo: 0.633452807646356\n",
      "###################################################\n",
      "Generacion: 19\n",
      "Fitness medio: 0.6056439665471924\n",
      "Fitness mejor individuo: 0.633452807646356\n",
      "###################################################\n",
      "Generacion: 20\n",
      "Fitness medio: 0.6045591397849462\n",
      "Fitness mejor individuo: 0.6463560334528077\n",
      "###################################################\n",
      "Generacion: 21\n",
      "Fitness medio: 0.5990537634408603\n",
      "Fitness mejor individuo: 0.6463560334528077\n",
      "###################################################\n",
      "Generacion: 22\n",
      "Fitness medio: 0.6036750298685782\n",
      "Fitness mejor individuo: 0.6463560334528077\n",
      "###################################################\n",
      "Generacion: 23\n",
      "Fitness medio: 0.6024038231780167\n",
      "Fitness mejor individuo: 0.6463560334528077\n",
      "###################################################\n",
      "Generacion: 24\n",
      "Fitness medio: 0.6086642771804062\n",
      "Fitness mejor individuo: 0.6461170848267622\n",
      "###################################################\n",
      "Generacion: 25\n",
      "Fitness medio: 0.6133811230585424\n",
      "Fitness mejor individuo: 0.6461170848267622\n",
      "###################################################\n",
      "Generacion: 26\n",
      "Fitness medio: 0.61610513739546\n",
      "Fitness mejor individuo: 0.6461170848267622\n",
      "###################################################\n",
      "Generacion: 27\n",
      "Fitness medio: 0.6108673835125449\n",
      "Fitness mejor individuo: 0.6487455197132617\n",
      "###################################################\n",
      "Generacion: 28\n",
      "Fitness medio: 0.603584229390681\n",
      "Fitness mejor individuo: 0.6458781362007169\n",
      "###################################################\n",
      "Generacion: 29\n",
      "Fitness medio: 0.6142508960573477\n",
      "Fitness mejor individuo: 0.6518518518518519\n",
      "###################################################\n",
      "Generacion: 30\n",
      "Fitness medio: 0.6143273596176823\n",
      "Fitness mejor individuo: 0.6547192353643967\n",
      "###################################################\n",
      "Generacion: 31\n",
      "Fitness medio: 0.6145806451612903\n",
      "Fitness mejor individuo: 0.6604540023894863\n",
      "###################################################\n",
      "Generacion: 32\n",
      "Fitness medio: 0.6169557945041816\n",
      "Fitness mejor individuo: 0.6640382317801673\n",
      "###################################################\n",
      "Generacion: 33\n",
      "Fitness medio: 0.6082867383512545\n",
      "Fitness mejor individuo: 0.6609318996415771\n",
      "###################################################\n",
      "Generacion: 34\n",
      "Fitness medio: 0.6041816009557944\n",
      "Fitness mejor individuo: 0.6676224611708482\n",
      "###################################################\n",
      "Generacion: 35\n",
      "Fitness medio: 0.62405256869773\n",
      "Fitness mejor individuo: 0.6690561529271206\n",
      "###################################################\n",
      "Generacion: 36\n",
      "Fitness medio: 0.6329557945041816\n",
      "Fitness mejor individuo: 0.674074074074074\n",
      "###################################################\n",
      "Generacion: 37\n",
      "Fitness medio: 0.6277084826762246\n",
      "Fitness mejor individuo: 0.6750298685782556\n",
      "###################################################\n",
      "Generacion: 38\n",
      "Fitness medio: 0.6336248506571088\n",
      "Fitness mejor individuo: 0.6805256869772999\n",
      "###################################################\n",
      "Generacion: 39\n",
      "Fitness medio: 0.6487407407407407\n",
      "Fitness mejor individuo: 0.6833930704898447\n",
      "###################################################\n",
      "Generacion: 40\n",
      "Fitness medio: 0.6603345280764634\n",
      "Fitness mejor individuo: 0.6850657108721625\n",
      "###################################################\n",
      "Generacion: 41\n",
      "Fitness medio: 0.6607837514934289\n",
      "Fitness mejor individuo: 0.6850657108721625\n",
      "###################################################\n",
      "Generacion: 42\n",
      "Fitness medio: 0.657725209080048\n",
      "Fitness mejor individuo: 0.6893667861409797\n",
      "###################################################\n",
      "Generacion: 43\n",
      "Fitness medio: 0.6583847072879331\n",
      "Fitness mejor individuo: 0.6903225806451613\n",
      "###################################################\n",
      "Generacion: 44\n",
      "Fitness medio: 0.6599378733572283\n",
      "Fitness mejor individuo: 0.6910394265232975\n",
      "###################################################\n",
      "Generacion: 45\n",
      "Fitness medio: 0.6487025089605736\n",
      "Fitness mejor individuo: 0.6948626045400239\n",
      "###################################################\n",
      "Generacion: 46\n",
      "Fitness medio: 0.6493954599761053\n",
      "Fitness mejor individuo: 0.6948626045400239\n",
      "###################################################\n",
      "Generacion: 47\n",
      "Fitness medio: 0.6514360812425327\n",
      "Fitness mejor individuo: 0.6996415770609319\n",
      "###################################################\n",
      "Generacion: 48\n",
      "Fitness medio: 0.6453189964157705\n",
      "Fitness mejor individuo: 0.6996415770609319\n",
      "###################################################\n",
      "Generacion: 49\n",
      "Fitness medio: 0.6251708482676225\n",
      "Fitness mejor individuo: 0.7020310633213859\n",
      "###################################################\n",
      "Generacion: 50\n",
      "Fitness medio: 0.6349199522102748\n",
      "Fitness mejor individuo: 0.7020310633213859\n",
      "###################################################\n",
      "Generacion: 51\n",
      "Fitness medio: 0.6213142174432498\n",
      "Fitness mejor individuo: 0.7020310633213859\n",
      "###################################################\n",
      "Generacion: 52\n",
      "Fitness medio: 0.61615770609319\n",
      "Fitness mejor individuo: 0.7020310633213859\n",
      "###################################################\n",
      "Generacion: 53\n",
      "Fitness medio: 0.6203010752688172\n",
      "Fitness mejor individuo: 0.6884109916367981\n",
      "###################################################\n",
      "Generacion: 54\n",
      "Fitness medio: 0.6102556750298685\n",
      "Fitness mejor individuo: 0.6972520908004779\n",
      "###################################################\n",
      "Generacion: 55\n",
      "Fitness medio: 0.5958375149342892\n",
      "Fitness mejor individuo: 0.6929510155316607\n",
      "###################################################\n",
      "Generacion: 56\n",
      "Fitness medio: 0.6123536439665471\n",
      "Fitness mejor individuo: 0.6929510155316607\n",
      "###################################################\n",
      "Generacion: 57\n",
      "Fitness medio: 0.6148864994026284\n",
      "Fitness mejor individuo: 0.7037037037037037\n",
      "###################################################\n",
      "Generacion: 58\n",
      "Fitness medio: 0.6192735961768219\n",
      "Fitness mejor individuo: 0.6929510155316607\n",
      "###################################################\n",
      "Generacion: 59\n",
      "Fitness medio: 0.6270107526881721\n",
      "Fitness mejor individuo: 0.6962962962962963\n",
      "###################################################\n",
      "Generacion: 60\n",
      "Fitness medio: 0.6372903225806451\n",
      "Fitness mejor individuo: 0.6948626045400239\n",
      "###################################################\n",
      "Generacion: 61\n",
      "Fitness medio: 0.6445256869772997\n",
      "Fitness mejor individuo: 0.6915173237753883\n",
      "###################################################\n",
      "Generacion: 62\n",
      "Fitness medio: 0.6515077658303464\n",
      "Fitness mejor individuo: 0.6965352449223416\n",
      "###################################################\n",
      "Generacion: 63\n",
      "Fitness medio: 0.652415770609319\n",
      "Fitness mejor individuo: 0.6994026284348865\n",
      "###################################################\n",
      "Generacion: 64\n",
      "Fitness medio: 0.6467287933094384\n",
      "Fitness mejor individuo: 0.6994026284348865\n",
      "###################################################\n",
      "Generacion: 65\n",
      "Fitness medio: 0.6544755077658303\n",
      "Fitness mejor individuo: 0.6936678614097969\n",
      "###################################################\n",
      "Generacion: 66\n",
      "Fitness medio: 0.6556081242532855\n",
      "Fitness mejor individuo: 0.6965352449223416\n",
      "###################################################\n",
      "Generacion: 67\n",
      "Fitness medio: 0.6507431302270013\n",
      "Fitness mejor individuo: 0.6965352449223416\n",
      "###################################################\n",
      "Generacion: 68\n",
      "Fitness medio: 0.6612759856630823\n",
      "Fitness mejor individuo: 0.7001194743130227\n",
      "###################################################\n",
      "Generacion: 69\n",
      "Fitness medio: 0.6563297491039428\n",
      "Fitness mejor individuo: 0.7020310633213859\n",
      "###################################################\n",
      "Generacion: 70\n",
      "Fitness medio: 0.6688745519713264\n",
      "Fitness mejor individuo: 0.6979689366786141\n",
      "###################################################\n",
      "Generacion: 71\n",
      "Fitness medio: 0.6683154121863799\n",
      "Fitness mejor individuo: 0.6979689366786141\n",
      "###################################################\n",
      "Generacion: 72\n",
      "Fitness medio: 0.6641481481481482\n",
      "Fitness mejor individuo: 0.6970131421744324\n",
      "###################################################\n",
      "Generacion: 73\n",
      "Fitness medio: 0.6679904420549581\n",
      "Fitness mejor individuo: 0.6970131421744324\n",
      "###################################################\n",
      "Generacion: 74\n",
      "Fitness medio: 0.6673405017921147\n",
      "Fitness mejor individuo: 0.7029868578255675\n",
      "###################################################\n",
      "Generacion: 75\n",
      "Fitness medio: 0.6555029868578255\n",
      "Fitness mejor individuo: 0.7029868578255675\n",
      "###################################################\n",
      "Generacion: 76\n",
      "Fitness medio: 0.6449749103942654\n",
      "Fitness mejor individuo: 0.7034647550776583\n",
      "###################################################\n",
      "Generacion: 77\n",
      "Fitness medio: 0.6607359617682198\n",
      "Fitness mejor individuo: 0.706332138590203\n",
      "###################################################\n",
      "Generacion: 78\n",
      "Fitness medio: 0.6566021505376344\n",
      "Fitness mejor individuo: 0.7151732377538829\n",
      "###################################################\n",
      "Generacion: 79\n",
      "Fitness medio: 0.6529940262843488\n",
      "Fitness mejor individuo: 0.7166069295101554\n",
      "###################################################\n",
      "Generacion: 80\n",
      "Fitness medio: 0.6518279569892472\n",
      "Fitness mejor individuo: 0.7166069295101554\n",
      "###################################################\n",
      "Generacion: 81\n",
      "Fitness medio: 0.6572520908004779\n",
      "Fitness mejor individuo: 0.7194743130227002\n",
      "###################################################\n",
      "Generacion: 82\n",
      "Fitness medio: 0.666136200716846\n",
      "Fitness mejor individuo: 0.7194743130227002\n",
      "###################################################\n",
      "Generacion: 83\n",
      "Fitness medio: 0.6585567502986858\n",
      "Fitness mejor individuo: 0.7194743130227002\n",
      "###################################################\n",
      "Generacion: 84\n",
      "Fitness medio: 0.6567216248506572\n",
      "Fitness mejor individuo: 0.7151732377538829\n",
      "###################################################\n",
      "Generacion: 85\n",
      "Fitness medio: 0.6610657108721624\n",
      "Fitness mejor individuo: 0.7120669056152927\n",
      "###################################################\n",
      "Generacion: 86\n",
      "Fitness medio: 0.6554026284348865\n",
      "Fitness mejor individuo: 0.7144563918757467\n",
      "###################################################\n",
      "Generacion: 87\n",
      "Fitness medio: 0.6661505376344086\n",
      "Fitness mejor individuo: 0.7144563918757467\n",
      "###################################################\n",
      "Generacion: 88\n",
      "Fitness medio: 0.6656726403823179\n",
      "Fitness mejor individuo: 0.7144563918757467\n",
      "###################################################\n",
      "Generacion: 89\n",
      "Fitness medio: 0.6724492234169656\n",
      "Fitness mejor individuo: 0.7185185185185186\n",
      "###################################################\n",
      "Generacion: 90\n",
      "Fitness medio: 0.6764826762246118\n",
      "Fitness mejor individuo: 0.7204301075268817\n",
      "###################################################\n",
      "Generacion: 91\n",
      "Fitness medio: 0.6688363201911588\n",
      "Fitness mejor individuo: 0.7204301075268817\n",
      "###################################################\n",
      "Generacion: 92\n",
      "Fitness medio: 0.6585567502986858\n",
      "Fitness mejor individuo: 0.7185185185185186\n",
      "###################################################\n",
      "Generacion: 93\n",
      "Fitness medio: 0.6484062126642772\n",
      "Fitness mejor individuo: 0.7187574671445639\n",
      "###################################################\n",
      "Generacion: 94\n",
      "Fitness medio: 0.6385089605734767\n",
      "Fitness mejor individuo: 0.7182795698924731\n",
      "###################################################\n",
      "Generacion: 95\n",
      "Fitness medio: 0.6490227001194743\n",
      "Fitness mejor individuo: 0.7154121863799283\n",
      "###################################################\n",
      "Generacion: 96\n",
      "Fitness medio: 0.6536917562724014\n",
      "Fitness mejor individuo: 0.7158900836320191\n",
      "###################################################\n",
      "Generacion: 97\n",
      "Fitness medio: 0.6469486260454002\n",
      "Fitness mejor individuo: 0.7216248506571087\n",
      "###################################################\n",
      "Generacion: 98\n",
      "Fitness medio: 0.6608315412186382\n",
      "Fitness mejor individuo: 0.7197132616487455\n",
      "###################################################\n",
      "Generacion: 99\n",
      "Fitness medio: 0.6660119474313022\n",
      "Fitness mejor individuo: 0.7197132616487455\n",
      "###################################################\n",
      "Generacion: 100\n",
      "Fitness medio: 0.6675364396654718\n",
      "Fitness mejor individuo: 0.7197132616487455\n",
      "###################################################\n"
     ]
    }
   ],
   "source": [
    "dataset = Datos('titanic.data')\n",
    "\n",
    "transformar_datos(dataset)\n",
    "datostrain, datostest = get_train_test(dataset)\n",
    "\n",
    "ag = AlgoritmoGenetico()\n",
    "ag.entrenamiento(datostrain, dataset.nominalAtributos, dataset.diccionario, tamanio_poblacion=50, n_epocas=100, reglas_por_ind=5)"
   ]
  },
  {
   "cell_type": "markdown",
   "metadata": {},
   "source": [
    "Imprimimos el mejor individuo de la última generación"
   ]
  },
  {
   "cell_type": "code",
   "execution_count": 4,
   "metadata": {},
   "outputs": [
    {
     "name": "stdout",
     "output_type": "stream",
     "text": [
      "[[1 1 0 1 0 1 0 0 1 1 1 1 1 1 0 1 1 1 0 0 0 1]\n",
      " [0 0 0 0 1 0 0 1 1 0 1 0 0 1 0 1 0 0 1 0 1 1]\n",
      " [1 1 0 1 0 0 0 0 1 0 1 1 1 1 1 1 1 0 1 1 0 1]\n",
      " [1 1 0 1 0 0 1 1 1 1 1 1 0 1 1 1 1 0 1 1 0 1]\n",
      " [1 1 0 1 0 1 0 0 1 1 1 1 1 1 0 1 1 1 0 0 1 1]]\n"
     ]
    }
   ],
   "source": [
    "print(ag.ultimo_individuo)"
   ]
  },
  {
   "cell_type": "code",
   "execution_count": 7,
   "metadata": {},
   "outputs": [],
   "source": [
    "pred = ag.clasifica(datostest, dataset.nominalAtributos, dataset.diccionario)"
   ]
  },
  {
   "cell_type": "markdown",
   "metadata": {},
   "source": [
    "Y el porcentaje de error, siendo este menor del 25%."
   ]
  },
  {
   "cell_type": "code",
   "execution_count": 8,
   "metadata": {},
   "outputs": [
    {
     "name": "stdout",
     "output_type": "stream",
     "text": [
      "0.7655502392344498\n"
     ]
    }
   ],
   "source": [
    "print(1-ag.error(datostest, pred))"
   ]
  },
  {
   "cell_type": "markdown",
   "metadata": {},
   "source": [
    "<h1> Apartado 1 </h1>"
   ]
  },
  {
   "cell_type": "markdown",
   "metadata": {},
   "source": [
    "<h3> a. Generación de la población inicial </h3>"
   ]
  },
  {
   "cell_type": "markdown",
   "metadata": {},
   "source": [
    "<h3> b. Mecanismo de cruce implementado </h3>"
   ]
  },
  {
   "cell_type": "markdown",
   "metadata": {},
   "source": [
    "<h3> c. Mecanismo de mutación implementado </h3>"
   ]
  },
  {
   "cell_type": "markdown",
   "metadata": {},
   "source": [
    "<h3> d. Mecanismo de clasificación implementado </h3>"
   ]
  },
  {
   "cell_type": "markdown",
   "metadata": {},
   "source": [
    "<h1> Apartado 2 </h1>"
   ]
  },
  {
   "cell_type": "markdown",
   "metadata": {},
   "source": [
    "<h3> a. Conjunto de datos: tic-tac-toe </h3"
   ]
  },
  {
   "cell_type": "markdown",
   "metadata": {},
   "source": []
  },
  {
   "cell_type": "code",
   "execution_count": null,
   "metadata": {},
   "outputs": [],
   "source": [
    "dataset = Datos('tic-tac-toe.data')\n",
    "\n",
    "transformar_datos(dataset)\n",
    "datostrain, datostest = get_train_test(dataset)"
   ]
  },
  {
   "cell_type": "code",
   "execution_count": null,
   "metadata": {},
   "outputs": [],
   "source": [
    "\n",
    "ag = AlgoritmoGenetico()\n",
    "ag.entrenamiento(datostrain, dataset.nominalAtributos, dataset.diccionario, tamanio_poblacion=300, n_epocas=300)"
   ]
  },
  {
   "cell_type": "markdown",
   "metadata": {},
   "source": [
    "<h3> b. Conjunto de datos: titanic </h3>"
   ]
  },
  {
   "cell_type": "markdown",
   "metadata": {},
   "source": [
    "<h1> Apartado 3 </h1>"
   ]
  },
  {
   "cell_type": "markdown",
   "metadata": {},
   "source": [
    "<h3> a. Porcentaje de aciertos frente a número de reglas </h3>"
   ]
  },
  {
   "cell_type": "markdown",
   "metadata": {},
   "source": [
    "<h3> b. Porcentaje de aciertos frente a número de individuos </h3>"
   ]
  },
  {
   "cell_type": "markdown",
   "metadata": {},
   "source": [
    "<h3> c. Porcentaje de aciertos frente a número de generaciones </h3>"
   ]
  },
  {
   "cell_type": "markdown",
   "metadata": {},
   "source": [
    "<h3> d. Porcentaje de aciertos frente a tasa de cruce </h3>"
   ]
  },
  {
   "cell_type": "markdown",
   "metadata": {},
   "source": [
    "<h3> e. Porcentaje de aciertos frente a tasa de mutación </h3>"
   ]
  },
  {
   "cell_type": "markdown",
   "metadata": {},
   "source": [
    "<h1> Apartado 4 </h1>"
   ]
  },
  {
   "cell_type": "markdown",
   "metadata": {},
   "source": [
    "<h3> a. Evolución del fitness del mejor individuo de la población </h3>"
   ]
  },
  {
   "cell_type": "markdown",
   "metadata": {},
   "source": [
    "<h3> b. Evolución del fitness medio de la población </h3>"
   ]
  },
  {
   "cell_type": "markdown",
   "metadata": {},
   "source": [
    "<h1> Apartado 5 </h1>"
   ]
  },
  {
   "cell_type": "code",
   "execution_count": null,
   "metadata": {},
   "outputs": [],
   "source": []
  },
  {
   "cell_type": "code",
   "execution_count": null,
   "metadata": {},
   "outputs": [],
   "source": []
  }
 ],
 "metadata": {
  "kernelspec": {
   "display_name": "Python 3",
   "language": "python",
   "name": "python3"
  },
  "language_info": {
   "codemirror_mode": {
    "name": "ipython",
    "version": 3
   },
   "file_extension": ".py",
   "mimetype": "text/x-python",
   "name": "python",
   "nbconvert_exporter": "python",
   "pygments_lexer": "ipython3",
   "version": "3.7.4"
  }
 },
 "nbformat": 4,
 "nbformat_minor": 4
}
