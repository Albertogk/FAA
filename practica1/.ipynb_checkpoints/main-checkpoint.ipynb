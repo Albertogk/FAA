{
 "cells": [
  {
   "cell_type": "code",
   "execution_count": 11,
   "metadata": {},
   "outputs": [
    {
     "name": "stdout",
     "output_type": "stream",
     "text": [
      "[True, True, True, True, True, True, True, True, True, True]\n",
      "---------------------------\n",
      "[['x' 'x' 'x' ... 'o' 'o' 'positive']\n",
      " ['x' 'x' 'x' ... 'x' 'o' 'positive']\n",
      " ['x' 'x' 'x' ... 'o' 'x' 'positive']\n",
      " ...\n",
      " ['o' 'x' 'o' ... 'o' 'x' 'negative']\n",
      " ['o' 'x' 'o' ... 'o' 'x' 'negative']\n",
      " ['o' 'o' 'x' ... 'x' 'x' 'negative']]\n",
      "---------------------------\n",
      "[{'b': 0, 'o': 1, 'x': 2}, {'b': 0, 'o': 1, 'x': 2}, {'b': 0, 'o': 1, 'x': 2}, {'b': 0, 'o': 1, 'x': 2}, {'b': 0, 'o': 1, 'x': 2}, {'b': 0, 'o': 1, 'x': 2}, {'b': 0, 'o': 1, 'x': 2}, {'b': 0, 'o': 1, 'x': 2}, {'b': 0, 'o': 1, 'x': 2}, {'negative': 0, 'positive': 1}]\n"
     ]
    }
   ],
   "source": [
    "from GonzalezKlein_Petrunina_P1 import Datos\n",
    "import sys\n",
    "import numpy as np\n",
    "\n",
    "# Descomentar para ver la matriz de datos completa\n",
    "# np.set_printoptions(threshold = sys.maxsize)\n",
    "np.set_printoptions(threshold = 1000)\n",
    "datos = Datos('tic-tac-toe.data')\n",
    "print(datos.nominalAtributos)\n",
    "print('---------------------------')\n",
    "print(datos.datos)\n",
    "print('---------------------------')\n",
    "print(datos.diccionario)"
   ]
  },
  {
   "cell_type": "markdown",
   "metadata": {},
   "source": [
    "Utilizamos el dataset tic-tac-toe dado. Podemos observar que efectivamente todos los atributos son nominales (todos son cadenas de caracteres). Al imprimir la matriz de datos, por defecto está truncada. Basta con modificar las opciones de imprimir de numpy con la línea comentada en el código para observar la matriz completa. Si hacemos esto último, veremos los datos del dataset en forma de matriz. Por último, si imprimimos diccionario observamos que los posibles valores de los 9 primeros atributos son 'b', 'o' y 'x', y del último atributo es 'negative' o 'positive'. Cada uno de estos posibles valores está mapeado a un número en orden alfabético."
   ]
  },
  {
   "cell_type": "code",
   "execution_count": 12,
   "metadata": {},
   "outputs": [
    {
     "name": "stdout",
     "output_type": "stream",
     "text": [
      "[True, False, True, True, False, True, True, False, True, True, False, True, False, True, True, False, True, False, True, True, False]\n",
      "---------------------------\n",
      "[['A11' 6 'A34' ... 'A192' 'A201' 1]\n",
      " ['A12' 48 'A32' ... 'A191' 'A201' 2]\n",
      " ['A14' 12 'A34' ... 'A191' 'A201' 1]\n",
      " ...\n",
      " ['A14' 12 'A32' ... 'A191' 'A201' 1]\n",
      " ['A11' 45 'A32' ... 'A192' 'A201' 2]\n",
      " ['A12' 45 'A34' ... 'A191' 'A201' 1]]\n",
      "---------------------------\n",
      "[{'A11': 0, 'A12': 1, 'A13': 2, 'A14': 3}, {}, {'A30': 0, 'A31': 1, 'A32': 2, 'A33': 3, 'A34': 4}, {'A40': 0, 'A41': 1, 'A410': 2, 'A42': 3, 'A43': 4, 'A44': 5, 'A45': 6, 'A46': 7, 'A48': 8, 'A49': 9}, {}, {'A61': 0, 'A62': 1, 'A63': 2, 'A64': 3, 'A65': 4}, {'A71': 0, 'A72': 1, 'A73': 2, 'A74': 3, 'A75': 4}, {}, {'A91': 0, 'A92': 1, 'A93': 2, 'A94': 3}, {'A101': 0, 'A102': 1, 'A103': 2}, {}, {'A121': 0, 'A122': 1, 'A123': 2, 'A124': 3}, {}, {'A141': 0, 'A142': 1, 'A143': 2}, {'A151': 0, 'A152': 1, 'A153': 2}, {}, {'A171': 0, 'A172': 1, 'A173': 2, 'A174': 3}, {}, {'A191': 0, 'A192': 1}, {'A201': 0, 'A202': 1}, {}]\n"
     ]
    }
   ],
   "source": [
    "# Descomentar para ver la matriz de datos completa\n",
    "# np.set_printoptions(threshold = sys.maxsize)\n",
    "np.set_printoptions(threshold = 1000)\n",
    "datos = Datos('german.data')\n",
    "print(datos.nominalAtributos)\n",
    "print('---------------------------')\n",
    "print(datos.datos)\n",
    "print('---------------------------')\n",
    "print(datos.diccionario)"
   ]
  },
  {
   "cell_type": "markdown",
   "metadata": {},
   "source": [
    "Utilizamos el dataset german dado. Podemos observar que hay algunos atributos nominales y otros que no."
   ]
  },
  {
   "cell_type": "code",
   "execution_count": null,
   "metadata": {},
   "outputs": [],
   "source": []
  }
 ],
 "metadata": {
  "kernelspec": {
   "display_name": "Python 3",
   "language": "python",
   "name": "python3"
  },
  "language_info": {
   "codemirror_mode": {
    "name": "ipython",
    "version": 3
   },
   "file_extension": ".py",
   "mimetype": "text/x-python",
   "name": "python",
   "nbconvert_exporter": "python",
   "pygments_lexer": "ipython3",
   "version": "3.7.4"
  }
 },
 "nbformat": 4,
 "nbformat_minor": 4
}
