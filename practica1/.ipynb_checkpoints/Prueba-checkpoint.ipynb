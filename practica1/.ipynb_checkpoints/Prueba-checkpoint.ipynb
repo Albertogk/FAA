{
 "cells": [
  {
   "cell_type": "code",
   "execution_count": 78,
   "metadata": {},
   "outputs": [],
   "source": [
    "from Datos import Datos\n",
    "from EstrategiaParticionado import *\n",
    "from Clasificador import *\n",
    "import matplotlib.pyplot as plt\n",
    "import numpy as np\n",
    "from sklearn.naive_bayes import MultinomialNB, GaussianNB\n",
    "from sklearn.preprocessing import OneHotEncoder\n",
    "from sklearn.model_selection import train_test_split, cross_val_score, KFold\n",
    "from sklearn import metrics"
   ]
  },
  {
   "cell_type": "markdown",
   "metadata": {},
   "source": [
    "<h3>Prueba de la clase EstrategiaParticionado<h3>"
   ]
  },
  {
   "cell_type": "code",
   "execution_count": 2,
   "metadata": {},
   "outputs": [],
   "source": [
    "k = 3\n",
    "p = 0.3\n",
    "nEjecuciones = 3\n",
    "\n",
    "n_datos = 10\n",
    "\n",
    "dataset = Datos(\"tic-tac-toe.data\")\n",
    "\n",
    "#Cambio estrategia particionado comentar"
   ]
  },
  {
   "cell_type": "markdown",
   "metadata": {},
   "source": [
    "Se prueba primero ValidacionSimple. Para visualizar mejor la partición, solo se usan los n_datos = 10 primeros datos del dataset. En general, el parametro n_datos debería ser igual al número de datos en el dataset. "
   ]
  },
  {
   "cell_type": "code",
   "execution_count": 3,
   "metadata": {},
   "outputs": [
    {
     "name": "stdout",
     "output_type": "stream",
     "text": [
      "Test: [array(['x', 'x', 'x', 'x', 'o', 'o', 'o', 'o', 'x', 'positive'],\n",
      "      dtype=object), array(['x', 'x', 'x', 'x', 'o', 'o', 'o', 'x', 'o', 'positive'],\n",
      "      dtype=object), array(['x', 'x', 'x', 'x', 'o', 'o', 'b', 'o', 'b', 'positive'],\n",
      "      dtype=object)]\n",
      "Train: [array(['x', 'x', 'x', 'x', 'o', 'b', 'o', 'o', 'b', 'positive'],\n",
      "      dtype=object), array(['x', 'x', 'x', 'x', 'o', 'o', 'x', 'o', 'o', 'positive'],\n",
      "      dtype=object), array(['x', 'x', 'x', 'x', 'b', 'o', 'o', 'o', 'b', 'positive'],\n",
      "      dtype=object), array(['x', 'x', 'x', 'x', 'o', 'o', 'b', 'b', 'o', 'positive'],\n",
      "      dtype=object), array(['x', 'x', 'x', 'x', 'o', 'o', 'o', 'b', 'b', 'positive'],\n",
      "      dtype=object), array(['x', 'x', 'x', 'x', 'o', 'b', 'b', 'o', 'o', 'positive'],\n",
      "      dtype=object), array(['x', 'x', 'x', 'x', 'o', 'b', 'o', 'b', 'o', 'positive'],\n",
      "      dtype=object)]\n",
      "\n",
      "Test: [array(['x', 'x', 'x', 'x', 'o', 'b', 'o', 'b', 'o', 'positive'],\n",
      "      dtype=object), array(['x', 'x', 'x', 'x', 'o', 'o', 'o', 'b', 'b', 'positive'],\n",
      "      dtype=object), array(['x', 'x', 'x', 'x', 'o', 'b', 'o', 'o', 'b', 'positive'],\n",
      "      dtype=object)]\n",
      "Train: [array(['x', 'x', 'x', 'x', 'o', 'o', 'x', 'o', 'o', 'positive'],\n",
      "      dtype=object), array(['x', 'x', 'x', 'x', 'o', 'o', 'b', 'b', 'o', 'positive'],\n",
      "      dtype=object), array(['x', 'x', 'x', 'x', 'o', 'o', 'b', 'o', 'b', 'positive'],\n",
      "      dtype=object), array(['x', 'x', 'x', 'x', 'o', 'o', 'o', 'o', 'x', 'positive'],\n",
      "      dtype=object), array(['x', 'x', 'x', 'x', 'o', 'b', 'b', 'o', 'o', 'positive'],\n",
      "      dtype=object), array(['x', 'x', 'x', 'x', 'o', 'o', 'o', 'x', 'o', 'positive'],\n",
      "      dtype=object), array(['x', 'x', 'x', 'x', 'b', 'o', 'o', 'o', 'b', 'positive'],\n",
      "      dtype=object)]\n",
      "\n",
      "Test: [array(['x', 'x', 'x', 'x', 'o', 'b', 'o', 'o', 'b', 'positive'],\n",
      "      dtype=object), array(['x', 'x', 'x', 'x', 'b', 'o', 'o', 'o', 'b', 'positive'],\n",
      "      dtype=object), array(['x', 'x', 'x', 'x', 'o', 'o', 'b', 'o', 'b', 'positive'],\n",
      "      dtype=object)]\n",
      "Train: [array(['x', 'x', 'x', 'x', 'o', 'o', 'o', 'o', 'x', 'positive'],\n",
      "      dtype=object), array(['x', 'x', 'x', 'x', 'o', 'o', 'b', 'b', 'o', 'positive'],\n",
      "      dtype=object), array(['x', 'x', 'x', 'x', 'o', 'o', 'o', 'b', 'b', 'positive'],\n",
      "      dtype=object), array(['x', 'x', 'x', 'x', 'o', 'b', 'b', 'o', 'o', 'positive'],\n",
      "      dtype=object), array(['x', 'x', 'x', 'x', 'o', 'o', 'o', 'x', 'o', 'positive'],\n",
      "      dtype=object), array(['x', 'x', 'x', 'x', 'o', 'o', 'x', 'o', 'o', 'positive'],\n",
      "      dtype=object), array(['x', 'x', 'x', 'x', 'o', 'b', 'o', 'b', 'o', 'positive'],\n",
      "      dtype=object)]\n",
      "\n"
     ]
    }
   ],
   "source": [
    "\n",
    "estrategia_simple = ValidacionSimple(p, nEjecuciones)\n",
    "particiones_simple = estrategia_simple.creaParticiones(n_datos)\n",
    "\n",
    "for particion in particiones_simple:\n",
    "    datos_test = dataset.extraeDatos(particion.indicesTest)\n",
    "    datos_train = dataset.extraeDatos(particion.indicesTrain)\n",
    "    print(\"Test:\", str(datos_test))\n",
    "    print(\"Train:\", str(datos_train))\n",
    "    print()\n",
    "    "
   ]
  },
  {
   "cell_type": "markdown",
   "metadata": {},
   "source": [
    "Prueba de ValidacionCruzada con parametro k = 3. Igual que en el caso anterior, para facilitar la visualización solose usan los 10 primeros datos (n_datos). "
   ]
  },
  {
   "cell_type": "code",
   "execution_count": 4,
   "metadata": {},
   "outputs": [
    {
     "name": "stdout",
     "output_type": "stream",
     "text": [
      "Test: [array(['x', 'x', 'x', 'x', 'o', 'o', 'o', 'x', 'o', 'positive'],\n",
      "      dtype=object), array(['x', 'x', 'x', 'x', 'o', 'b', 'b', 'o', 'o', 'positive'],\n",
      "      dtype=object), array(['x', 'x', 'x', 'x', 'o', 'o', 'b', 'b', 'o', 'positive'],\n",
      "      dtype=object)]\n",
      "Train: [array(['x', 'x', 'x', 'x', 'o', 'o', 'b', 'o', 'b', 'positive'],\n",
      "      dtype=object), array(['x', 'x', 'x', 'x', 'b', 'o', 'o', 'o', 'b', 'positive'],\n",
      "      dtype=object), array(['x', 'x', 'x', 'x', 'o', 'o', 'x', 'o', 'o', 'positive'],\n",
      "      dtype=object), array(['x', 'x', 'x', 'x', 'o', 'b', 'o', 'o', 'b', 'positive'],\n",
      "      dtype=object), array(['x', 'x', 'x', 'x', 'o', 'o', 'o', 'o', 'x', 'positive'],\n",
      "      dtype=object), array(['x', 'x', 'x', 'x', 'o', 'o', 'o', 'b', 'b', 'positive'],\n",
      "      dtype=object), array(['x', 'x', 'x', 'x', 'o', 'b', 'o', 'b', 'o', 'positive'],\n",
      "      dtype=object)]\n",
      "\n",
      "Test: [array(['x', 'x', 'x', 'x', 'o', 'o', 'b', 'o', 'b', 'positive'],\n",
      "      dtype=object), array(['x', 'x', 'x', 'x', 'b', 'o', 'o', 'o', 'b', 'positive'],\n",
      "      dtype=object), array(['x', 'x', 'x', 'x', 'o', 'o', 'x', 'o', 'o', 'positive'],\n",
      "      dtype=object)]\n",
      "Train: [array(['x', 'x', 'x', 'x', 'o', 'o', 'o', 'x', 'o', 'positive'],\n",
      "      dtype=object), array(['x', 'x', 'x', 'x', 'o', 'b', 'b', 'o', 'o', 'positive'],\n",
      "      dtype=object), array(['x', 'x', 'x', 'x', 'o', 'o', 'b', 'b', 'o', 'positive'],\n",
      "      dtype=object), array(['x', 'x', 'x', 'x', 'o', 'b', 'o', 'o', 'b', 'positive'],\n",
      "      dtype=object), array(['x', 'x', 'x', 'x', 'o', 'o', 'o', 'o', 'x', 'positive'],\n",
      "      dtype=object), array(['x', 'x', 'x', 'x', 'o', 'o', 'o', 'b', 'b', 'positive'],\n",
      "      dtype=object), array(['x', 'x', 'x', 'x', 'o', 'b', 'o', 'b', 'o', 'positive'],\n",
      "      dtype=object)]\n",
      "\n",
      "Test: [array(['x', 'x', 'x', 'x', 'o', 'b', 'o', 'o', 'b', 'positive'],\n",
      "      dtype=object), array(['x', 'x', 'x', 'x', 'o', 'o', 'o', 'o', 'x', 'positive'],\n",
      "      dtype=object), array(['x', 'x', 'x', 'x', 'o', 'o', 'o', 'b', 'b', 'positive'],\n",
      "      dtype=object)]\n",
      "Train: [array(['x', 'x', 'x', 'x', 'o', 'o', 'o', 'x', 'o', 'positive'],\n",
      "      dtype=object), array(['x', 'x', 'x', 'x', 'o', 'b', 'b', 'o', 'o', 'positive'],\n",
      "      dtype=object), array(['x', 'x', 'x', 'x', 'o', 'o', 'b', 'b', 'o', 'positive'],\n",
      "      dtype=object), array(['x', 'x', 'x', 'x', 'o', 'o', 'b', 'o', 'b', 'positive'],\n",
      "      dtype=object), array(['x', 'x', 'x', 'x', 'b', 'o', 'o', 'o', 'b', 'positive'],\n",
      "      dtype=object), array(['x', 'x', 'x', 'x', 'o', 'o', 'x', 'o', 'o', 'positive'],\n",
      "      dtype=object), array(['x', 'x', 'x', 'x', 'o', 'b', 'o', 'b', 'o', 'positive'],\n",
      "      dtype=object)]\n",
      "\n"
     ]
    }
   ],
   "source": [
    "estrategia_cruzada = ValidacionCruzada(k)\n",
    "particiones_cruzada = estrategia_cruzada.creaParticiones(n_datos)\n",
    "\n",
    "for particion in particiones_cruzada:\n",
    "\n",
    "    datos_test = dataset.extraeDatos(particion.indicesTest)\n",
    "    datos_train = dataset.extraeDatos(particion.indicesTrain)\n",
    "    print(\"Test:\", str(datos_test))\n",
    "    print(\"Train:\", str(datos_train))\n",
    "    print()"
   ]
  },
  {
   "cell_type": "markdown",
   "metadata": {},
   "source": [
    "<h3>Prueba de la clase Clasificacion<h3>"
   ]
  },
  {
   "cell_type": "markdown",
   "metadata": {},
   "source": [
    "Primero se necesita obtener los datos en un formato correcto."
   ]
  },
  {
   "cell_type": "code",
   "execution_count": 5,
   "metadata": {},
   "outputs": [],
   "source": [
    "archivo = 'tic-tac-toe.data'\n",
    "\n",
    "dataset = Datos(archivo)\n",
    "\n",
    "datos = dataset.datos\n",
    "# Utilizamos el diccionario para adaptar los datos\n",
    "for i in range(datos.shape[0]):\n",
    "    for j in range(datos.shape[1]):\n",
    "        if dataset.nominalAtributos[j]:\n",
    "            datos[i, j] = dataset.diccionario[j][datos[i, j]]  "
   ]
  },
  {
   "cell_type": "markdown",
   "metadata": {},
   "source": [
    "Después, crear las particiones datostrain y datostest. En este caso de prueba utilizaremos validacionSimple con nEjecuciones = 1."
   ]
  },
  {
   "cell_type": "code",
   "execution_count": 6,
   "metadata": {},
   "outputs": [],
   "source": [
    "p = 0.1\n",
    "vs = ValidacionSimple(p, 1)\n",
    "particiones = vs.creaParticiones(len(dataset.datos), seed=0)\n",
    "\n",
    "datostrain = dataset.extraeDatos(particiones[0].indicesTrain)\n",
    "datostest = dataset.extraeDatos(particiones[0].indicesTest)"
   ]
  },
  {
   "cell_type": "markdown",
   "metadata": {},
   "source": [
    "Ahora, se entrena el modelo utilizando el conjunto datostrain"
   ]
  },
  {
   "cell_type": "code",
   "execution_count": 7,
   "metadata": {},
   "outputs": [],
   "source": [
    "cl = ClasificadorNaiveBayes()\n",
    "cl.entrenamiento(datostrain, dataset.nominalAtributos, dataset.diccionario)"
   ]
  },
  {
   "cell_type": "markdown",
   "metadata": {},
   "source": [
    "Y, por último se predice la clase para datostest utilizando los porcentajes obtenidos. "
   ]
  },
  {
   "cell_type": "code",
   "execution_count": 8,
   "metadata": {},
   "outputs": [],
   "source": [
    "prediccion = cl.clasifica(datostest, dataset.nominalAtributos, dataset.diccionario)"
   ]
  },
  {
   "cell_type": "markdown",
   "metadata": {},
   "source": [
    "Mostramos por pantalla el resultado obtenido:"
   ]
  },
  {
   "cell_type": "code",
   "execution_count": 9,
   "metadata": {},
   "outputs": [
    {
     "name": "stdout",
     "output_type": "stream",
     "text": [
      "71 96 0.7395833333333334\n"
     ]
    }
   ],
   "source": [
    "cont = 0\n",
    "for i in range(len(datostest)):\n",
    "    if datostest[i][-1] == prediccion[i]:\n",
    "        cont += 1\n",
    "\n",
    "print(cont, len(datostest), cont/len(datostest))"
   ]
  },
  {
   "cell_type": "code",
   "execution_count": 10,
   "metadata": {},
   "outputs": [
    {
     "name": "stdout",
     "output_type": "stream",
     "text": [
      "0.7395833333333333\n"
     ]
    }
   ],
   "source": [
    "print(1-cl.error(datostest, prediccion))"
   ]
  },
  {
   "cell_type": "markdown",
   "metadata": {},
   "source": [
    "Hemos obtenido aproximadamente un 74% de aciertos en este dataset y particion. Vamos a probar ahora los datos \"german.data\" haciendo las mismas operaciones que en el caso anterior."
   ]
  },
  {
   "cell_type": "code",
   "execution_count": 11,
   "metadata": {},
   "outputs": [],
   "source": [
    "archivo = 'german.data'\n",
    "\n",
    "dataset = Datos(archivo)\n",
    "\n",
    "datos = dataset.datos\n",
    "for i in range(datos.shape[0]):\n",
    "    for j in range(datos.shape[1]):\n",
    "        if dataset.nominalAtributos[j] or j == datos.shape[1] - 1:\n",
    "            datos[i, j] = dataset.diccionario[j][datos[i, j]]  \n"
   ]
  },
  {
   "cell_type": "code",
   "execution_count": 12,
   "metadata": {},
   "outputs": [],
   "source": [
    "p = 0.1\n",
    "vs = ValidacionSimple(p, 1)\n",
    "particiones = vs.creaParticiones(len(dataset.datos), seed=0)\n",
    "\n",
    "datostrain = dataset.extraeDatos(particiones[0].indicesTrain)\n",
    "datostest = dataset.extraeDatos(particiones[0].indicesTest)"
   ]
  },
  {
   "cell_type": "code",
   "execution_count": 13,
   "metadata": {},
   "outputs": [],
   "source": [
    "cl = ClasificadorNaiveBayes()\n",
    "cl.entrenamiento(datostrain, dataset.nominalAtributos, dataset.diccionario)"
   ]
  },
  {
   "cell_type": "code",
   "execution_count": 14,
   "metadata": {},
   "outputs": [],
   "source": [
    "prediccion = cl.clasifica(datostest, dataset.nominalAtributos, dataset.diccionario)"
   ]
  },
  {
   "cell_type": "code",
   "execution_count": 15,
   "metadata": {},
   "outputs": [
    {
     "name": "stdout",
     "output_type": "stream",
     "text": [
      "72 100 0.72\n"
     ]
    }
   ],
   "source": [
    "cont = 0\n",
    "for i in range(len(datostest)):\n",
    "    if datostest[i][-1] == prediccion[i]:\n",
    "        cont += 1\n",
    "\n",
    "print(cont, len(datostest), cont/len(datostest))"
   ]
  },
  {
   "cell_type": "markdown",
   "metadata": {},
   "source": [
    "Igual que en el caso anterior, el modelo acierta en aproximadamente 70% de los casos. "
   ]
  },
  {
   "cell_type": "markdown",
   "metadata": {},
   "source": [
    "<h3>Scikit-Learn</h3>"
   ]
  },
  {
   "cell_type": "markdown",
   "metadata": {},
   "source": [
    "En el caso de Scikit-Learn, no hay una función que te permita tratar ciertos datosz como categóricos y ciertos datos del mismo dataset como continuos. Por tanto, utilizaremos MultinomialNB para el caso de datos categóricos (tic-tac-toe.data) y GaussianNB para el caso de que haya algún dato continuo (german.data)."
   ]
  },
  {
   "cell_type": "markdown",
   "metadata": {},
   "source": [
    "Primero empezamos con las pruebas de validación simple y con tic-tac-toe.data. Transformamos los datos al formato adecuado y realizamos la partición:"
   ]
  },
  {
   "cell_type": "code",
   "execution_count": 79,
   "metadata": {},
   "outputs": [],
   "source": [
    "archivo = 'tic-tac-toe.data'\n",
    "p = 0.2\n",
    "seed = 123\n",
    "\n",
    "dataset = Datos(archivo)\n",
    "\n",
    "datos = dataset.datos\n",
    "# Utilizamos el diccionario para adaptar los datos\n",
    "for i in range(datos.shape[0]):\n",
    "    for j in range(datos.shape[1]):\n",
    "        if dataset.nominalAtributos[j]:\n",
    "            datos[i, j] = dataset.diccionario[j][datos[i, j]]\n",
    "            \n",
    "X = datos[:, :-1]\n",
    "y = datos[:, -1]\n",
    "\n",
    "X = X.astype('int32')\n",
    "y = y.astype('int32')\n",
    "\n",
    "X_train, X_test, y_train, y_test = train_test_split(X, y, test_size=p, random_state=seed)"
   ]
  },
  {
   "cell_type": "markdown",
   "metadata": {},
   "source": [
    "Procedemos con la clasificación. Haremos una prueba sin Laplace (alpha=0) y otra con Laplace (alpha=1):"
   ]
  },
  {
   "cell_type": "code",
   "execution_count": 80,
   "metadata": {},
   "outputs": [
    {
     "name": "stdout",
     "output_type": "stream",
     "text": [
      "Accuracy: 0.671875\n"
     ]
    },
    {
     "name": "stderr",
     "output_type": "stream",
     "text": [
      "c:\\users\\admitin\\appdata\\local\\programs\\python\\python37-32\\lib\\site-packages\\sklearn\\naive_bayes.py:512: UserWarning: alpha too small will result in numeric errors, setting alpha = 1.0e-10\n",
      "  'setting alpha = %.1e' % _ALPHA_MIN)\n"
     ]
    }
   ],
   "source": [
    "mnb0 = MultinomialNB(alpha=0)\n",
    "\n",
    "mnb0.fit(X_train, y_train)\n",
    "\n",
    "y_pred0 = mnb0.predict(X_test)\n",
    "\n",
    "print(\"Accuracy:\", metrics.accuracy_score(y_test, y_pred0))\n"
   ]
  },
  {
   "cell_type": "code",
   "execution_count": 11,
   "metadata": {},
   "outputs": [
    {
     "name": "stdout",
     "output_type": "stream",
     "text": [
      "Accuracy: 0.6510416666666666\n"
     ]
    }
   ],
   "source": [
    "mnb1 = MultinomialNB(alpha=1)\n",
    "\n",
    "mnb1.fit(X_train, y_train)\n",
    "\n",
    "y_pred1 = mnb1.predict(X_test)\n",
    "\n",
    "print(\"Accuracy:\", metrics.accuracy_score(y_test, y_pred1))"
   ]
  },
  {
   "cell_type": "markdown",
   "metadata": {},
   "source": [
    "Observamos que no hay diferencia entre haber utilizado Laplace y no haberlo utilizado. Puede que en este caso haya sido así, pero en general es buena idea utilizar Laplace, porque no sabes como es el dataset, y podría ocurrir que alguna de las probabilidades condicionadas fuesen 0."
   ]
  },
  {
   "cell_type": "markdown",
   "metadata": {},
   "source": [
    "Procedemos a realizar la misma prueba, pero esta vez utilizando validación cruzada:"
   ]
  },
  {
   "cell_type": "code",
   "execution_count": 41,
   "metadata": {},
   "outputs": [],
   "source": [
    "archivo = 'tic-tac-toe.data'\n",
    "p = 0.2\n",
    "seed = 123\n",
    "k = 3\n",
    "\n",
    "dataset = Datos(archivo)\n",
    "\n",
    "datos = dataset.datos\n",
    "# Utilizamos el diccionario para adaptar los datos\n",
    "for i in range(datos.shape[0]):\n",
    "    for j in range(datos.shape[1]):\n",
    "        if dataset.nominalAtributos[j]:\n",
    "            datos[i, j] = dataset.diccionario[j][datos[i, j]]\n",
    "            \n",
    "X = datos[:, :-1]\n",
    "y = datos[:, -1]\n",
    "\n",
    "X = X.astype('int32')\n",
    "y = y.astype('int32')\n"
   ]
  },
  {
   "cell_type": "code",
   "execution_count": 42,
   "metadata": {},
   "outputs": [
    {
     "name": "stdout",
     "output_type": "stream",
     "text": [
      "Accuracy: 0.63125\n",
      "Accuracy: 0.664576802507837\n",
      "Accuracy: 0.6833855799373041\n"
     ]
    },
    {
     "name": "stderr",
     "output_type": "stream",
     "text": [
      "c:\\users\\admitin\\appdata\\local\\programs\\python\\python37-32\\lib\\site-packages\\sklearn\\naive_bayes.py:512: UserWarning: alpha too small will result in numeric errors, setting alpha = 1.0e-10\n",
      "  'setting alpha = %.1e' % _ALPHA_MIN)\n",
      "c:\\users\\admitin\\appdata\\local\\programs\\python\\python37-32\\lib\\site-packages\\sklearn\\naive_bayes.py:512: UserWarning: alpha too small will result in numeric errors, setting alpha = 1.0e-10\n",
      "  'setting alpha = %.1e' % _ALPHA_MIN)\n",
      "c:\\users\\admitin\\appdata\\local\\programs\\python\\python37-32\\lib\\site-packages\\sklearn\\naive_bayes.py:512: UserWarning: alpha too small will result in numeric errors, setting alpha = 1.0e-10\n",
      "  'setting alpha = %.1e' % _ALPHA_MIN)\n"
     ]
    }
   ],
   "source": [
    "mnb2 = MultinomialNB(alpha=0)\n",
    "\n",
    "kf = KFold(n_splits=k, random_state=seed, shuffle=True)\n",
    "\n",
    "for train, test in kf.split(X):\n",
    "    X_train, X_test, y_train, y_test = X[train], X[test], y[train], y[test]\n",
    "    \n",
    "    mnb2.fit(X_train, y_train)\n",
    "\n",
    "    y_pred2 = mnb2.predict(X_test)\n",
    "\n",
    "\n",
    "    print(\"Accuracy:\", metrics.accuracy_score(y_test, y_pred2))"
   ]
  },
  {
   "cell_type": "code",
   "execution_count": 43,
   "metadata": {},
   "outputs": [
    {
     "name": "stdout",
     "output_type": "stream",
     "text": [
      "Accuracy: 0.63125\n",
      "Accuracy: 0.664576802507837\n",
      "Accuracy: 0.6833855799373041\n"
     ]
    }
   ],
   "source": [
    "mnb3 = MultinomialNB(alpha=1)\n",
    "\n",
    "kf = KFold(n_splits=k, random_state=seed, shuffle=True)\n",
    "\n",
    "for train, test in kf.split(X):\n",
    "    X_train, X_test, y_train, y_test = X[train], X[test], y[train], y[test]\n",
    "    \n",
    "    mnb3.fit(X_train, y_train)\n",
    "\n",
    "    y_pred3 = mnb3.predict(X_test)\n",
    "\n",
    "\n",
    "    print(\"Accuracy:\", metrics.accuracy_score(y_test, y_pred3))"
   ]
  },
  {
   "cell_type": "markdown",
   "metadata": {},
   "source": [
    "De nuevo, observamos que Laplace no influye"
   ]
  },
  {
   "cell_type": "markdown",
   "metadata": {},
   "source": [
    "Pasamos a utilizar el dataset german.data y repetimos las mismas pruebas:"
   ]
  },
  {
   "cell_type": "code",
   "execution_count": 50,
   "metadata": {},
   "outputs": [],
   "source": [
    "archivo = 'german.data'\n",
    "p = 0.2\n",
    "seed = 123\n",
    "\n",
    "dataset = Datos(archivo)\n",
    "\n",
    "datos = dataset.datos\n",
    "# Utilizamos el diccionario para adaptar los datos\n",
    "for i in range(datos.shape[0]):\n",
    "    for j in range(datos.shape[1]):\n",
    "        if dataset.nominalAtributos[j]:\n",
    "            datos[i, j] = dataset.diccionario[j][datos[i, j]]\n",
    "            \n",
    "X = datos[:, :-1]\n",
    "y = datos[:, -1]\n",
    "\n",
    "X = X.astype('int32')\n",
    "y = y.astype('int32')\n"
   ]
  },
  {
   "cell_type": "code",
   "execution_count": 51,
   "metadata": {},
   "outputs": [],
   "source": [
    "X_train, X_test, y_train, y_test = train_test_split(X, y, test_size=p, random_state=seed)"
   ]
  },
  {
   "cell_type": "code",
   "execution_count": 52,
   "metadata": {},
   "outputs": [
    {
     "name": "stdout",
     "output_type": "stream",
     "text": [
      "Accuracy: 0.75\n"
     ]
    }
   ],
   "source": [
    "gnb0 = GaussianNB()\n",
    "\n",
    "gnb0.fit(X_train, y_train)\n",
    "\n",
    "y_pred4 = gnb0.predict(X_test)\n",
    "\n",
    "print(\"Accuracy:\", metrics.accuracy_score(y_test, y_pred4))\n"
   ]
  },
  {
   "cell_type": "code",
   "execution_count": 53,
   "metadata": {},
   "outputs": [
    {
     "name": "stdout",
     "output_type": "stream",
     "text": [
      "Accuracy: 0.7604790419161677\n",
      "Accuracy: 0.7087087087087087\n",
      "Accuracy: 0.7177177177177178\n"
     ]
    }
   ],
   "source": [
    "gnb1 = GaussianNB()\n",
    "\n",
    "kf = KFold(n_splits=k, random_state=seed, shuffle=True)\n",
    "\n",
    "for train, test in kf.split(X):\n",
    "    X_train, X_test, y_train, y_test = X[train], X[test], y[train], y[test]\n",
    "    \n",
    "    gnb1.fit(X_train, y_train)\n",
    "\n",
    "    y_pred5 = gnb1.predict(X_test)\n",
    "\n",
    "\n",
    "    print(\"Accuracy:\", metrics.accuracy_score(y_test, y_pred5))"
   ]
  },
  {
   "cell_type": "markdown",
   "metadata": {},
   "source": [
    "<h3>Evaluación de hipótesis mediante Análisis ROC</h3>"
   ]
  },
  {
   "cell_type": "markdown",
   "metadata": {},
   "source": [
    "Vamos a realizar este análisis para cada tipo de validación y para cada dataset. Primero, comenzaremos con tic-tac-toe.data y validación simple."
   ]
  },
  {
   "cell_type": "code",
   "execution_count": 67,
   "metadata": {},
   "outputs": [],
   "source": [
    "p = 0.2\n",
    "seed = 0\n",
    "k = 3\n",
    "\n",
    "def get_matriz_conf_data(conf_data, clases, ocurrencias_clases):\n",
    "    \n",
    "    matriz_conf = np.zeros((2, 2))\n",
    "    matriz_conf[0][0] = ocurrencias_clases[clases[1]]\n",
    "    matriz_conf[0][1] = ocurrencias_clases[clases[0]]\n",
    "    tpr = np.empty(len(datostest))\n",
    "    fpr = np.empty(len(datostest))\n",
    "\n",
    "    for i in range(len(conf_data)):\n",
    "        if conf_data[i][1] == clases[0]: # Dato negativo\n",
    "            matriz_conf[1][1] += 1 #TN\n",
    "            matriz_conf[0][1] -= 1 #FP\n",
    "\n",
    "        else: # Dato positivo\n",
    "            matriz_conf[1][0] += 1 #FN\n",
    "            matriz_conf[0][0] -= 1 #TP\n",
    "\n",
    "\n",
    "        tpr[i] = matriz_conf[0][0]/(matriz_conf[0][0]+matriz_conf[1][0])\n",
    "\n",
    "        fpr[i] = matriz_conf[0][1]/(matriz_conf[0][1]+matriz_conf[1][1])\n",
    "    \n",
    "    return matriz_conf, tpr, fpr"
   ]
  },
  {
   "cell_type": "code",
   "execution_count": 68,
   "metadata": {},
   "outputs": [],
   "source": [
    "archivo = 'tic-tac-toe.data'\n",
    "\n",
    "dataset = Datos(archivo)\n",
    "\n",
    "datos = dataset.datos\n",
    "# Utilizamos el diccionario para adaptar los datos\n",
    "for i in range(datos.shape[0]):\n",
    "    for j in range(datos.shape[1]):\n",
    "        if dataset.nominalAtributos[j] or j==datos.shape[1]-1:\n",
    "            datos[i, j] = dataset.diccionario[j][datos[i, j]]\n",
    "\n",
    "\n",
    "vs = ValidacionSimple(p, 1)\n",
    "particiones = vs.creaParticiones(len(dataset.datos), seed=seed)\n",
    "\n",
    "datostrain = dataset.extraeDatos(particiones[0].indicesTrain)\n",
    "datostest = dataset.extraeDatos(particiones[0].indicesTest)\n",
    "datostest = np.array(datostest)\n",
    "\n",
    "clases, counts = np.unique(datostest[:, -1], return_counts=True)\n",
    "clases = sorted(clases)\n",
    "\n",
    "cl = ClasificadorNaiveBayes()\n",
    "cl.entrenamiento(datostrain, dataset.nominalAtributos, dataset.diccionario)\n",
    "\n",
    "prediccion = cl.clasifica(datostest, dataset.nominalAtributos, dataset.diccionario)\n",
    "\n",
    "conf_data = np.empty((len(prediccion), 2))\n",
    "for i in range(conf_data.shape[0]):\n",
    "    conf_data[i] = [cl.probabilidades[i][1], datostest[i][-1]]\n",
    "\n",
    "conf_data = sorted(conf_data, key=lambda x: x[0])\n"
   ]
  },
  {
   "cell_type": "markdown",
   "metadata": {},
   "source": [
    "Construimos la matriz de confusión. Como anotación, se asume que la clase negativa es la de menor valor y la positiva la de mayor valor."
   ]
  },
  {
   "cell_type": "code",
   "execution_count": 69,
   "metadata": {},
   "outputs": [],
   "source": [
    "matriz_conf_tic_simple, tpr_tic_simple, fpr_tic_simple = get_matriz_conf_data(conf_data, clases, counts)"
   ]
  },
  {
   "cell_type": "code",
   "execution_count": 70,
   "metadata": {},
   "outputs": [
    {
     "data": {
      "image/png": "[encoded data removed]",
      "text/plain": [
       "<Figure size 432x288 with 1 Axes>"
      ]
     },
     "metadata": {
      "needs_background": "light"
     },
     "output_type": "display_data"
    }
   ],
   "source": [
    "plt.figure()\n",
    "plt.plot(fpr_tic_simple, tpr_tic_simple)\n",
    "plt.title(\"Curva ROC tic-tac-toe.data validación simple\")\n",
    "plt.xlabel(\"FPR\")\n",
    "plt.ylabel(\"TPR\")\n",
    "plt.show()"
   ]
  },
  {
   "cell_type": "markdown",
   "metadata": {},
   "source": [
    "Ahora para tic-tac-toe.data con validación cruzada con 3 folds:"
   ]
  },
  {
   "cell_type": "code",
   "execution_count": 71,
   "metadata": {},
   "outputs": [],
   "source": [
    "archivo = 'tic-tac-toe.data'\n",
    "\n",
    "dataset = Datos(archivo)\n",
    "\n",
    "datos = dataset.datos\n",
    "# Utilizamos el diccionario para adaptar los datos\n",
    "for i in range(datos.shape[0]):\n",
    "    for j in range(datos.shape[1]):\n",
    "        if dataset.nominalAtributos[j] or j==datos.shape[1]-1:\n",
    "            datos[i, j] = dataset.diccionario[j][datos[i, j]]\n",
    "\n",
    "\n",
    "vc = ValidacionCruzada(k)\n",
    "\n",
    "particiones = vc.creaParticiones(len(dataset.datos), seed=seed)\n",
    "matrices_conf_tic_cruzada = []\n",
    "tpr_tic_cruzada_lista = []\n",
    "fpr_tic_cruzada_lista = []\n",
    "\n",
    "for particion in particiones:\n",
    "    datostrain = dataset.extraeDatos(particion.indicesTrain)\n",
    "    datostest = dataset.extraeDatos(particion.indicesTest)\n",
    "    datostest = np.array(datostest)\n",
    "\n",
    "    clases, counts = np.unique(datostest[:, -1], return_counts=True)\n",
    "    clases = sorted(clases)\n",
    "\n",
    "\n",
    "    cl = ClasificadorNaiveBayes()\n",
    "    cl.entrenamiento(datostrain, dataset.nominalAtributos, dataset.diccionario)\n",
    "\n",
    "    prediccion = cl.clasifica(datostest, dataset.nominalAtributos, dataset.diccionario)\n",
    "    \n",
    "    conf_data = np.empty((len(prediccion), 2))\n",
    "    for i in range(conf_data.shape[0]):\n",
    "        conf_data[i] = [cl.probabilidades[i][1], datostest[i][-1]]\n",
    "\n",
    "    conf_data = sorted(conf_data, key=lambda x: x[0])\n",
    "    \n",
    "    matriz_conf_tic_cruzada, tpr_tic_cruzada, fpr_tic_cruzada = get_matriz_conf_data(conf_data, clases, counts)\n",
    "    matrices_conf_tic_cruzada.append(matriz_conf_tic_cruzada)\n",
    "    tpr_tic_cruzada_lista.append(tpr_tic_cruzada)\n",
    "    fpr_tic_cruzada_lista.append(fpr_tic_cruzada)"
   ]
  },
  {
   "cell_type": "code",
   "execution_count": 72,
   "metadata": {},
   "outputs": [
    {
     "data": {
      "image/png": "[encoded data removed]",
      "text/plain": [
       "<Figure size 432x288 with 1 Axes>"
      ]
     },
     "metadata": {
      "needs_background": "light"
     },
     "output_type": "display_data"
    }
   ],
   "source": [
    "plt.figure()\n",
    "\n",
    "for i in range(k):\n",
    "    plt.plot(fpr_tic_cruzada_lista[i], tpr_tic_cruzada_lista[i], label=\"Fold \" + str(i))\n",
    "    \n",
    "plt.title(\"Curva ROC tic-tac-toe.data validación cruzada\")\n",
    "plt.xlabel(\"FPR\")\n",
    "plt.ylabel(\"TPR\")\n",
    "plt.legend(loc='lower right')\n",
    "plt.show()"
   ]
  },
  {
   "cell_type": "markdown",
   "metadata": {},
   "source": [
    "german.data y validacion simple:"
   ]
  },
  {
   "cell_type": "code",
   "execution_count": 73,
   "metadata": {},
   "outputs": [],
   "source": [
    "archivo = 'german.data'\n",
    "\n",
    "dataset = Datos(archivo)\n",
    "\n",
    "datos = dataset.datos\n",
    "# Utilizamos el diccionario para adaptar los datos\n",
    "for i in range(datos.shape[0]):\n",
    "    for j in range(datos.shape[1]):\n",
    "        if dataset.nominalAtributos[j] or j==datos.shape[1]-1:\n",
    "            datos[i, j] = dataset.diccionario[j][datos[i, j]]\n",
    "\n",
    "vs = ValidacionSimple(p, 1)\n",
    "particiones = vs.creaParticiones(len(dataset.datos), seed=seed)\n",
    "\n",
    "datostrain = dataset.extraeDatos(particiones[0].indicesTrain)\n",
    "datostest = dataset.extraeDatos(particiones[0].indicesTest)\n",
    "datostest = np.array(datostest)\n",
    "\n",
    "clases, counts = np.unique(datostest[:, -1], return_counts=True)\n",
    "clases = sorted(clases)\n",
    "\n",
    "cl = ClasificadorNaiveBayes()\n",
    "cl.entrenamiento(datostrain, dataset.nominalAtributos, dataset.diccionario)\n",
    "\n",
    "prediccion = cl.clasifica(datostest, dataset.nominalAtributos, dataset.diccionario)\n",
    "\n",
    "conf_data = np.empty((len(prediccion), 2))\n",
    "for i in range(conf_data.shape[0]):\n",
    "    conf_data[i] = [cl.probabilidades[i][1], datostest[i][-1]]\n",
    "\n",
    "conf_data = sorted(conf_data, key=lambda x: x[0])\n"
   ]
  },
  {
   "cell_type": "code",
   "execution_count": 74,
   "metadata": {},
   "outputs": [],
   "source": [
    "matriz_conf_german_simple, tpr_german_simple, fpr_german_simple = get_matriz_conf_data(conf_data, clases, counts)"
   ]
  },
  {
   "cell_type": "code",
   "execution_count": 75,
   "metadata": {},
   "outputs": [
    {
     "data": {
      "image/png": "[encoded data removed]",
      "text/plain": [
       "<Figure size 432x288 with 1 Axes>"
      ]
     },
     "metadata": {
      "needs_background": "light"
     },
     "output_type": "display_data"
    }
   ],
   "source": [
    "plt.figure()\n",
    "plt.plot(fpr_german_simple, tpr_german_simple)\n",
    "plt.title(\"Curva ROC german.data validación simple\")\n",
    "plt.xlabel(\"FPR\")\n",
    "plt.ylabel(\"TPR\")\n",
    "plt.show()"
   ]
  },
  {
   "cell_type": "code",
   "execution_count": 76,
   "metadata": {},
   "outputs": [],
   "source": [
    "archivo = 'german.data'\n",
    "\n",
    "dataset = Datos(archivo)\n",
    "\n",
    "datos = dataset.datos\n",
    "# Utilizamos el diccionario para adaptar los datos\n",
    "for i in range(datos.shape[0]):\n",
    "    for j in range(datos.shape[1]):\n",
    "        if dataset.nominalAtributos[j] or j==datos.shape[1]-1:\n",
    "            datos[i, j] = dataset.diccionario[j][datos[i, j]]\n",
    "\n",
    "\n",
    "vc = ValidacionCruzada(k)\n",
    "\n",
    "particiones = vc.creaParticiones(len(dataset.datos), seed=seed)\n",
    "matrices_conf_german_cruzada = []\n",
    "tpr_german_cruzada_lista = []\n",
    "fpr_german_cruzada_lista = []\n",
    "\n",
    "for particion in particiones:\n",
    "    datostrain = dataset.extraeDatos(particion.indicesTrain)\n",
    "    datostest = dataset.extraeDatos(particion.indicesTest)\n",
    "    datostest = np.array(datostest)\n",
    "\n",
    "    clases, counts = np.unique(datostest[:, -1], return_counts=True)\n",
    "    clases = sorted(clases)\n",
    "\n",
    "    cl = ClasificadorNaiveBayes()\n",
    "    cl.entrenamiento(datostrain, dataset.nominalAtributos, dataset.diccionario)\n",
    "\n",
    "    prediccion = cl.clasifica(datostest, dataset.nominalAtributos, dataset.diccionario)\n",
    "    \n",
    "    conf_data = np.empty((len(prediccion), 2))\n",
    "    for i in range(conf_data.shape[0]):\n",
    "        conf_data[i] = [cl.probabilidades[i][1], datostest[i][-1]]\n",
    "\n",
    "    conf_data = sorted(conf_data, key=lambda x: x[0])\n",
    "    \n",
    "    matriz_conf_german_cruzada, tpr_german_cruzada, fpr_german_cruzada = get_matriz_conf_data(conf_data, clases, counts)\n",
    "    matrices_conf_german_cruzada.append(matriz_conf_german_cruzada)\n",
    "    tpr_german_cruzada_lista.append(tpr_german_cruzada)\n",
    "    fpr_german_cruzada_lista.append(fpr_german_cruzada)"
   ]
  },
  {
   "cell_type": "code",
   "execution_count": 77,
   "metadata": {},
   "outputs": [
    {
     "data": {
      "image/png": "[encoded data removed]",
      "text/plain": [
       "<Figure size 432x288 with 1 Axes>"
      ]
     },
     "metadata": {
      "needs_background": "light"
     },
     "output_type": "display_data"
    }
   ],
   "source": [
    "plt.figure()\n",
    "\n",
    "for i in range(k):\n",
    "    plt.plot(fpr_german_cruzada_lista[i], tpr_german_cruzada_lista[i], label=\"Fold \" + str(i))\n",
    "    \n",
    "plt.title(\"Curva ROC german.data validación cruzada\")\n",
    "plt.xlabel(\"FPR\")\n",
    "plt.ylabel(\"TPR\")\n",
    "plt.legend(loc='lower right')\n",
    "plt.show()"
   ]
  },
  {
   "cell_type": "code",
   "execution_count": null,
   "metadata": {},
   "outputs": [],
   "source": []
  },
  {
   "cell_type": "code",
   "execution_count": null,
   "metadata": {},
   "outputs": [],
   "source": []
  }
 ],
 "metadata": {
  "kernelspec": {
   "display_name": "Python 3",
   "language": "python",
   "name": "python3"
  },
  "language_info": {
   "codemirror_mode": {
    "name": "ipython",
    "version": 3
   },
   "file_extension": ".py",
   "mimetype": "text/x-python",
   "name": "python",
   "nbconvert_exporter": "python",
   "pygments_lexer": "ipython3",
   "version": "3.7.4"
  }
 },
 "nbformat": 4,
 "nbformat_minor": 4
}
