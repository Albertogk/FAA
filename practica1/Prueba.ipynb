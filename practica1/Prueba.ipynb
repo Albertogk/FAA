{
 "cells": [
  {
   "cell_type": "code",
   "execution_count": 2,
   "metadata": {},
   "outputs": [],
   "source": [
    "from Datos import Datos\n",
    "from EstrategiaParticionado import *\n",
    "from Clasificador import *\n",
    "import matplotlib.pyplot as plt\n",
    "import numpy as np\n",
    "from sklearn.naive_bayes import MultinomialNB, GaussianNB\n",
    "from sklearn.preprocessing import OneHotEncoder\n",
    "from sklearn.model_selection import train_test_split, cross_val_score, KFold\n",
    "from sklearn import metrics"
   ]
  },
  {
   "cell_type": "markdown",
   "metadata": {},
   "source": [
    "<h3>Prueba de la clase EstrategiaParticionado<h3>"
   ]
  },
  {
   "cell_type": "code",
   "execution_count": 2,
   "metadata": {},
   "outputs": [],
   "source": [
    "k = 3\n",
    "p = 0.3\n",
    "nEjecuciones = 3\n",
    "\n",
    "n_datos = 10\n",
    "\n",
    "dataset = Datos(\"tic-tac-toe.data\")\n",
    "\n",
    "#Cambio estrategia particionado comentar"
   ]
  },
  {
   "cell_type": "markdown",
   "metadata": {},
   "source": [
    "Se prueba primero ValidacionSimple. Para visualizar mejor la partición, solo se usan los n_datos = 10 primeros datos del dataset. En general, el parametro n_datos debería ser igual al número de datos en el dataset. "
   ]
  },
  {
   "cell_type": "code",
   "execution_count": 3,
   "metadata": {},
   "outputs": [
    {
     "name": "stdout",
     "output_type": "stream",
     "text": [
      "Test: [array(['x', 'x', 'x', 'x', 'o', 'o', 'b', 'b', 'o', 'positive'],\n",
      "      dtype=object), array(['x', 'x', 'x', 'x', 'o', 'b', 'o', 'b', 'o', 'positive'],\n",
      "      dtype=object), array(['x', 'x', 'x', 'x', 'o', 'o', 'x', 'o', 'o', 'positive'],\n",
      "      dtype=object)]\n",
      "Train: [array(['x', 'x', 'x', 'x', 'o', 'o', 'b', 'o', 'b', 'positive'],\n",
      "      dtype=object), array(['x', 'x', 'x', 'x', 'o', 'b', 'o', 'o', 'b', 'positive'],\n",
      "      dtype=object), array(['x', 'x', 'x', 'x', 'o', 'b', 'b', 'o', 'o', 'positive'],\n",
      "      dtype=object), array(['x', 'x', 'x', 'x', 'o', 'o', 'o', 'o', 'x', 'positive'],\n",
      "      dtype=object), array(['x', 'x', 'x', 'x', 'o', 'o', 'o', 'x', 'o', 'positive'],\n",
      "      dtype=object), array(['x', 'x', 'x', 'x', 'b', 'o', 'o', 'o', 'b', 'positive'],\n",
      "      dtype=object), array(['x', 'x', 'x', 'x', 'o', 'o', 'o', 'b', 'b', 'positive'],\n",
      "      dtype=object)]\n",
      "\n",
      "Test: [array(['x', 'x', 'x', 'x', 'o', 'o', 'x', 'o', 'o', 'positive'],\n",
      "      dtype=object), array(['x', 'x', 'x', 'x', 'o', 'b', 'b', 'o', 'o', 'positive'],\n",
      "      dtype=object), array(['x', 'x', 'x', 'x', 'o', 'o', 'o', 'o', 'x', 'positive'],\n",
      "      dtype=object)]\n",
      "Train: [array(['x', 'x', 'x', 'x', 'o', 'o', 'b', 'o', 'b', 'positive'],\n",
      "      dtype=object), array(['x', 'x', 'x', 'x', 'o', 'b', 'o', 'o', 'b', 'positive'],\n",
      "      dtype=object), array(['x', 'x', 'x', 'x', 'o', 'o', 'b', 'b', 'o', 'positive'],\n",
      "      dtype=object), array(['x', 'x', 'x', 'x', 'o', 'o', 'o', 'x', 'o', 'positive'],\n",
      "      dtype=object), array(['x', 'x', 'x', 'x', 'b', 'o', 'o', 'o', 'b', 'positive'],\n",
      "      dtype=object), array(['x', 'x', 'x', 'x', 'o', 'b', 'o', 'b', 'o', 'positive'],\n",
      "      dtype=object), array(['x', 'x', 'x', 'x', 'o', 'o', 'o', 'b', 'b', 'positive'],\n",
      "      dtype=object)]\n",
      "\n",
      "Test: [array(['x', 'x', 'x', 'x', 'o', 'o', 'x', 'o', 'o', 'positive'],\n",
      "      dtype=object), array(['x', 'x', 'x', 'x', 'o', 'o', 'b', 'o', 'b', 'positive'],\n",
      "      dtype=object), array(['x', 'x', 'x', 'x', 'o', 'b', 'b', 'o', 'o', 'positive'],\n",
      "      dtype=object)]\n",
      "Train: [array(['x', 'x', 'x', 'x', 'o', 'b', 'o', 'o', 'b', 'positive'],\n",
      "      dtype=object), array(['x', 'x', 'x', 'x', 'o', 'o', 'o', 'x', 'o', 'positive'],\n",
      "      dtype=object), array(['x', 'x', 'x', 'x', 'b', 'o', 'o', 'o', 'b', 'positive'],\n",
      "      dtype=object), array(['x', 'x', 'x', 'x', 'o', 'o', 'o', 'o', 'x', 'positive'],\n",
      "      dtype=object), array(['x', 'x', 'x', 'x', 'o', 'o', 'o', 'b', 'b', 'positive'],\n",
      "      dtype=object), array(['x', 'x', 'x', 'x', 'o', 'b', 'o', 'b', 'o', 'positive'],\n",
      "      dtype=object), array(['x', 'x', 'x', 'x', 'o', 'o', 'b', 'b', 'o', 'positive'],\n",
      "      dtype=object)]\n",
      "\n"
     ]
    }
   ],
   "source": [
    "\n",
    "estrategia_simple = ValidacionSimple(p, nEjecuciones)\n",
    "particiones_simple = estrategia_simple.creaParticiones(n_datos)\n",
    "\n",
    "for particion in particiones_simple:\n",
    "    datos_test = dataset.extraeDatos(particion.indicesTest)\n",
    "    datos_train = dataset.extraeDatos(particion.indicesTrain)\n",
    "    print(\"Test:\", str(datos_test))\n",
    "    print(\"Train:\", str(datos_train))\n",
    "    print()\n",
    "    "
   ]
  },
  {
   "cell_type": "markdown",
   "metadata": {},
   "source": [
    "Prueba de ValidacionCruzada con parametro k = 3. Igual que en el caso anterior, para facilitar la visualización solose usan los 10 primeros datos (n_datos). "
   ]
  },
  {
   "cell_type": "code",
   "execution_count": 4,
   "metadata": {},
   "outputs": [
    {
     "name": "stdout",
     "output_type": "stream",
     "text": [
      "Test: [array(['x', 'x', 'x', 'x', 'o', 'o', 'o', 'b', 'b', 'positive'],\n",
      "      dtype=object), array(['x', 'x', 'x', 'x', 'o', 'o', 'x', 'o', 'o', 'positive'],\n",
      "      dtype=object), array(['x', 'x', 'x', 'x', 'o', 'b', 'o', 'o', 'b', 'positive'],\n",
      "      dtype=object)]\n",
      "Train: [array(['x', 'x', 'x', 'x', 'o', 'b', 'b', 'o', 'o', 'positive'],\n",
      "      dtype=object), array(['x', 'x', 'x', 'x', 'o', 'o', 'b', 'o', 'b', 'positive'],\n",
      "      dtype=object), array(['x', 'x', 'x', 'x', 'b', 'o', 'o', 'o', 'b', 'positive'],\n",
      "      dtype=object), array(['x', 'x', 'x', 'x', 'o', 'o', 'o', 'o', 'x', 'positive'],\n",
      "      dtype=object), array(['x', 'x', 'x', 'x', 'o', 'b', 'o', 'b', 'o', 'positive'],\n",
      "      dtype=object), array(['x', 'x', 'x', 'x', 'o', 'o', 'o', 'x', 'o', 'positive'],\n",
      "      dtype=object), array(['x', 'x', 'x', 'x', 'o', 'o', 'b', 'b', 'o', 'positive'],\n",
      "      dtype=object)]\n",
      "\n",
      "Test: [array(['x', 'x', 'x', 'x', 'o', 'b', 'b', 'o', 'o', 'positive'],\n",
      "      dtype=object), array(['x', 'x', 'x', 'x', 'o', 'o', 'b', 'o', 'b', 'positive'],\n",
      "      dtype=object), array(['x', 'x', 'x', 'x', 'b', 'o', 'o', 'o', 'b', 'positive'],\n",
      "      dtype=object)]\n",
      "Train: [array(['x', 'x', 'x', 'x', 'o', 'o', 'o', 'b', 'b', 'positive'],\n",
      "      dtype=object), array(['x', 'x', 'x', 'x', 'o', 'o', 'x', 'o', 'o', 'positive'],\n",
      "      dtype=object), array(['x', 'x', 'x', 'x', 'o', 'b', 'o', 'o', 'b', 'positive'],\n",
      "      dtype=object), array(['x', 'x', 'x', 'x', 'o', 'o', 'o', 'o', 'x', 'positive'],\n",
      "      dtype=object), array(['x', 'x', 'x', 'x', 'o', 'b', 'o', 'b', 'o', 'positive'],\n",
      "      dtype=object), array(['x', 'x', 'x', 'x', 'o', 'o', 'o', 'x', 'o', 'positive'],\n",
      "      dtype=object), array(['x', 'x', 'x', 'x', 'o', 'o', 'b', 'b', 'o', 'positive'],\n",
      "      dtype=object)]\n",
      "\n",
      "Test: [array(['x', 'x', 'x', 'x', 'o', 'o', 'o', 'o', 'x', 'positive'],\n",
      "      dtype=object), array(['x', 'x', 'x', 'x', 'o', 'b', 'o', 'b', 'o', 'positive'],\n",
      "      dtype=object), array(['x', 'x', 'x', 'x', 'o', 'o', 'o', 'x', 'o', 'positive'],\n",
      "      dtype=object)]\n",
      "Train: [array(['x', 'x', 'x', 'x', 'o', 'o', 'o', 'b', 'b', 'positive'],\n",
      "      dtype=object), array(['x', 'x', 'x', 'x', 'o', 'o', 'x', 'o', 'o', 'positive'],\n",
      "      dtype=object), array(['x', 'x', 'x', 'x', 'o', 'b', 'o', 'o', 'b', 'positive'],\n",
      "      dtype=object), array(['x', 'x', 'x', 'x', 'o', 'b', 'b', 'o', 'o', 'positive'],\n",
      "      dtype=object), array(['x', 'x', 'x', 'x', 'o', 'o', 'b', 'o', 'b', 'positive'],\n",
      "      dtype=object), array(['x', 'x', 'x', 'x', 'b', 'o', 'o', 'o', 'b', 'positive'],\n",
      "      dtype=object), array(['x', 'x', 'x', 'x', 'o', 'o', 'b', 'b', 'o', 'positive'],\n",
      "      dtype=object)]\n",
      "\n"
     ]
    }
   ],
   "source": [
    "estrategia_cruzada = ValidacionCruzada(k)\n",
    "particiones_cruzada = estrategia_cruzada.creaParticiones(n_datos)\n",
    "\n",
    "for particion in particiones_cruzada:\n",
    "\n",
    "    datos_test = dataset.extraeDatos(particion.indicesTest)\n",
    "    datos_train = dataset.extraeDatos(particion.indicesTrain)\n",
    "    print(\"Test:\", str(datos_test))\n",
    "    print(\"Train:\", str(datos_train))\n",
    "    print()"
   ]
  },
  {
   "cell_type": "markdown",
   "metadata": {},
   "source": [
    "<h3>Prueba de la clase Clasificacion<h3>"
   ]
  },
  {
   "cell_type": "markdown",
   "metadata": {},
   "source": [
    "Primero se necesita obtener los datos en un formato correcto."
   ]
  },
  {
   "cell_type": "code",
   "execution_count": 3,
   "metadata": {},
   "outputs": [],
   "source": [
    "archivo = 'tic-tac-toe.data'\n",
    "\n",
    "dataset = Datos(archivo)\n",
    "p = 0.2\n",
    "seed = 0\n",
    "\n",
    "datos = dataset.datos\n",
    "# Utilizamos el diccionario para adaptar los datos\n",
    "for i in range(datos.shape[0]):\n",
    "    for j in range(datos.shape[1]):\n",
    "        if dataset.nominalAtributos[j]:\n",
    "            datos[i, j] = dataset.diccionario[j][datos[i, j]]  "
   ]
  },
  {
   "cell_type": "markdown",
   "metadata": {},
   "source": [
    "Después, crear las particiones datostrain y datostest. En este caso de prueba utilizaremos validacionSimple con nEjecuciones = 1."
   ]
  },
  {
   "cell_type": "code",
   "execution_count": 4,
   "metadata": {},
   "outputs": [],
   "source": [
    "vs = ValidacionSimple(p, 1)\n",
    "particiones = vs.creaParticiones(len(dataset.datos), seed=seed)\n",
    "\n",
    "datostrain = dataset.extraeDatos(particiones[0].indicesTrain)\n",
    "datostest = dataset.extraeDatos(particiones[0].indicesTest)"
   ]
  },
  {
   "cell_type": "markdown",
   "metadata": {},
   "source": [
    "Ahora, se entrena el modelo utilizando el conjunto datostrain"
   ]
  },
  {
   "cell_type": "code",
   "execution_count": 5,
   "metadata": {},
   "outputs": [],
   "source": [
    "cl = ClasificadorNaiveBayes()\n",
    "cl.entrenamiento(datostrain, dataset.nominalAtributos, dataset.diccionario)"
   ]
  },
  {
   "cell_type": "markdown",
   "metadata": {},
   "source": [
    "Y, por último se predice la clase para datostest utilizando los porcentajes obtenidos. "
   ]
  },
  {
   "cell_type": "code",
   "execution_count": 6,
   "metadata": {},
   "outputs": [],
   "source": [
    "prediccion = cl.clasifica(datostest, dataset.nominalAtributos, dataset.diccionario)"
   ]
  },
  {
   "cell_type": "markdown",
   "metadata": {},
   "source": [
    "Mostramos la precisión de nuestra predicción:"
   ]
  },
  {
   "cell_type": "code",
   "execution_count": 7,
   "metadata": {},
   "outputs": [
    {
     "name": "stdout",
     "output_type": "stream",
     "text": [
      "0.6875\n"
     ]
    }
   ],
   "source": [
    "print(1-cl.error(datostest, prediccion))"
   ]
  },
  {
   "cell_type": "markdown",
   "metadata": {},
   "source": [
    "Hemos obtenido aproximadamente un 69% de aciertos en este dataset y particion. Vamos a probar ahora los datos \"german.data\" haciendo las mismas operaciones que en el caso anterior."
   ]
  },
  {
   "cell_type": "code",
   "execution_count": 9,
   "metadata": {},
   "outputs": [],
   "source": [
    "archivo = 'german.data'\n",
    "\n",
    "dataset = Datos(archivo)\n",
    "p = 0.2\n",
    "seed = 0\n",
    "\n",
    "datos = dataset.datos\n",
    "for i in range(datos.shape[0]):\n",
    "    for j in range(datos.shape[1]):\n",
    "        if dataset.nominalAtributos[j] or j == datos.shape[1] - 1:\n",
    "            datos[i, j] = dataset.diccionario[j][datos[i, j]]  \n"
   ]
  },
  {
   "cell_type": "code",
   "execution_count": 10,
   "metadata": {},
   "outputs": [],
   "source": [
    "vs = ValidacionSimple(p, 1)\n",
    "particiones = vs.creaParticiones(len(dataset.datos), seed=seed)\n",
    "\n",
    "datostrain = dataset.extraeDatos(particiones[0].indicesTrain)\n",
    "datostest = dataset.extraeDatos(particiones[0].indicesTest)"
   ]
  },
  {
   "cell_type": "code",
   "execution_count": 11,
   "metadata": {},
   "outputs": [],
   "source": [
    "cl = ClasificadorNaiveBayes()\n",
    "cl.entrenamiento(datostrain, dataset.nominalAtributos, dataset.diccionario)"
   ]
  },
  {
   "cell_type": "code",
   "execution_count": 12,
   "metadata": {},
   "outputs": [],
   "source": [
    "prediccion = cl.clasifica(datostest, dataset.nominalAtributos, dataset.diccionario)"
   ]
  },
  {
   "cell_type": "code",
   "execution_count": 13,
   "metadata": {},
   "outputs": [
    {
     "name": "stdout",
     "output_type": "stream",
     "text": [
      "0.76\n"
     ]
    }
   ],
   "source": [
    "print(1-cl.error(datostest, prediccion))"
   ]
  },
  {
   "cell_type": "markdown",
   "metadata": {},
   "source": [
    "El modelo acierta en aproximadamente 76% de los casos. "
   ]
  },
  {
   "cell_type": "markdown",
   "metadata": {},
   "source": [
    "Una vez hechas las pruebas, vamos a analizar la precisión media de los clasificadores."
   ]
  },
  {
   "cell_type": "markdown",
   "metadata": {},
   "source": [
    "1. Estrategia de particionado: Validación Simple\n"
   ]
  },
  {
   "cell_type": "markdown",
   "metadata": {},
   "source": [
    "Parámetros: nEjecuciones = 10, p = 0.2, archivo: 'tic-tac-toe.data'"
   ]
  },
  {
   "cell_type": "code",
   "execution_count": 14,
   "metadata": {},
   "outputs": [],
   "source": [
    "archivo = 'tic-tac-toe.data'\n",
    "\n",
    "dataset = Datos(archivo)\n",
    "\n",
    "datos = dataset.datos\n",
    "for i in range(datos.shape[0]):\n",
    "    for j in range(datos.shape[1]):\n",
    "        if dataset.nominalAtributos[j] or j == datos.shape[1] - 1:\n",
    "            datos[i, j] = dataset.diccionario[j][datos[i, j]]  "
   ]
  },
  {
   "cell_type": "code",
   "execution_count": 15,
   "metadata": {},
   "outputs": [],
   "source": [
    "p = 0.2\n",
    "nEjecuciones = 10\n",
    "seed = 0\n",
    "\n",
    "vs = ValidacionSimple(p, nEjecuciones)"
   ]
  },
  {
   "cell_type": "code",
   "execution_count": 16,
   "metadata": {},
   "outputs": [],
   "source": [
    "cl = ClasificadorNaiveBayes()\n",
    "errores_vs_a1 = cl.validacion(vs, dataset, dataset.diccionario, dataset.nominalAtributos, seed=seed)"
   ]
  },
  {
   "cell_type": "markdown",
   "metadata": {},
   "source": [
    "Calculamos la media y la desviación tipica de los errores:"
   ]
  },
  {
   "cell_type": "code",
   "execution_count": 17,
   "metadata": {},
   "outputs": [
    {
     "name": "stdout",
     "output_type": "stream",
     "text": [
      "0.3026041666666666 0.03700849775727191\n"
     ]
    }
   ],
   "source": [
    "media_vs_a1 = np.mean(errores_vs_a1)\n",
    "desv_vs_a1 = np.std(errores_vs_a1)\n",
    "\n",
    "print(media_vs_a1, desv_vs_a1)"
   ]
  },
  {
   "cell_type": "markdown",
   "metadata": {},
   "source": [
    "Hacemos lo mismo para otro conjunto de datos"
   ]
  },
  {
   "cell_type": "code",
   "execution_count": 18,
   "metadata": {},
   "outputs": [],
   "source": [
    "archivo = 'german.data'\n",
    "\n",
    "dataset = Datos(archivo)\n",
    "\n",
    "datos = dataset.datos\n",
    "for i in range(datos.shape[0]):\n",
    "    for j in range(datos.shape[1]):\n",
    "        if dataset.nominalAtributos[j] or j == datos.shape[1] - 1:\n",
    "            datos[i, j] = dataset.diccionario[j][datos[i, j]]  "
   ]
  },
  {
   "cell_type": "code",
   "execution_count": 19,
   "metadata": {},
   "outputs": [],
   "source": [
    "p = 0.2\n",
    "nEjecuciones = 10\n",
    "\n",
    "vs = ValidacionSimple(p, nEjecuciones)"
   ]
  },
  {
   "cell_type": "code",
   "execution_count": 20,
   "metadata": {},
   "outputs": [],
   "source": [
    "cl = ClasificadorNaiveBayes()\n",
    "errores_vs_a2 = cl.validacion(vs, dataset, dataset.diccionario, dataset.nominalAtributos, seed=0)"
   ]
  },
  {
   "cell_type": "code",
   "execution_count": 21,
   "metadata": {},
   "outputs": [
    {
     "name": "stdout",
     "output_type": "stream",
     "text": [
      "0.2545 0.025927784324928344\n"
     ]
    }
   ],
   "source": [
    "media_vs_a2 = np.mean(errores_vs_a2)\n",
    "desv_vs_a2 = np.std(errores_vs_a2)\n",
    "\n",
    "print(media_vs_a2, desv_vs_a2)"
   ]
  },
  {
   "cell_type": "markdown",
   "metadata": {},
   "source": [
    "Y ahora, para la validación cruzada con k = 10"
   ]
  },
  {
   "cell_type": "markdown",
   "metadata": {},
   "source": [
    "tic-tac-toe.data"
   ]
  },
  {
   "cell_type": "code",
   "execution_count": 22,
   "metadata": {},
   "outputs": [
    {
     "name": "stdout",
     "output_type": "stream",
     "text": [
      "0.3042105263157895 0.05058111063887985\n"
     ]
    }
   ],
   "source": [
    "archivo = 'tic-tac-toe.data'\n",
    "\n",
    "dataset = Datos(archivo)\n",
    "\n",
    "datos = dataset.datos\n",
    "for i in range(datos.shape[0]):\n",
    "    for j in range(datos.shape[1]):\n",
    "        if dataset.nominalAtributos[j] or j == datos.shape[1] - 1:\n",
    "            datos[i, j] = dataset.diccionario[j][datos[i, j]]\n",
    "\n",
    "k = 10\n",
    "vc = ValidacionCruzada(k)\n",
    "\n",
    "cl = ClasificadorNaiveBayes()\n",
    "errores_vc_a1 = cl.validacion(vc, dataset, dataset.diccionario, dataset.nominalAtributos, seed=0)\n",
    "\n",
    "media_vc_a1 = np.mean(errores_vc_a1)\n",
    "desv_vc_a1 = np.std(errores_vc_a1)\n",
    "\n",
    "print(media_vc_a1, desv_vc_a1)"
   ]
  },
  {
   "cell_type": "markdown",
   "metadata": {},
   "source": [
    "german.data"
   ]
  },
  {
   "cell_type": "code",
   "execution_count": 23,
   "metadata": {},
   "outputs": [
    {
     "name": "stdout",
     "output_type": "stream",
     "text": [
      "0.242 0.0342928563989645\n"
     ]
    }
   ],
   "source": [
    "archivo = 'german.data'\n",
    "\n",
    "dataset = Datos(archivo)\n",
    "\n",
    "datos = dataset.datos\n",
    "for i in range(datos.shape[0]):\n",
    "    for j in range(datos.shape[1]):\n",
    "        if dataset.nominalAtributos[j] or j == datos.shape[1] - 1:\n",
    "            datos[i, j] = dataset.diccionario[j][datos[i, j]]\n",
    "\n",
    "k = 10\n",
    "vc = ValidacionCruzada(k)\n",
    "\n",
    "cl = ClasificadorNaiveBayes()\n",
    "errores_vc_a2 = cl.validacion(vc, dataset, dataset.diccionario, dataset.nominalAtributos, seed=0)\n",
    "\n",
    "media_vc_a2 = np.mean(errores_vc_a2)\n",
    "desv_vc_a2 = np.std(errores_vc_a2)\n",
    "\n",
    "print(media_vc_a2, desv_vc_a2)"
   ]
  },
  {
   "cell_type": "markdown",
   "metadata": {},
   "source": [
    "Imprimimos todos los datos juntos:"
   ]
  },
  {
   "cell_type": "code",
   "execution_count": 24,
   "metadata": {},
   "outputs": [
    {
     "name": "stdout",
     "output_type": "stream",
     "text": [
      "\ttic-tac-toe\t\tgerman\n",
      "VS\t( 0.303 0.037 )\t\t( 0.254 0.026 )\n",
      "VC\t( 0.304 0.051 )\t\t( 0.242 0.034 )\n"
     ]
    }
   ],
   "source": [
    "print('\\ttic-tac-toe\\t\\tgerman')\n",
    "print('VS\\t(', round(media_vs_a1, 3), round(desv_vs_a1,3), ')\\t\\t(', round(media_vs_a2, 3), round(desv_vs_a2,3), ')')\n",
    "print('VC\\t(', round(media_vc_a1, 3), round(desv_vc_a1,3), ')\\t\\t(', round(media_vc_a2, 3), round(desv_vc_a2,3), ')')"
   ]
  },
  {
   "cell_type": "markdown",
   "metadata": {},
   "source": [
    "No se aprecia una gran diferencia entre validación simple y validación cruzada, de hecho las medias son prácticamente iguales, aunque la desviación tipica es algo mejor en el caso de validación simple. "
   ]
  },
  {
   "cell_type": "markdown",
   "metadata": {},
   "source": [
    "Y, respecto a la diferencia entre ambos archivos, parece que la predicción para german.data es algo más precisa. "
   ]
  },
  {
   "cell_type": "markdown",
   "metadata": {},
   "source": [
    "En ambos casos, la desviación típica es pequeña, por tanto cabe esperar que el error cometido se encuentre cerca de la media calculada. "
   ]
  },
  {
   "cell_type": "markdown",
   "metadata": {},
   "source": [
    "<h3>Scikit-Learn</h3>"
   ]
  },
  {
   "cell_type": "markdown",
   "metadata": {},
   "source": [
    "En el caso de Scikit-Learn, no hay una función que te permita tratar ciertos datosz como categóricos y ciertos datos del mismo dataset como continuos. Por tanto, utilizaremos MultinomialNB para el caso de datos categóricos (tic-tac-toe.data) y GaussianNB para el caso de que haya algún dato continuo (german.data)."
   ]
  },
  {
   "cell_type": "markdown",
   "metadata": {},
   "source": [
    "Primero empezamos con las pruebas de validación simple y con tic-tac-toe.data. Transformamos los datos al formato adecuado y realizamos la partición:"
   ]
  },
  {
   "cell_type": "code",
   "execution_count": 31,
   "metadata": {},
   "outputs": [],
   "source": [
    "archivo = 'tic-tac-toe.data'\n",
    "p = 0.2\n",
    "seed = 0\n",
    "\n",
    "dataset = Datos(archivo)\n",
    "\n",
    "datos = dataset.datos\n",
    "# Utilizamos el diccionario para adaptar los datos\n",
    "for i in range(datos.shape[0]):\n",
    "    for j in range(datos.shape[1]):\n",
    "        if dataset.nominalAtributos[j]:\n",
    "            datos[i, j] = dataset.diccionario[j][datos[i, j]]\n",
    "            \n",
    "X = datos[:, :-1]\n",
    "y = datos[:, -1]\n",
    "\n",
    "X = X.astype('int32')\n",
    "y = y.astype('int32')\n",
    "\n",
    "X_train, X_test, y_train, y_test = train_test_split(X, y, test_size=p, random_state=seed)"
   ]
  },
  {
   "cell_type": "markdown",
   "metadata": {},
   "source": [
    "Procedemos con la clasificación. Haremos una prueba sin Laplace (alpha=0) y otra con Laplace (alpha=1):"
   ]
  },
  {
   "cell_type": "code",
   "execution_count": 32,
   "metadata": {},
   "outputs": [
    {
     "name": "stdout",
     "output_type": "stream",
     "text": [
      "Accuracy: 0.6197916666666666\n"
     ]
    },
    {
     "name": "stderr",
     "output_type": "stream",
     "text": [
      "c:\\users\\admitin\\appdata\\local\\programs\\python\\python37-32\\lib\\site-packages\\sklearn\\naive_bayes.py:512: UserWarning: alpha too small will result in numeric errors, setting alpha = 1.0e-10\n",
      "  'setting alpha = %.1e' % _ALPHA_MIN)\n"
     ]
    }
   ],
   "source": [
    "mnb0 = MultinomialNB(alpha=0)\n",
    "\n",
    "mnb0.fit(X_train, y_train)\n",
    "\n",
    "y_pred0 = mnb0.predict(X_test)\n",
    "\n",
    "ac_tic_simple_0 = metrics.accuracy_score(y_test, y_pred0)\n",
    "print(\"Accuracy:\", ac_tic_simple_0)\n"
   ]
  },
  {
   "cell_type": "code",
   "execution_count": 33,
   "metadata": {},
   "outputs": [
    {
     "name": "stdout",
     "output_type": "stream",
     "text": [
      "Accuracy: 0.6197916666666666\n"
     ]
    }
   ],
   "source": [
    "mnb1 = MultinomialNB(alpha=1)\n",
    "\n",
    "mnb1.fit(X_train, y_train)\n",
    "\n",
    "y_pred1 = mnb1.predict(X_test)\n",
    "\n",
    "ac_tic_simple_1 = metrics.accuracy_score(y_test, y_pred1)\n",
    "print(\"Accuracy:\", ac_tic_simple_1)"
   ]
  },
  {
   "cell_type": "markdown",
   "metadata": {},
   "source": [
    "Observamos que no hay diferencia entre haber utilizado Laplace y no haberlo utilizado. Puede que en este caso haya sido así, pero en general es buena idea utilizar Laplace, porque no sabes como es el dataset, y podría ocurrir que alguna de las probabilidades condicionadas fuesen 0."
   ]
  },
  {
   "cell_type": "markdown",
   "metadata": {},
   "source": [
    "Procedemos a realizar la misma prueba, pero esta vez utilizando validación cruzada:"
   ]
  },
  {
   "cell_type": "code",
   "execution_count": 34,
   "metadata": {},
   "outputs": [],
   "source": [
    "archivo = 'tic-tac-toe.data'\n",
    "p = 0.2\n",
    "seed = 123\n",
    "k = 10\n",
    "\n",
    "dataset = Datos(archivo)\n",
    "\n",
    "datos = dataset.datos\n",
    "# Utilizamos el diccionario para adaptar los datos\n",
    "for i in range(datos.shape[0]):\n",
    "    for j in range(datos.shape[1]):\n",
    "        if dataset.nominalAtributos[j]:\n",
    "            datos[i, j] = dataset.diccionario[j][datos[i, j]]\n",
    "            \n",
    "X = datos[:, :-1]\n",
    "y = datos[:, -1]\n",
    "\n",
    "X = X.astype('int32')\n",
    "y = y.astype('int32')\n"
   ]
  },
  {
   "cell_type": "code",
   "execution_count": 35,
   "metadata": {},
   "outputs": [
    {
     "name": "stdout",
     "output_type": "stream",
     "text": [
      "Accuracy: 0.6041666666666666\n",
      "Accuracy: 0.6979166666666666\n",
      "Accuracy: 0.5625\n",
      "Accuracy: 0.6875\n",
      "Accuracy: 0.6875\n",
      "Accuracy: 0.6770833333333334\n",
      "Accuracy: 0.6354166666666666\n",
      "Accuracy: 0.6145833333333334\n",
      "Accuracy: 0.7052631578947368\n",
      "Accuracy: 0.6947368421052632\n"
     ]
    },
    {
     "name": "stderr",
     "output_type": "stream",
     "text": [
      "c:\\users\\admitin\\appdata\\local\\programs\\python\\python37-32\\lib\\site-packages\\sklearn\\naive_bayes.py:512: UserWarning: alpha too small will result in numeric errors, setting alpha = 1.0e-10\n",
      "  'setting alpha = %.1e' % _ALPHA_MIN)\n",
      "c:\\users\\admitin\\appdata\\local\\programs\\python\\python37-32\\lib\\site-packages\\sklearn\\naive_bayes.py:512: UserWarning: alpha too small will result in numeric errors, setting alpha = 1.0e-10\n",
      "  'setting alpha = %.1e' % _ALPHA_MIN)\n",
      "c:\\users\\admitin\\appdata\\local\\programs\\python\\python37-32\\lib\\site-packages\\sklearn\\naive_bayes.py:512: UserWarning: alpha too small will result in numeric errors, setting alpha = 1.0e-10\n",
      "  'setting alpha = %.1e' % _ALPHA_MIN)\n",
      "c:\\users\\admitin\\appdata\\local\\programs\\python\\python37-32\\lib\\site-packages\\sklearn\\naive_bayes.py:512: UserWarning: alpha too small will result in numeric errors, setting alpha = 1.0e-10\n",
      "  'setting alpha = %.1e' % _ALPHA_MIN)\n",
      "c:\\users\\admitin\\appdata\\local\\programs\\python\\python37-32\\lib\\site-packages\\sklearn\\naive_bayes.py:512: UserWarning: alpha too small will result in numeric errors, setting alpha = 1.0e-10\n",
      "  'setting alpha = %.1e' % _ALPHA_MIN)\n",
      "c:\\users\\admitin\\appdata\\local\\programs\\python\\python37-32\\lib\\site-packages\\sklearn\\naive_bayes.py:512: UserWarning: alpha too small will result in numeric errors, setting alpha = 1.0e-10\n",
      "  'setting alpha = %.1e' % _ALPHA_MIN)\n",
      "c:\\users\\admitin\\appdata\\local\\programs\\python\\python37-32\\lib\\site-packages\\sklearn\\naive_bayes.py:512: UserWarning: alpha too small will result in numeric errors, setting alpha = 1.0e-10\n",
      "  'setting alpha = %.1e' % _ALPHA_MIN)\n",
      "c:\\users\\admitin\\appdata\\local\\programs\\python\\python37-32\\lib\\site-packages\\sklearn\\naive_bayes.py:512: UserWarning: alpha too small will result in numeric errors, setting alpha = 1.0e-10\n",
      "  'setting alpha = %.1e' % _ALPHA_MIN)\n",
      "c:\\users\\admitin\\appdata\\local\\programs\\python\\python37-32\\lib\\site-packages\\sklearn\\naive_bayes.py:512: UserWarning: alpha too small will result in numeric errors, setting alpha = 1.0e-10\n",
      "  'setting alpha = %.1e' % _ALPHA_MIN)\n",
      "c:\\users\\admitin\\appdata\\local\\programs\\python\\python37-32\\lib\\site-packages\\sklearn\\naive_bayes.py:512: UserWarning: alpha too small will result in numeric errors, setting alpha = 1.0e-10\n",
      "  'setting alpha = %.1e' % _ALPHA_MIN)\n"
     ]
    }
   ],
   "source": [
    "mnb2 = MultinomialNB(alpha=0)\n",
    "\n",
    "kf = KFold(n_splits=k, random_state=seed, shuffle=True)\n",
    "\n",
    "ac_tic_cruzada_0 = np.empty(k)\n",
    "\n",
    "cnt = 0\n",
    "for train, test in kf.split(X):\n",
    "    X_train, X_test, y_train, y_test = X[train], X[test], y[train], y[test]\n",
    "    \n",
    "    mnb2.fit(X_train, y_train)\n",
    "\n",
    "    y_pred2 = mnb2.predict(X_test)\n",
    "\n",
    "    ac_tic_cruzada_0[cnt] = metrics.accuracy_score(y_test, y_pred2)\n",
    "\n",
    "    print(\"Accuracy:\", ac_tic_cruzada_0[cnt])\n",
    "    cnt += 1"
   ]
  },
  {
   "cell_type": "code",
   "execution_count": 37,
   "metadata": {},
   "outputs": [
    {
     "name": "stdout",
     "output_type": "stream",
     "text": [
      "Accuracy: 0.6041666666666666\n",
      "Accuracy: 0.6979166666666666\n",
      "Accuracy: 0.5625\n",
      "Accuracy: 0.6875\n",
      "Accuracy: 0.6875\n",
      "Accuracy: 0.6770833333333334\n",
      "Accuracy: 0.6354166666666666\n",
      "Accuracy: 0.6145833333333334\n",
      "Accuracy: 0.7052631578947368\n",
      "Accuracy: 0.6947368421052632\n"
     ]
    }
   ],
   "source": [
    "mnb3 = MultinomialNB(alpha=1)\n",
    "\n",
    "kf = KFold(n_splits=k, random_state=seed, shuffle=True)\n",
    "\n",
    "ac_tic_cruzada_1 = np.empty(k)\n",
    "cnt = 0\n",
    "for train, test in kf.split(X):\n",
    "    X_train, X_test, y_train, y_test = X[train], X[test], y[train], y[test]\n",
    "    \n",
    "    mnb3.fit(X_train, y_train)\n",
    "\n",
    "    y_pred3 = mnb3.predict(X_test)\n",
    "\n",
    "    ac_tic_cruzada_1[cnt] = metrics.accuracy_score(y_test, y_pred3)\n",
    "\n",
    "    print(\"Accuracy:\", ac_tic_cruzada_1[cnt])\n",
    "    cnt += 1"
   ]
  },
  {
   "cell_type": "markdown",
   "metadata": {},
   "source": [
    "De nuevo, observamos que Laplace no influye"
   ]
  },
  {
   "cell_type": "markdown",
   "metadata": {},
   "source": [
    "Pasamos a utilizar el dataset german.data y repetimos las mismas pruebas:"
   ]
  },
  {
   "cell_type": "code",
   "execution_count": 40,
   "metadata": {},
   "outputs": [],
   "source": [
    "archivo = 'german.data'\n",
    "p = 0.2\n",
    "seed = 123\n",
    "\n",
    "dataset = Datos(archivo)\n",
    "\n",
    "datos = dataset.datos\n",
    "# Utilizamos el diccionario para adaptar los datos\n",
    "for i in range(datos.shape[0]):\n",
    "    for j in range(datos.shape[1]):\n",
    "        if dataset.nominalAtributos[j]:\n",
    "            datos[i, j] = dataset.diccionario[j][datos[i, j]]\n",
    "            \n",
    "X = datos[:, :-1]\n",
    "y = datos[:, -1]\n",
    "\n",
    "X = X.astype('int32')\n",
    "y = y.astype('int32')\n"
   ]
  },
  {
   "cell_type": "code",
   "execution_count": 41,
   "metadata": {},
   "outputs": [],
   "source": [
    "X_train, X_test, y_train, y_test = train_test_split(X, y, test_size=p, random_state=seed)"
   ]
  },
  {
   "cell_type": "code",
   "execution_count": 42,
   "metadata": {},
   "outputs": [
    {
     "name": "stdout",
     "output_type": "stream",
     "text": [
      "Accuracy: 0.75\n"
     ]
    }
   ],
   "source": [
    "gnb0 = GaussianNB()\n",
    "\n",
    "gnb0.fit(X_train, y_train)\n",
    "\n",
    "y_pred4 = gnb0.predict(X_test)\n",
    "ac_german_simple = metrics.accuracy_score(y_test, y_pred4) \n",
    "print(\"Accuracy:\", ac_german_simple)\n"
   ]
  },
  {
   "cell_type": "code",
   "execution_count": 43,
   "metadata": {},
   "outputs": [
    {
     "name": "stdout",
     "output_type": "stream",
     "text": [
      "Accuracy: 0.74\n",
      "Accuracy: 0.77\n",
      "Accuracy: 0.75\n",
      "Accuracy: 0.77\n",
      "Accuracy: 0.68\n",
      "Accuracy: 0.76\n",
      "Accuracy: 0.77\n",
      "Accuracy: 0.7\n",
      "Accuracy: 0.75\n",
      "Accuracy: 0.66\n"
     ]
    }
   ],
   "source": [
    "gnb1 = GaussianNB()\n",
    "\n",
    "kf = KFold(n_splits=k, random_state=seed, shuffle=True)\n",
    "\n",
    "ac_german_cruzada = np.empty(k)\n",
    "cnt = 0\n",
    "\n",
    "for train, test in kf.split(X):\n",
    "    X_train, X_test, y_train, y_test = X[train], X[test], y[train], y[test]\n",
    "    \n",
    "    gnb1.fit(X_train, y_train)\n",
    "\n",
    "    y_pred5 = gnb1.predict(X_test)\n",
    "    \n",
    "    ac_german_cruzada[cnt] = metrics.accuracy_score(y_test, y_pred5)\n",
    "\n",
    "    print(\"Accuracy:\", ac_german_cruzada[cnt])\n",
    "    cnt += 1"
   ]
  },
  {
   "cell_type": "markdown",
   "metadata": {},
   "source": [
    "Analizamos todos los resultados obtenidos y los comparamos con nuestra implementación. Como los resultados con y sin Laplace son iguales en el caso de Scikit, ignoraremos Laplace:"
   ]
  },
  {
   "cell_type": "code",
   "execution_count": 58,
   "metadata": {},
   "outputs": [
    {
     "name": "stdout",
     "output_type": "stream",
     "text": [
      "\ttic-tac-toe scikit\ttic-tac-toe propio\tgerman scikit\t\tgerman propio\n",
      "VS\t( 0.38 )\t\t( 0.303 0.037 )\t\t( 0.25 )\t\t( 0.254 0.026 )\n",
      "VC\t( 0.343 0.047 )\t\t( 0.304 0.051 )\t\t( 0.265 0.038 )\t\t( 0.242 0.034 )\n"
     ]
    }
   ],
   "source": [
    "print('\\ttic-tac-toe scikit\\ttic-tac-toe propio\\tgerman scikit\\t\\tgerman propio')\n",
    "print('VS\\t(', round(1-ac_tic_simple_0, 3), ')\\t\\t(', round(media_vs_a1, 3), round(desv_vs_a1,3), ')\\t\\t(', round(1-ac_german_simple, 3), ')\\t\\t(', round(media_vs_a2, 3), round(desv_vs_a2,3), ')')\n",
    "print('VC\\t(', round(np.mean(1-ac_tic_cruzada_0), 3), round(np.std(1-ac_tic_cruzada_0),3), ')\\t\\t(', round(media_vc_a1, 3), round(desv_vc_a1,3), ')\\t\\t(', round(np.mean(1-ac_german_cruzada), 3), round(np.std(1-ac_german_cruzada),3), ')\\t\\t(', round(media_vc_a2, 3), round(desv_vc_a2,3), ')')\n"
   ]
  },
  {
   "cell_type": "markdown",
   "metadata": {},
   "source": [
    "En general parece que nuestro estimador comete menos errores que el de Scikit para estos datos y esta semilla. Habría que realizar pruebas mas extensas para madir las calidades y comparar ambos esitimadores."
   ]
  },
  {
   "cell_type": "markdown",
   "metadata": {},
   "source": [
    "<h3>Evaluación de hipótesis mediante Análisis ROC</h3>"
   ]
  },
  {
   "cell_type": "markdown",
   "metadata": {},
   "source": [
    "Vamos a realizar este análisis para cada tipo de validación y para cada dataset. Primero, comenzaremos con tic-tac-toe.data y validación simple."
   ]
  },
  {
   "cell_type": "code",
   "execution_count": 109,
   "metadata": {},
   "outputs": [],
   "source": [
    "p = 0.2\n",
    "seed = 0\n",
    "k = 10\n",
    "\n",
    "def get_ROC_data(conf_data, clases, ocurrencias_clases):\n",
    "    \n",
    "    matriz_conf = np.zeros((2, 2))\n",
    "    matriz_conf[0][0] = ocurrencias_clases[clases[1]]\n",
    "    matriz_conf[0][1] = ocurrencias_clases[clases[0]]\n",
    "    tpr = np.empty(len(datostest))\n",
    "    fpr = np.empty(len(datostest))\n",
    "\n",
    "    for i in range(len(conf_data)):\n",
    "        if conf_data[i][1] == clases[0]: # Dato negativo\n",
    "            matriz_conf[1][1] += 1 #TN\n",
    "            matriz_conf[0][1] -= 1 #FP\n",
    "\n",
    "        else: # Dato positivo\n",
    "            matriz_conf[1][0] += 1 #FN\n",
    "            matriz_conf[0][0] -= 1 #TP\n",
    "\n",
    "\n",
    "        tpr[i] = matriz_conf[0][0]/(matriz_conf[0][0]+matriz_conf[1][0])\n",
    "\n",
    "        fpr[i] = matriz_conf[0][1]/(matriz_conf[0][1]+matriz_conf[1][1])\n",
    "    \n",
    "    return tpr, fpr\n",
    "\n",
    "def get_matriz_conf(datostest, prediccion, clases):\n",
    "    matriz_conf = np.zeros((2, 2))\n",
    "    \n",
    "    for i in range(len(datostest)):\n",
    "        if prediccion[i] == clases[0]:\n",
    "            if datostest[i][-1] == clases[0]: # TN\n",
    "                matriz_conf[1][1] += 1\n",
    "            else: # FN \n",
    "                matriz_conf[1][0] += 1\n",
    "        else:\n",
    "            if datostest[i][-1] == clases[0]: # FP\n",
    "                matriz_conf[0][1] += 1\n",
    "            else: # TP\n",
    "                matriz_conf[0][0] += 1\n",
    "    \n",
    "    return matriz_conf"
   ]
  },
  {
   "cell_type": "code",
   "execution_count": 110,
   "metadata": {},
   "outputs": [],
   "source": [
    "archivo = 'tic-tac-toe.data'\n",
    "\n",
    "dataset = Datos(archivo)\n",
    "\n",
    "datos = dataset.datos\n",
    "# Utilizamos el diccionario para adaptar los datos\n",
    "for i in range(datos.shape[0]):\n",
    "    for j in range(datos.shape[1]):\n",
    "        if dataset.nominalAtributos[j] or j==datos.shape[1]-1:\n",
    "            datos[i, j] = dataset.diccionario[j][datos[i, j]]\n",
    "\n",
    "\n",
    "vs = ValidacionSimple(p, 1)\n",
    "particiones = vs.creaParticiones(len(dataset.datos), seed=seed)\n",
    "\n",
    "datostrain = dataset.extraeDatos(particiones[0].indicesTrain)\n",
    "datostest = dataset.extraeDatos(particiones[0].indicesTest)\n",
    "datostest = np.array(datostest)\n",
    "\n",
    "clases, counts = np.unique(datostest[:, -1], return_counts=True)\n",
    "clases = sorted(clases)\n",
    "\n",
    "cl = ClasificadorNaiveBayes()\n",
    "cl.entrenamiento(datostrain, dataset.nominalAtributos, dataset.diccionario)\n",
    "\n",
    "prediccion = cl.clasifica(datostest, dataset.nominalAtributos, dataset.diccionario)\n",
    "\n",
    "conf_data = np.empty((len(prediccion), 2))\n",
    "for i in range(conf_data.shape[0]):\n",
    "    conf_data[i] = [cl.probabilidades[i][1], datostest[i][-1]]\n",
    "\n",
    "conf_data = sorted(conf_data, key=lambda x: x[0])\n"
   ]
  },
  {
   "cell_type": "markdown",
   "metadata": {},
   "source": [
    "Pasamos a construir los datos necesarios para la curva ROC y a obtener la matriz de confusión. Como anotación, se asume que la clase negativa es la de menor valor y la positiva la de mayor valor."
   ]
  },
  {
   "cell_type": "code",
   "execution_count": 111,
   "metadata": {},
   "outputs": [],
   "source": [
    "tpr_tic_simple, fpr_tic_simple = get_ROC_data(conf_data, clases, counts)\n",
    "matriz_conf_tic_simple = get_matriz_conf(datostest, prediccion, clases)"
   ]
  },
  {
   "cell_type": "markdown",
   "metadata": {},
   "source": [
    "Matriz de confusión:"
   ]
  },
  {
   "cell_type": "code",
   "execution_count": 113,
   "metadata": {},
   "outputs": [
    {
     "name": "stdout",
     "output_type": "stream",
     "text": [
      "Matriz de confusión tic-tac-toe.data validación simple\n",
      "\n",
      "\t\t\t\tReal\n",
      "\t\t  Positivo\t\tNegativo\n",
      "Estimado Positivo  101.0  \t\t  46.0\n",
      "\t Negativo  14.0  \t\t  31.0\n"
     ]
    }
   ],
   "source": [
    "print(\"Matriz de confusión tic-tac-toe.data validación simple\")\n",
    "print()\n",
    "print(\"\\t\\t\\t\\tReal\")\n",
    "print(\"\\t\\t  Positivo\\t\\tNegativo\")\n",
    "print(\"Estimado Positivo \", matriz_conf_tic_simple[0][0], \" \\t\\t \", matriz_conf_tic_simple[0][1])\n",
    "print(\"\\t Negativo \", matriz_conf_tic_simple[1][0], \" \\t\\t \", matriz_conf_tic_simple[1][1])"
   ]
  },
  {
   "cell_type": "code",
   "execution_count": 87,
   "metadata": {},
   "outputs": [
    {
     "data": {
      "image/png": "[encoded data removed]",
      "text/plain": [
       "<Figure size 432x288 with 1 Axes>"
      ]
     },
     "metadata": {
      "needs_background": "light"
     },
     "output_type": "display_data"
    }
   ],
   "source": [
    "plt.figure()\n",
    "plt.plot(fpr_tic_simple, tpr_tic_simple)\n",
    "plt.title(\"Curva ROC tic-tac-toe.data validación simple\")\n",
    "plt.xlabel(\"FPR\")\n",
    "plt.ylabel(\"TPR\")\n",
    "plt.show()"
   ]
  },
  {
   "cell_type": "markdown",
   "metadata": {},
   "source": [
    "Ahora para tic-tac-toe.data con validación cruzada con 3 folds:"
   ]
  },
  {
   "cell_type": "code",
   "execution_count": 114,
   "metadata": {},
   "outputs": [],
   "source": [
    "archivo = 'tic-tac-toe.data'\n",
    "\n",
    "dataset = Datos(archivo)\n",
    "\n",
    "datos = dataset.datos\n",
    "# Utilizamos el diccionario para adaptar los datos\n",
    "for i in range(datos.shape[0]):\n",
    "    for j in range(datos.shape[1]):\n",
    "        if dataset.nominalAtributos[j] or j==datos.shape[1]-1:\n",
    "            datos[i, j] = dataset.diccionario[j][datos[i, j]]\n",
    "\n",
    "\n",
    "vc = ValidacionCruzada(k)\n",
    "\n",
    "particiones = vc.creaParticiones(len(dataset.datos), seed=seed)\n",
    "matrices_conf_tic_cruzada = []\n",
    "tpr_tic_cruzada_lista = []\n",
    "fpr_tic_cruzada_lista = []\n",
    "\n",
    "for particion in particiones:\n",
    "    datostrain = dataset.extraeDatos(particion.indicesTrain)\n",
    "    datostest = dataset.extraeDatos(particion.indicesTest)\n",
    "    datostest = np.array(datostest)\n",
    "\n",
    "    clases, counts = np.unique(datostest[:, -1], return_counts=True)\n",
    "    clases = sorted(clases)\n",
    "\n",
    "\n",
    "    cl = ClasificadorNaiveBayes()\n",
    "    cl.entrenamiento(datostrain, dataset.nominalAtributos, dataset.diccionario)\n",
    "\n",
    "    prediccion = cl.clasifica(datostest, dataset.nominalAtributos, dataset.diccionario)\n",
    "    \n",
    "    conf_data = np.empty((len(prediccion), 2))\n",
    "    for i in range(conf_data.shape[0]):\n",
    "        conf_data[i] = [cl.probabilidades[i][1], datostest[i][-1]]\n",
    "\n",
    "    conf_data = sorted(conf_data, key=lambda x: x[0])\n",
    "    \n",
    "    tpr_tic_cruzada, fpr_tic_cruzada = get_ROC_data(conf_data, clases, counts)\n",
    "    matriz_conf_tic_cruzada = get_matriz_conf(datostest, prediccion, clases)\n",
    "    matrices_conf_tic_cruzada.append(matriz_conf_tic_cruzada)\n",
    "    tpr_tic_cruzada_lista.append(tpr_tic_cruzada)\n",
    "    fpr_tic_cruzada_lista.append(fpr_tic_cruzada)"
   ]
  },
  {
   "cell_type": "code",
   "execution_count": 117,
   "metadata": {},
   "outputs": [
    {
     "name": "stdout",
     "output_type": "stream",
     "text": [
      "Matriz de confusión tic-tac-toe.data validación cruzada fold 1\n",
      "\n",
      "\t\t\t\tReal\n",
      "\t\t  Positivo\t\tNegativo\n",
      "Estimado Positivo  55.0  \t\t  18.0\n",
      "\t Negativo  7.0  \t\t  15.0\n",
      "\n",
      "Matriz de confusión tic-tac-toe.data validación cruzada fold 2\n",
      "\n",
      "\t\t\t\tReal\n",
      "\t\t  Positivo\t\tNegativo\n",
      "Estimado Positivo  45.0  \t\t  26.0\n",
      "\t Negativo  6.0  \t\t  18.0\n",
      "\n",
      "Matriz de confusión tic-tac-toe.data validación cruzada fold 3\n",
      "\n",
      "\t\t\t\tReal\n",
      "\t\t  Positivo\t\tNegativo\n",
      "Estimado Positivo  55.0  \t\t  23.0\n",
      "\t Negativo  9.0  \t\t  8.0\n",
      "\n",
      "Matriz de confusión tic-tac-toe.data validación cruzada fold 4\n",
      "\n",
      "\t\t\t\tReal\n",
      "\t\t  Positivo\t\tNegativo\n",
      "Estimado Positivo  60.0  \t\t  18.0\n",
      "\t Negativo  8.0  \t\t  9.0\n",
      "\n",
      "Matriz de confusión tic-tac-toe.data validación cruzada fold 5\n",
      "\n",
      "\t\t\t\tReal\n",
      "\t\t  Positivo\t\tNegativo\n",
      "Estimado Positivo  62.0  \t\t  14.0\n",
      "\t Negativo  7.0  \t\t  12.0\n",
      "\n",
      "Matriz de confusión tic-tac-toe.data validación cruzada fold 6\n",
      "\n",
      "\t\t\t\tReal\n",
      "\t\t  Positivo\t\tNegativo\n",
      "Estimado Positivo  49.0  \t\t  16.0\n",
      "\t Negativo  20.0  \t\t  10.0\n",
      "\n",
      "Matriz de confusión tic-tac-toe.data validación cruzada fold 7\n",
      "\n",
      "\t\t\t\tReal\n",
      "\t\t  Positivo\t\tNegativo\n",
      "Estimado Positivo  53.0  \t\t  13.0\n",
      "\t Negativo  11.0  \t\t  18.0\n",
      "\n",
      "Matriz de confusión tic-tac-toe.data validación cruzada fold 8\n",
      "\n",
      "\t\t\t\tReal\n",
      "\t\t  Positivo\t\tNegativo\n",
      "Estimado Positivo  45.0  \t\t  18.0\n",
      "\t Negativo  10.0  \t\t  22.0\n",
      "\n",
      "Matriz de confusión tic-tac-toe.data validación cruzada fold 9\n",
      "\n",
      "\t\t\t\tReal\n",
      "\t\t  Positivo\t\tNegativo\n",
      "Estimado Positivo  50.0  \t\t  29.0\n",
      "\t Negativo  7.0  \t\t  9.0\n",
      "\n",
      "Matriz de confusión tic-tac-toe.data validación cruzada fold 10\n",
      "\n",
      "\t\t\t\tReal\n",
      "\t\t  Positivo\t\tNegativo\n",
      "Estimado Positivo  50.0  \t\t  17.0\n",
      "\t Negativo  12.0  \t\t  16.0\n",
      "\n"
     ]
    }
   ],
   "source": [
    "for i in range(k):\n",
    "    print(\"Matriz de confusión tic-tac-toe.data validación cruzada fold\", i+1)\n",
    "    print()\n",
    "    print(\"\\t\\t\\t\\tReal\")\n",
    "    print(\"\\t\\t  Positivo\\t\\tNegativo\")\n",
    "    print(\"Estimado Positivo \", matrices_conf_tic_cruzada[i][0][0], \" \\t\\t \", matrices_conf_tic_cruzada[i][0][1])\n",
    "    print(\"\\t Negativo \", matrices_conf_tic_cruzada[i][1][0], \" \\t\\t \", matrices_conf_tic_cruzada[i][1][1])\n",
    "    print()"
   ]
  },
  {
   "cell_type": "code",
   "execution_count": 89,
   "metadata": {},
   "outputs": [
    {
     "data": {
      "image/png": "[encoded data removed]",
      "text/plain": [
       "<Figure size 432x288 with 1 Axes>"
      ]
     },
     "metadata": {
      "needs_background": "light"
     },
     "output_type": "display_data"
    }
   ],
   "source": [
    "plt.figure()\n",
    "\n",
    "for i in range(k):\n",
    "    plt.plot(fpr_tic_cruzada_lista[i], tpr_tic_cruzada_lista[i], label=\"Fold \" + str(i))\n",
    "    \n",
    "plt.title(\"Curva ROC tic-tac-toe.data validación cruzada\")\n",
    "plt.xlabel(\"FPR\")\n",
    "plt.ylabel(\"TPR\")\n",
    "plt.legend(loc='lower right')\n",
    "plt.show()"
   ]
  },
  {
   "cell_type": "markdown",
   "metadata": {},
   "source": [
    "german.data y validacion simple:"
   ]
  },
  {
   "cell_type": "code",
   "execution_count": 119,
   "metadata": {},
   "outputs": [],
   "source": [
    "archivo = 'german.data'\n",
    "\n",
    "dataset = Datos(archivo)\n",
    "\n",
    "datos = dataset.datos\n",
    "# Utilizamos el diccionario para adaptar los datos\n",
    "for i in range(datos.shape[0]):\n",
    "    for j in range(datos.shape[1]):\n",
    "        if dataset.nominalAtributos[j] or j==datos.shape[1]-1:\n",
    "            datos[i, j] = dataset.diccionario[j][datos[i, j]]\n",
    "\n",
    "vs = ValidacionSimple(p, 1)\n",
    "particiones = vs.creaParticiones(len(dataset.datos), seed=seed)\n",
    "\n",
    "datostrain = dataset.extraeDatos(particiones[0].indicesTrain)\n",
    "datostest = dataset.extraeDatos(particiones[0].indicesTest)\n",
    "datostest = np.array(datostest)\n",
    "\n",
    "clases, counts = np.unique(datostest[:, -1], return_counts=True)\n",
    "clases = sorted(clases)\n",
    "\n",
    "cl = ClasificadorNaiveBayes()\n",
    "cl.entrenamiento(datostrain, dataset.nominalAtributos, dataset.diccionario)\n",
    "\n",
    "prediccion = cl.clasifica(datostest, dataset.nominalAtributos, dataset.diccionario)\n",
    "\n",
    "conf_data = np.empty((len(prediccion), 2))\n",
    "for i in range(conf_data.shape[0]):\n",
    "    conf_data[i] = [cl.probabilidades[i][1], datostest[i][-1]]\n",
    "\n",
    "conf_data = sorted(conf_data, key=lambda x: x[0])\n"
   ]
  },
  {
   "cell_type": "code",
   "execution_count": 120,
   "metadata": {},
   "outputs": [],
   "source": [
    "tpr_german_simple, fpr_german_simple = get_ROC_data(conf_data, clases, counts)\n",
    "matriz_conf_german_simple = get_matriz_conf(datostest, prediccion, clases)"
   ]
  },
  {
   "cell_type": "code",
   "execution_count": 121,
   "metadata": {},
   "outputs": [
    {
     "name": "stdout",
     "output_type": "stream",
     "text": [
      "Matriz de confusión german.data validación simple\n",
      "\n",
      "\t\t\t\tReal\n",
      "\t\t  Positivo\t\tNegativo\n",
      "Estimado Positivo  30.0  \t\t  13.0\n",
      "\t Negativo  35.0  \t\t  122.0\n"
     ]
    }
   ],
   "source": [
    "print(\"Matriz de confusión german.data validación simple\")\n",
    "print()\n",
    "print(\"\\t\\t\\t\\tReal\")\n",
    "print(\"\\t\\t  Positivo\\t\\tNegativo\")\n",
    "print(\"Estimado Positivo \", matriz_conf_german_simple[0][0], \" \\t\\t \", matriz_conf_german_simple[0][1])\n",
    "print(\"\\t Negativo \", matriz_conf_german_simple[1][0], \" \\t\\t \", matriz_conf_german_simple[1][1])"
   ]
  },
  {
   "cell_type": "code",
   "execution_count": 92,
   "metadata": {},
   "outputs": [
    {
     "data": {
      "image/png": "[encoded data removed]",
      "text/plain": [
       "<Figure size 432x288 with 1 Axes>"
      ]
     },
     "metadata": {
      "needs_background": "light"
     },
     "output_type": "display_data"
    }
   ],
   "source": [
    "plt.figure()\n",
    "plt.plot(fpr_german_simple, tpr_german_simple)\n",
    "plt.title(\"Curva ROC german.data validación simple\")\n",
    "plt.xlabel(\"FPR\")\n",
    "plt.ylabel(\"TPR\")\n",
    "plt.show()"
   ]
  },
  {
   "cell_type": "code",
   "execution_count": 123,
   "metadata": {},
   "outputs": [],
   "source": [
    "archivo = 'german.data'\n",
    "\n",
    "dataset = Datos(archivo)\n",
    "\n",
    "datos = dataset.datos\n",
    "# Utilizamos el diccionario para adaptar los datos\n",
    "for i in range(datos.shape[0]):\n",
    "    for j in range(datos.shape[1]):\n",
    "        if dataset.nominalAtributos[j] or j==datos.shape[1]-1:\n",
    "            datos[i, j] = dataset.diccionario[j][datos[i, j]]\n",
    "\n",
    "\n",
    "vc = ValidacionCruzada(k)\n",
    "\n",
    "particiones = vc.creaParticiones(len(dataset.datos), seed=seed)\n",
    "matrices_conf_german_cruzada = []\n",
    "tpr_german_cruzada_lista = []\n",
    "fpr_german_cruzada_lista = []\n",
    "\n",
    "for particion in particiones:\n",
    "    datostrain = dataset.extraeDatos(particion.indicesTrain)\n",
    "    datostest = dataset.extraeDatos(particion.indicesTest)\n",
    "    datostest = np.array(datostest)\n",
    "\n",
    "    clases, counts = np.unique(datostest[:, -1], return_counts=True)\n",
    "    clases = sorted(clases)\n",
    "\n",
    "    cl = ClasificadorNaiveBayes()\n",
    "    cl.entrenamiento(datostrain, dataset.nominalAtributos, dataset.diccionario)\n",
    "\n",
    "    prediccion = cl.clasifica(datostest, dataset.nominalAtributos, dataset.diccionario)\n",
    "    \n",
    "    conf_data = np.empty((len(prediccion), 2))\n",
    "    for i in range(conf_data.shape[0]):\n",
    "        conf_data[i] = [cl.probabilidades[i][1], datostest[i][-1]]\n",
    "\n",
    "    conf_data = sorted(conf_data, key=lambda x: x[0])\n",
    "    \n",
    "    tpr_german_cruzada, fpr_german_cruzada = get_ROC_data(conf_data, clases, counts)\n",
    "    matriz_conf_german_cruzada = get_matriz_conf(datostest, prediccion, clases)\n",
    "    matrices_conf_german_cruzada.append(matriz_conf_german_cruzada)\n",
    "    tpr_german_cruzada_lista.append(tpr_german_cruzada)\n",
    "    fpr_german_cruzada_lista.append(fpr_german_cruzada)"
   ]
  },
  {
   "cell_type": "code",
   "execution_count": 124,
   "metadata": {},
   "outputs": [
    {
     "name": "stdout",
     "output_type": "stream",
     "text": [
      "Matriz de confusión german.data validación cruzada fold 1\n",
      "\n",
      "\t\t\t\tReal\n",
      "\t\t  Positivo\t\tNegativo\n",
      "Estimado Positivo  12.0  \t\t  5.0\n",
      "\t Negativo  23.0  \t\t  60.0\n",
      "\n",
      "Matriz de confusión german.data validación cruzada fold 2\n",
      "\n",
      "\t\t\t\tReal\n",
      "\t\t  Positivo\t\tNegativo\n",
      "Estimado Positivo  19.0  \t\t  7.0\n",
      "\t Negativo  11.0  \t\t  63.0\n",
      "\n",
      "Matriz de confusión german.data validación cruzada fold 3\n",
      "\n",
      "\t\t\t\tReal\n",
      "\t\t  Positivo\t\tNegativo\n",
      "Estimado Positivo  17.0  \t\t  11.0\n",
      "\t Negativo  14.0  \t\t  58.0\n",
      "\n",
      "Matriz de confusión german.data validación cruzada fold 4\n",
      "\n",
      "\t\t\t\tReal\n",
      "\t\t  Positivo\t\tNegativo\n",
      "Estimado Positivo  16.0  \t\t  7.0\n",
      "\t Negativo  12.0  \t\t  65.0\n",
      "\n",
      "Matriz de confusión german.data validación cruzada fold 5\n",
      "\n",
      "\t\t\t\tReal\n",
      "\t\t  Positivo\t\tNegativo\n",
      "Estimado Positivo  19.0  \t\t  10.0\n",
      "\t Negativo  16.0  \t\t  55.0\n",
      "\n",
      "Matriz de confusión german.data validación cruzada fold 6\n",
      "\n",
      "\t\t\t\tReal\n",
      "\t\t  Positivo\t\tNegativo\n",
      "Estimado Positivo  12.0  \t\t  10.0\n",
      "\t Negativo  13.0  \t\t  65.0\n",
      "\n",
      "Matriz de confusión german.data validación cruzada fold 7\n",
      "\n",
      "\t\t\t\tReal\n",
      "\t\t  Positivo\t\tNegativo\n",
      "Estimado Positivo  15.0  \t\t  7.0\n",
      "\t Negativo  16.0  \t\t  62.0\n",
      "\n",
      "Matriz de confusión german.data validación cruzada fold 8\n",
      "\n",
      "\t\t\t\tReal\n",
      "\t\t  Positivo\t\tNegativo\n",
      "Estimado Positivo  10.0  \t\t  12.0\n",
      "\t Negativo  15.0  \t\t  63.0\n",
      "\n",
      "Matriz de confusión german.data validación cruzada fold 9\n",
      "\n",
      "\t\t\t\tReal\n",
      "\t\t  Positivo\t\tNegativo\n",
      "Estimado Positivo  15.0  \t\t  8.0\n",
      "\t Negativo  16.0  \t\t  61.0\n",
      "\n",
      "Matriz de confusión german.data validación cruzada fold 10\n",
      "\n",
      "\t\t\t\tReal\n",
      "\t\t  Positivo\t\tNegativo\n",
      "Estimado Positivo  13.0  \t\t  13.0\n",
      "\t Negativo  16.0  \t\t  58.0\n",
      "\n"
     ]
    }
   ],
   "source": [
    "for i in range(k):\n",
    "    print(\"Matriz de confusión german.data validación cruzada fold\", i+1)\n",
    "    print()\n",
    "    print(\"\\t\\t\\t\\tReal\")\n",
    "    print(\"\\t\\t  Positivo\\t\\tNegativo\")\n",
    "    print(\"Estimado Positivo \", matrices_conf_german_cruzada[i][0][0], \" \\t\\t \", matrices_conf_german_cruzada[i][0][1])\n",
    "    print(\"\\t Negativo \", matrices_conf_german_cruzada[i][1][0], \" \\t\\t \", matrices_conf_german_cruzada[i][1][1])\n",
    "    print()"
   ]
  },
  {
   "cell_type": "code",
   "execution_count": 94,
   "metadata": {},
   "outputs": [
    {
     "data": {
      "image/png": "[encoded data removed]",
      "text/plain": [
       "<Figure size 432x288 with 1 Axes>"
      ]
     },
     "metadata": {
      "needs_background": "light"
     },
     "output_type": "display_data"
    }
   ],
   "source": [
    "plt.figure()\n",
    "\n",
    "for i in range(k):\n",
    "    plt.plot(fpr_german_cruzada_lista[i], tpr_german_cruzada_lista[i], label=\"Fold \" + str(i))\n",
    "    \n",
    "plt.title(\"Curva ROC german.data validación cruzada\")\n",
    "plt.xlabel(\"FPR\")\n",
    "plt.ylabel(\"TPR\")\n",
    "plt.legend(loc='lower right')\n",
    "plt.show()"
   ]
  },
  {
   "cell_type": "markdown",
   "metadata": {},
   "source": [
    "A continuación, vamos a calcular las áreas bajo las curvas ROC (AUC) para determinar la calidad de cada método:"
   ]
  },
  {
   "cell_type": "code",
   "execution_count": 95,
   "metadata": {},
   "outputs": [],
   "source": [
    "def AUC(fpr, tpr):\n",
    "\n",
    "    auc = 0\n",
    "    for i in range(len(tpr)-1):\n",
    "        auc += (fpr[i]-fpr[i+1])*tpr[i]\n",
    "    \n",
    "    auc += fpr[-1]*tpr[-1]\n",
    "        \n",
    "    return auc"
   ]
  },
  {
   "cell_type": "code",
   "execution_count": 96,
   "metadata": {},
   "outputs": [],
   "source": [
    "auc_tic_simple = AUC(fpr_tic_simple, tpr_tic_simple)\n",
    "auc_german_simple = AUC(fpr_german_simple, tpr_german_simple)\n",
    "\n",
    "auc_tic_cruzada_lista = []\n",
    "auc_german_cruzada_lista = []\n",
    "\n",
    "for i in range(len(fpr_tic_cruzada_lista)):\n",
    "    auc_tic_cruzada_lista.append(AUC(fpr_tic_cruzada_lista[i], tpr_tic_cruzada_lista[i]))\n",
    "    auc_german_cruzada_lista.append(AUC(fpr_german_cruzada_lista[i], tpr_german_cruzada_lista[i]))"
   ]
  },
  {
   "cell_type": "code",
   "execution_count": 99,
   "metadata": {},
   "outputs": [
    {
     "name": "stdout",
     "output_type": "stream",
     "text": [
      "AUC tic-tac-toe.data VS: 0.6961038961038958\n",
      "\n",
      "AUC tic-tac-toe.data VC Fold 1: 0.7077223851417398\n",
      "AUC tic-tac-toe.data VC Fold 2: 0.7045454545454549\n",
      "AUC tic-tac-toe.data VC Fold 3: 0.6869959677419355\n",
      "AUC tic-tac-toe.data VC Fold 4: 0.6775599128540304\n",
      "AUC tic-tac-toe.data VC Fold 5: 0.7564102564102562\n",
      "AUC tic-tac-toe.data VC Fold 6: 0.6059085841694537\n",
      "AUC tic-tac-toe.data VC Fold 7: 0.7973790322580646\n",
      "AUC tic-tac-toe.data VC Fold 8: 0.8027272727272731\n",
      "AUC tic-tac-toe.data VC Fold 9: 0.6509695290858727\n",
      "AUC tic-tac-toe.data VC Fold 10: 0.7282502443792764\n",
      "\n",
      "AUC tic-tac-toe.data VC media:  0.7118468639313358\n",
      "\n",
      "AUC german.data VS: 0.7997720797720789\n",
      "\n",
      "AUC german.data VC Fold 1: 0.750769230769231\n",
      "AUC german.data VC Fold 2: 0.8409523809523808\n",
      "AUC german.data VC Fold 3: 0.7648433847592331\n",
      "AUC german.data VC Fold 4: 0.8169642857142847\n",
      "AUC german.data VC Fold 5: 0.7085714285714294\n",
      "AUC german.data VC Fold 6: 0.7669333333333334\n",
      "AUC german.data VC Fold 7: 0.8027115474520803\n",
      "AUC german.data VC Fold 8: 0.7253333333333334\n",
      "AUC german.data VC Fold 9: 0.8106591865357646\n",
      "AUC german.data VC Fold 10: 0.7319086935405539\n",
      "\n",
      "AUC german.data VC media:  0.7719646804961624\n"
     ]
    }
   ],
   "source": [
    "print(\"AUC tic-tac-toe.data VS:\", auc_tic_simple)\n",
    "\n",
    "print()\n",
    "for i in range(len(auc_tic_cruzada_lista)):\n",
    "    print(\"AUC tic-tac-toe.data VC Fold \" + str(i+1) + \":\" , auc_tic_cruzada_lista[i])\n",
    "\n",
    "print()\n",
    "print(\"AUC tic-tac-toe.data VC media: \", np.mean(auc_tic_cruzada_lista))\n",
    "print()\n",
    "print(\"AUC german.data VS:\", auc_german_simple)\n",
    "\n",
    "print()\n",
    "for i in range(len(auc_german_cruzada_lista)):\n",
    "    print(\"AUC german.data VC Fold \" + str(i+1) + \":\" , auc_german_cruzada_lista[i])\n",
    "    \n",
    "print()\n",
    "print(\"AUC german.data VC media: \", np.mean(auc_german_cruzada_lista))"
   ]
  },
  {
   "cell_type": "markdown",
   "metadata": {},
   "source": [
    "En cuanto al dataset tic-tac-toe.data, observamos unos mejores resultados en el caso de la validación cruzada. Sin embargo, en el caso de german.data hay mejores resultados en caso de la validación simple."
   ]
  },
  {
   "cell_type": "markdown",
   "metadata": {},
   "source": [
    "<h4> Comentarios respecto a modificaciones en el diseño de clases <h4>"
   ]
  },
  {
   "cell_type": "markdown",
   "metadata": {},
   "source": []
  },
  {
   "cell_type": "code",
   "execution_count": null,
   "metadata": {},
   "outputs": [],
   "source": []
  }
 ],
 "metadata": {
  "kernelspec": {
   "display_name": "Python 3",
   "language": "python",
   "name": "python3"
  },
  "language_info": {
   "codemirror_mode": {
    "name": "ipython",
    "version": 3
   },
   "file_extension": ".py",
   "mimetype": "text/x-python",
   "name": "python",
   "nbconvert_exporter": "python",
   "pygments_lexer": "ipython3",
   "version": "3.7.4"
  }
 },
 "nbformat": 4,
 "nbformat_minor": 4
}
