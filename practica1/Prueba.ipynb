{
 "cells": [
  {
   "cell_type": "code",
   "execution_count": 1,
   "metadata": {},
   "outputs": [],
   "source": [
    "from Datos import Datos\n",
    "from EstrategiaParticionado import *\n",
    "from Clasificador import *\n",
    "import numpy as np\n",
    "from sklearn.naive_bayes import MultinomialNB\n",
    "from sklearn.preprocessing import OneHotEncoder\n",
    "from sklearn.model_selection import train_test_split"
   ]
  },
  {
   "cell_type": "markdown",
   "metadata": {},
   "source": [
    "<h3>Prueba de la clase EstrategiaParticionado<h3>"
   ]
  },
  {
   "cell_type": "code",
   "execution_count": 2,
   "metadata": {},
   "outputs": [],
   "source": [
    "k = 3\n",
    "p = 0.3\n",
    "nEjecuciones = 3\n",
    "\n",
    "n_datos = 10\n",
    "\n",
    "dataset = Datos(\"tic-tac-toe.data\")\n",
    "\n",
    "#Cambio estrategia particionado comentar"
   ]
  },
  {
   "cell_type": "markdown",
   "metadata": {},
   "source": [
    "Se prueba primero ValidacionSimple. Para visualizar mejor la partición, solo se usan los n_datos = 10 primeros datos del dataset. En general, el parametro n_datos debería ser igual al número de datos en el dataset. "
   ]
  },
  {
   "cell_type": "code",
   "execution_count": 3,
   "metadata": {},
   "outputs": [
    {
     "name": "stdout",
     "output_type": "stream",
     "text": [
      "Test: [array(['x', 'x', 'x', 'x', 'o', 'o', 'o', 'o', 'x', 'positive'],\n",
      "      dtype=object), array(['x', 'x', 'x', 'x', 'o', 'o', 'o', 'x', 'o', 'positive'],\n",
      "      dtype=object), array(['x', 'x', 'x', 'x', 'o', 'o', 'b', 'o', 'b', 'positive'],\n",
      "      dtype=object)]\n",
      "Train: [array(['x', 'x', 'x', 'x', 'o', 'b', 'o', 'o', 'b', 'positive'],\n",
      "      dtype=object), array(['x', 'x', 'x', 'x', 'o', 'o', 'x', 'o', 'o', 'positive'],\n",
      "      dtype=object), array(['x', 'x', 'x', 'x', 'b', 'o', 'o', 'o', 'b', 'positive'],\n",
      "      dtype=object), array(['x', 'x', 'x', 'x', 'o', 'o', 'b', 'b', 'o', 'positive'],\n",
      "      dtype=object), array(['x', 'x', 'x', 'x', 'o', 'o', 'o', 'b', 'b', 'positive'],\n",
      "      dtype=object), array(['x', 'x', 'x', 'x', 'o', 'b', 'b', 'o', 'o', 'positive'],\n",
      "      dtype=object), array(['x', 'x', 'x', 'x', 'o', 'b', 'o', 'b', 'o', 'positive'],\n",
      "      dtype=object)]\n",
      "\n",
      "Test: [array(['x', 'x', 'x', 'x', 'o', 'b', 'o', 'b', 'o', 'positive'],\n",
      "      dtype=object), array(['x', 'x', 'x', 'x', 'o', 'o', 'o', 'b', 'b', 'positive'],\n",
      "      dtype=object), array(['x', 'x', 'x', 'x', 'o', 'b', 'o', 'o', 'b', 'positive'],\n",
      "      dtype=object)]\n",
      "Train: [array(['x', 'x', 'x', 'x', 'o', 'o', 'x', 'o', 'o', 'positive'],\n",
      "      dtype=object), array(['x', 'x', 'x', 'x', 'o', 'o', 'b', 'b', 'o', 'positive'],\n",
      "      dtype=object), array(['x', 'x', 'x', 'x', 'o', 'o', 'b', 'o', 'b', 'positive'],\n",
      "      dtype=object), array(['x', 'x', 'x', 'x', 'o', 'o', 'o', 'o', 'x', 'positive'],\n",
      "      dtype=object), array(['x', 'x', 'x', 'x', 'o', 'b', 'b', 'o', 'o', 'positive'],\n",
      "      dtype=object), array(['x', 'x', 'x', 'x', 'o', 'o', 'o', 'x', 'o', 'positive'],\n",
      "      dtype=object), array(['x', 'x', 'x', 'x', 'b', 'o', 'o', 'o', 'b', 'positive'],\n",
      "      dtype=object)]\n",
      "\n",
      "Test: [array(['x', 'x', 'x', 'x', 'o', 'b', 'o', 'o', 'b', 'positive'],\n",
      "      dtype=object), array(['x', 'x', 'x', 'x', 'b', 'o', 'o', 'o', 'b', 'positive'],\n",
      "      dtype=object), array(['x', 'x', 'x', 'x', 'o', 'o', 'b', 'o', 'b', 'positive'],\n",
      "      dtype=object)]\n",
      "Train: [array(['x', 'x', 'x', 'x', 'o', 'o', 'o', 'o', 'x', 'positive'],\n",
      "      dtype=object), array(['x', 'x', 'x', 'x', 'o', 'o', 'b', 'b', 'o', 'positive'],\n",
      "      dtype=object), array(['x', 'x', 'x', 'x', 'o', 'o', 'o', 'b', 'b', 'positive'],\n",
      "      dtype=object), array(['x', 'x', 'x', 'x', 'o', 'b', 'b', 'o', 'o', 'positive'],\n",
      "      dtype=object), array(['x', 'x', 'x', 'x', 'o', 'o', 'o', 'x', 'o', 'positive'],\n",
      "      dtype=object), array(['x', 'x', 'x', 'x', 'o', 'o', 'x', 'o', 'o', 'positive'],\n",
      "      dtype=object), array(['x', 'x', 'x', 'x', 'o', 'b', 'o', 'b', 'o', 'positive'],\n",
      "      dtype=object)]\n",
      "\n"
     ]
    }
   ],
   "source": [
    "\n",
    "estrategia_simple = ValidacionSimple(p, nEjecuciones)\n",
    "particiones_simple = estrategia_simple.creaParticiones(n_datos)\n",
    "\n",
    "for particion in particiones_simple:\n",
    "    datos_test = dataset.extraeDatos(particion.indicesTest)\n",
    "    datos_train = dataset.extraeDatos(particion.indicesTrain)\n",
    "    print(\"Test:\", str(datos_test))\n",
    "    print(\"Train:\", str(datos_train))\n",
    "    print()\n",
    "    "
   ]
  },
  {
   "cell_type": "markdown",
   "metadata": {},
   "source": [
    "Prueba de ValidacionCruzada con parametro k = 3. Igual que en el caso anterior, para facilitar la visualización solose usan los 10 primeros datos (n_datos). "
   ]
  },
  {
   "cell_type": "code",
   "execution_count": 4,
   "metadata": {},
   "outputs": [
    {
     "name": "stdout",
     "output_type": "stream",
     "text": [
      "Test: [array(['x', 'x', 'x', 'x', 'o', 'o', 'o', 'x', 'o', 'positive'],\n",
      "      dtype=object), array(['x', 'x', 'x', 'x', 'o', 'b', 'b', 'o', 'o', 'positive'],\n",
      "      dtype=object), array(['x', 'x', 'x', 'x', 'o', 'o', 'b', 'b', 'o', 'positive'],\n",
      "      dtype=object)]\n",
      "Train: [array(['x', 'x', 'x', 'x', 'o', 'o', 'b', 'o', 'b', 'positive'],\n",
      "      dtype=object), array(['x', 'x', 'x', 'x', 'b', 'o', 'o', 'o', 'b', 'positive'],\n",
      "      dtype=object), array(['x', 'x', 'x', 'x', 'o', 'o', 'x', 'o', 'o', 'positive'],\n",
      "      dtype=object), array(['x', 'x', 'x', 'x', 'o', 'b', 'o', 'o', 'b', 'positive'],\n",
      "      dtype=object), array(['x', 'x', 'x', 'x', 'o', 'o', 'o', 'o', 'x', 'positive'],\n",
      "      dtype=object), array(['x', 'x', 'x', 'x', 'o', 'o', 'o', 'b', 'b', 'positive'],\n",
      "      dtype=object), array(['x', 'x', 'x', 'x', 'o', 'b', 'o', 'b', 'o', 'positive'],\n",
      "      dtype=object)]\n",
      "\n",
      "Test: [array(['x', 'x', 'x', 'x', 'o', 'o', 'b', 'o', 'b', 'positive'],\n",
      "      dtype=object), array(['x', 'x', 'x', 'x', 'b', 'o', 'o', 'o', 'b', 'positive'],\n",
      "      dtype=object), array(['x', 'x', 'x', 'x', 'o', 'o', 'x', 'o', 'o', 'positive'],\n",
      "      dtype=object)]\n",
      "Train: [array(['x', 'x', 'x', 'x', 'o', 'o', 'o', 'x', 'o', 'positive'],\n",
      "      dtype=object), array(['x', 'x', 'x', 'x', 'o', 'b', 'b', 'o', 'o', 'positive'],\n",
      "      dtype=object), array(['x', 'x', 'x', 'x', 'o', 'o', 'b', 'b', 'o', 'positive'],\n",
      "      dtype=object), array(['x', 'x', 'x', 'x', 'o', 'b', 'o', 'o', 'b', 'positive'],\n",
      "      dtype=object), array(['x', 'x', 'x', 'x', 'o', 'o', 'o', 'o', 'x', 'positive'],\n",
      "      dtype=object), array(['x', 'x', 'x', 'x', 'o', 'o', 'o', 'b', 'b', 'positive'],\n",
      "      dtype=object), array(['x', 'x', 'x', 'x', 'o', 'b', 'o', 'b', 'o', 'positive'],\n",
      "      dtype=object)]\n",
      "\n",
      "Test: [array(['x', 'x', 'x', 'x', 'o', 'b', 'o', 'o', 'b', 'positive'],\n",
      "      dtype=object), array(['x', 'x', 'x', 'x', 'o', 'o', 'o', 'o', 'x', 'positive'],\n",
      "      dtype=object), array(['x', 'x', 'x', 'x', 'o', 'o', 'o', 'b', 'b', 'positive'],\n",
      "      dtype=object)]\n",
      "Train: [array(['x', 'x', 'x', 'x', 'o', 'o', 'o', 'x', 'o', 'positive'],\n",
      "      dtype=object), array(['x', 'x', 'x', 'x', 'o', 'b', 'b', 'o', 'o', 'positive'],\n",
      "      dtype=object), array(['x', 'x', 'x', 'x', 'o', 'o', 'b', 'b', 'o', 'positive'],\n",
      "      dtype=object), array(['x', 'x', 'x', 'x', 'o', 'o', 'b', 'o', 'b', 'positive'],\n",
      "      dtype=object), array(['x', 'x', 'x', 'x', 'b', 'o', 'o', 'o', 'b', 'positive'],\n",
      "      dtype=object), array(['x', 'x', 'x', 'x', 'o', 'o', 'x', 'o', 'o', 'positive'],\n",
      "      dtype=object), array(['x', 'x', 'x', 'x', 'o', 'b', 'o', 'b', 'o', 'positive'],\n",
      "      dtype=object)]\n",
      "\n"
     ]
    }
   ],
   "source": [
    "estrategia_cruzada = ValidacionCruzada(k)\n",
    "particiones_cruzada = estrategia_cruzada.creaParticiones(n_datos)\n",
    "\n",
    "for particion in particiones_cruzada:\n",
    "\n",
    "    datos_test = dataset.extraeDatos(particion.indicesTest)\n",
    "    datos_train = dataset.extraeDatos(particion.indicesTrain)\n",
    "    print(\"Test:\", str(datos_test))\n",
    "    print(\"Train:\", str(datos_train))\n",
    "    print()"
   ]
  },
  {
   "cell_type": "markdown",
   "metadata": {},
   "source": [
    "<h3>Prueba de la clase Clasificacion<h3>"
   ]
  },
  {
   "cell_type": "markdown",
   "metadata": {},
   "source": [
    "Primero se necesita obtener los datos en un formato correcto."
   ]
  },
  {
   "cell_type": "code",
   "execution_count": 5,
   "metadata": {},
   "outputs": [],
   "source": [
    "archivo = 'tic-tac-toe.data'\n",
    "\n",
    "dataset = Datos(archivo)\n",
    "\n",
    "datos = dataset.datos\n",
    "# Utilizamos el diccionario para adaptar los datos\n",
    "for i in range(datos.shape[0]):\n",
    "    for j in range(datos.shape[1]):\n",
    "        if dataset.nominalAtributos[j]:\n",
    "            datos[i, j] = dataset.diccionario[j][datos[i, j]]  "
   ]
  },
  {
   "cell_type": "markdown",
   "metadata": {},
   "source": [
    "Después, crear las particiones datostrain y datostest. En este caso de prueba utilizaremos validacionSimple con nEjecuciones = 1."
   ]
  },
  {
   "cell_type": "code",
   "execution_count": 6,
   "metadata": {},
   "outputs": [],
   "source": [
    "p = 0.1\n",
    "vs = ValidacionSimple(p, 1)\n",
    "particiones = vs.creaParticiones(len(dataset.datos), seed=0)\n",
    "\n",
    "datostrain = dataset.extraeDatos(particiones[0].indicesTrain)\n",
    "datostest = dataset.extraeDatos(particiones[0].indicesTest)"
   ]
  },
  {
   "cell_type": "markdown",
   "metadata": {},
   "source": [
    "Ahora, se entrena el modelo utilizando el conjunto datostrain"
   ]
  },
  {
   "cell_type": "code",
   "execution_count": 7,
   "metadata": {},
   "outputs": [],
   "source": [
    "cl = ClasificadorNaiveBayes()\n",
    "cl.entrenamiento(datostrain, dataset.nominalAtributos, dataset.diccionario)"
   ]
  },
  {
   "cell_type": "markdown",
   "metadata": {},
   "source": [
    "Y, por último se predice la clase para datostest utilizando los porcentajes obtenidos. "
   ]
  },
  {
   "cell_type": "code",
   "execution_count": 8,
   "metadata": {},
   "outputs": [],
   "source": [
    "prediccion = cl.clasifica(datostest, dataset.nominalAtributos, dataset.diccionario)"
   ]
  },
  {
   "cell_type": "markdown",
   "metadata": {},
   "source": [
    "Mostramos por pantalla el resultado obtenido:"
   ]
  },
  {
   "cell_type": "code",
   "execution_count": 9,
   "metadata": {},
   "outputs": [
    {
     "name": "stdout",
     "output_type": "stream",
     "text": [
      "71 96 0.7395833333333334\n"
     ]
    }
   ],
   "source": [
    "cont = 0\n",
    "for i in range(len(datostest)):\n",
    "    if datostest[i][-1] == prediccion[i]:\n",
    "        cont += 1\n",
    "\n",
    "print(cont, len(datostest), cont/len(datostest))"
   ]
  },
  {
   "cell_type": "code",
   "execution_count": 10,
   "metadata": {},
   "outputs": [
    {
     "name": "stdout",
     "output_type": "stream",
     "text": [
      "0.7395833333333333\n"
     ]
    }
   ],
   "source": [
    "print(1-cl.error(datostest, prediccion))"
   ]
  },
  {
   "cell_type": "markdown",
   "metadata": {},
   "source": [
    "Hemos obtenido aproximadamente un 74% de aciertos en este dataset y particion. Vamos a probar ahora los datos \"german.data\" haciendo las mismas operaciones que en el caso anterior."
   ]
  },
  {
   "cell_type": "code",
   "execution_count": 11,
   "metadata": {},
   "outputs": [],
   "source": [
    "archivo = 'german.data'\n",
    "\n",
    "dataset = Datos(archivo)\n",
    "\n",
    "datos = dataset.datos\n",
    "for i in range(datos.shape[0]):\n",
    "    for j in range(datos.shape[1]):\n",
    "        if dataset.nominalAtributos[j] or j == datos.shape[1] - 1:\n",
    "            datos[i, j] = dataset.diccionario[j][datos[i, j]]  \n"
   ]
  },
  {
   "cell_type": "code",
   "execution_count": 12,
   "metadata": {},
   "outputs": [],
   "source": [
    "p = 0.1\n",
    "vs = ValidacionSimple(p, 1)\n",
    "particiones = vs.creaParticiones(len(dataset.datos), seed=0)\n",
    "\n",
    "datostrain = dataset.extraeDatos(particiones[0].indicesTrain)\n",
    "datostest = dataset.extraeDatos(particiones[0].indicesTest)"
   ]
  },
  {
   "cell_type": "code",
   "execution_count": 13,
   "metadata": {},
   "outputs": [],
   "source": [
    "cl = ClasificadorNaiveBayes()\n",
    "cl.entrenamiento(datostrain, dataset.nominalAtributos, dataset.diccionario)"
   ]
  },
  {
   "cell_type": "code",
   "execution_count": 14,
   "metadata": {},
   "outputs": [],
   "source": [
    "prediccion = cl.clasifica(datostest, dataset.nominalAtributos, dataset.diccionario)"
   ]
  },
  {
   "cell_type": "code",
   "execution_count": 15,
   "metadata": {},
   "outputs": [
    {
     "name": "stdout",
     "output_type": "stream",
     "text": [
      "72 100 0.72\n"
     ]
    }
   ],
   "source": [
    "cont = 0\n",
    "for i in range(len(datostest)):\n",
    "    if datostest[i][-1] == prediccion[i]:\n",
    "        cont += 1\n",
    "\n",
    "print(cont, len(datostest), cont/len(datostest))"
   ]
  },
  {
   "cell_type": "markdown",
   "metadata": {},
   "source": [
    "Igual que en el caso anterior, el modelo acierta en aproximadamente 70% de los casos. "
   ]
  },
  {
   "cell_type": "code",
   "execution_count": 7,
   "metadata": {},
   "outputs": [
    {
     "name": "stdout",
     "output_type": "stream",
     "text": [
      "Accuracy: 0.65\n"
     ]
    },
    {
     "name": "stderr",
     "output_type": "stream",
     "text": [
      "c:\\users\\elena\\appdata\\local\\programs\\python\\python37-32\\lib\\site-packages\\sklearn\\utils\\validation.py:72: DataConversionWarning: A column-vector y was passed when a 1d array was expected. Please change the shape of y to (n_samples, ), for example using ravel().\n",
      "  return f(**kwargs)\n",
      "c:\\users\\elena\\appdata\\local\\programs\\python\\python37-32\\lib\\site-packages\\sklearn\\naive_bayes.py:512: UserWarning: alpha too small will result in numeric errors, setting alpha = 1.0e-10\n",
      "  'setting alpha = %.1e' % _ALPHA_MIN)\n"
     ]
    }
   ],
   "source": [
    "mnb = MultinomialNB(alpha=0)\n",
    "\n",
    "datostrain = np.matrix(datostrain, dtype='int32')\n",
    "datostest = np.matrix(datostest, dtype='int32')\n",
    "\n",
    "X_train = datostrain[:, :-1]\n",
    "y_train = datostrain[:, -1]\n",
    "\n",
    "X_test = datostest[:, :-1]\n",
    "y_test = datostest[:, -1]\n",
    "\n",
    "\"\"\"\n",
    "X = datos[:, :-1]\n",
    "y = datos[:, -1]\n",
    "\n",
    "X = X.astype('int32')\n",
    "y = y.astype('int32')\n",
    "\n",
    "X_train, X_test, y_train, y_test = train_test_split(X, y, test_size=p, random_state=0)\n",
    "\"\"\"\n",
    "mnb.fit(X_train, y_train)\n",
    "\n",
    "y_pred = mnb.predict(X_test)\n",
    "from sklearn import metrics\n",
    "\n",
    "print(\"Accuracy:\", metrics.accuracy_score(y_test, y_pred))\n"
   ]
  },
  {
   "cell_type": "code",
   "execution_count": 13,
   "metadata": {},
   "outputs": [
    {
     "name": "stdout",
     "output_type": "stream",
     "text": [
      "[[0.33368026 0.66631974]\n",
      " [0.27029134 0.72970866]\n",
      " [0.30674323 0.69325677]\n",
      " [0.34378295 0.65621705]\n",
      " [0.44407758 0.55592242]\n",
      " [0.36553752 0.63446248]\n",
      " [0.33043334 0.66956666]\n",
      " [0.40669287 0.59330713]\n",
      " [0.33285795 0.66714205]\n",
      " [0.34602318 0.65397682]\n",
      " [0.19083471 0.80916529]\n",
      " [0.25427825 0.74572175]\n",
      " [0.34945605 0.65054395]\n",
      " [0.25372039 0.74627961]\n",
      " [0.35523539 0.64476461]\n",
      " [0.33386105 0.66613895]\n",
      " [0.33434544 0.66565456]\n",
      " [0.53147214 0.46852786]\n",
      " [0.48752297 0.51247703]\n",
      " [0.42537895 0.57462105]\n",
      " [0.37003041 0.62996959]\n",
      " [0.35542954 0.64457046]\n",
      " [0.32503743 0.67496257]\n",
      " [0.2797779  0.7202221 ]\n",
      " [0.26522096 0.73477904]\n",
      " [0.36936804 0.63063196]\n",
      " [0.31577122 0.68422878]\n",
      " [0.25041526 0.74958474]\n",
      " [0.38600337 0.61399663]\n",
      " [0.42311253 0.57688747]\n",
      " [0.36935964 0.63064036]\n",
      " [0.39337266 0.60662734]\n",
      " [0.32459051 0.67540949]\n",
      " [0.33501913 0.66498087]\n",
      " [0.3948114  0.6051886 ]\n",
      " [0.37397603 0.62602397]\n",
      " [0.34730217 0.65269783]\n",
      " [0.30295173 0.69704827]\n",
      " [0.33303433 0.66696567]\n",
      " [0.40035666 0.59964334]\n",
      " [0.29076529 0.70923471]\n",
      " [0.36669212 0.63330788]\n",
      " [0.3548423  0.6451577 ]\n",
      " [0.34185801 0.65814199]\n",
      " [0.26405394 0.73594606]\n",
      " [0.39199924 0.60800076]\n",
      " [0.2595093  0.7404907 ]\n",
      " [0.36692173 0.63307827]\n",
      " [0.40356307 0.59643693]\n",
      " [0.27288151 0.72711849]\n",
      " [0.35387616 0.64612384]\n",
      " [0.42533603 0.57466397]\n",
      " [0.35722546 0.64277454]\n",
      " [0.37931596 0.62068404]\n",
      " [0.35961307 0.64038693]\n",
      " [0.36776828 0.63223172]\n",
      " [0.26288341 0.73711659]\n",
      " [0.27581584 0.72418416]\n",
      " [0.29324257 0.70675743]\n",
      " [0.24617677 0.75382323]\n",
      " [0.26231882 0.73768118]\n",
      " [0.3252321  0.6747679 ]\n",
      " [0.36793677 0.63206323]\n",
      " [0.2230097  0.7769903 ]\n",
      " [0.34039758 0.65960242]\n",
      " [0.42647237 0.57352763]\n",
      " [0.35038456 0.64961544]\n",
      " [0.45749726 0.54250274]\n",
      " [0.35057758 0.64942242]\n",
      " [0.37006845 0.62993155]\n",
      " [0.39073775 0.60926225]\n",
      " [0.40259192 0.59740808]\n",
      " [0.29123285 0.70876715]\n",
      " [0.35857169 0.64142831]\n",
      " [0.34312968 0.65687032]\n",
      " [0.32277801 0.67722199]\n",
      " [0.283076   0.716924  ]\n",
      " [0.27885998 0.72114002]\n",
      " [0.39164845 0.60835155]\n",
      " [0.42735139 0.57264861]\n",
      " [0.4251149  0.5748851 ]\n",
      " [0.36732435 0.63267565]\n",
      " [0.39415292 0.60584708]\n",
      " [0.41031199 0.58968801]\n",
      " [0.27997676 0.72002324]\n",
      " [0.40625035 0.59374965]\n",
      " [0.36227719 0.63772281]\n",
      " [0.39302144 0.60697856]\n",
      " [0.42852509 0.57147491]\n",
      " [0.43543852 0.56456148]\n",
      " [0.34264918 0.65735082]\n",
      " [0.38827703 0.61172297]\n",
      " [0.3434208  0.6565792 ]\n",
      " [0.42011206 0.57988794]\n",
      " [0.45186518 0.54813482]\n",
      " [0.25514388 0.74485612]]\n"
     ]
    }
   ],
   "source": [
    "print(mnb.predict_proba(X_test))"
   ]
  },
  {
   "cell_type": "code",
   "execution_count": null,
   "metadata": {},
   "outputs": [],
   "source": []
  }
 ],
 "metadata": {
  "kernelspec": {
   "display_name": "Python 3",
   "language": "python",
   "name": "python3"
  },
  "language_info": {
   "codemirror_mode": {
    "name": "ipython",
    "version": 3
   },
   "file_extension": ".py",
   "mimetype": "text/x-python",
   "name": "python",
   "nbconvert_exporter": "python",
   "pygments_lexer": "ipython3",
   "version": "3.7.4"
  }
 },
 "nbformat": 4,
 "nbformat_minor": 4
}
