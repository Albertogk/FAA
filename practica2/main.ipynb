{
 "cells": [
  {
   "cell_type": "code",
   "execution_count": 1,
   "metadata": {},
   "outputs": [],
   "source": [
    "from Datos import Datos\n",
    "from EstrategiaParticionado import *\n",
    "from Clasificador import *\n",
    "import matplotlib.pyplot as plt\n",
    "import numpy as np\n",
    "from sklearn.model_selection import train_test_split\n",
    "from sklearn.linear_model import LogisticRegression\n",
    "from sklearn.neighbors import KNeighborsClassifier"
   ]
  },
  {
   "cell_type": "markdown",
   "metadata": {},
   "source": [
    "<h2>Declaración de funciones generales</h2>"
   ]
  },
  {
   "cell_type": "code",
   "execution_count": 2,
   "metadata": {},
   "outputs": [],
   "source": [
    "def transformar_datos(dataset):\n",
    "    \n",
    "    # Utilizamos el diccionario para adaptar los datos\n",
    "    for i in range(dataset.datos.shape[0]):\n",
    "        for j in range(dataset.datos.shape[1]):\n",
    "            if dataset.nominalAtributos[j]:\n",
    "                dataset.datos[i, j] = dataset.diccionario[j][dataset.datos[i, j]]\n",
    "    \n",
    "\n",
    "def get_train_test(dataset, seed=None, p=0.2):\n",
    "    vs = ValidacionSimple(p, 1)\n",
    "    particiones = vs.creaParticiones(len(dataset.datos), seed=seed)\n",
    "\n",
    "    datostrain = dataset.extraeDatos(particiones[0].indicesTrain)\n",
    "    datostest = dataset.extraeDatos(particiones[0].indicesTest)\n",
    "    \n",
    "    return datostrain, datostest\n"
   ]
  },
  {
   "cell_type": "markdown",
   "metadata": {},
   "source": [
    "Por simplicidad, durante estas pruebas se va a utilizar validación simple."
   ]
  },
  {
   "cell_type": "markdown",
   "metadata": {},
   "source": [
    "<h2>Prueba de VecinosProximos<h2>"
   ]
  },
  {
   "cell_type": "code",
   "execution_count": 3,
   "metadata": {},
   "outputs": [],
   "source": [
    "k_values = np.arange(1, 50)"
   ]
  },
  {
   "cell_type": "markdown",
   "metadata": {},
   "source": [
    "<h3>Datos normalizados</h3>"
   ]
  },
  {
   "cell_type": "markdown",
   "metadata": {},
   "source": [
    "<h3>wdbc.data</h3>"
   ]
  },
  {
   "cell_type": "markdown",
   "metadata": {},
   "source": [
    "<h4>Distancia euclídea</h4>"
   ]
  },
  {
   "cell_type": "code",
   "execution_count": 4,
   "metadata": {},
   "outputs": [],
   "source": [
    "dataset = Datos('wdbc.data')\n",
    "transformar_datos(dataset)\n",
    "\n",
    "seed=0\n",
    "p=0.2\n",
    "datostrain, datostest = get_train_test(dataset,seed=seed, p=p)\n",
    "\n",
    "cl = ClasificadorVecinosProximos()\n",
    "cl.entrenamiento(datostrain, dataset.nominalAtributos, dataset.diccionario)\n",
    "\n",
    "k_precision_wdbc_euclidean_norm = np.zeros(len(k_values))\n",
    "\n",
    "cnt = 0\n",
    "\n",
    "for k in k_values:\n",
    "    prediccion = cl.clasifica(datostest, dataset.nominalAtributos, dataset.diccionario, k=k, distancia=\"euclidea\")\n",
    "    k_precision_wdbc_euclidean_norm[cnt] = 1-cl.error(datostest, prediccion)\n",
    "        \n",
    "    cnt += 1"
   ]
  },
  {
   "cell_type": "code",
   "execution_count": 5,
   "metadata": {},
   "outputs": [
    {
     "data": {
      "image/png": "[encoded data removed]",
      "text/plain": [
       "<Figure size 432x288 with 1 Axes>"
      ]
     },
     "metadata": {
      "needs_background": "light"
     },
     "output_type": "display_data"
    }
   ],
   "source": [
    "plt.figure()\n",
    "plt.plot(k_values, k_precision_wdbc_euclidean_norm)\n",
    "plt.ylim(0.5, 1)\n",
    "plt.xlabel(\"k\")\n",
    "plt.ylabel(\"Precisión\")\n",
    "plt.title(\"Precisión frente al número k de vecinos con distancia euclídea normalizado\")\n",
    "plt.show()"
   ]
  },
  {
   "cell_type": "markdown",
   "metadata": {},
   "source": [
    "<h4>Distancia Manhattan</h4>"
   ]
  },
  {
   "cell_type": "code",
   "execution_count": 4,
   "metadata": {},
   "outputs": [],
   "source": [
    "dataset = Datos('wdbc.data')\n",
    "transformar_datos(dataset)\n",
    "\n",
    "seed = 0\n",
    "p = 0.2\n",
    "datostrain, datostest = get_train_test(dataset, seed=seed, p=p)\n",
    "\n",
    "cl = ClasificadorVecinosProximos()\n",
    "cl.entrenamiento(datostrain, dataset.nominalAtributos, dataset.diccionario)\n",
    "\n",
    "k_precision_wdbc_manhattan_norm = np.zeros(len(k_values))\n",
    "\n",
    "cnt = 0\n",
    "\n",
    "for k in k_values:\n",
    "    prediccion = cl.clasifica(datostest, dataset.nominalAtributos, dataset.diccionario, k=k, distancia=\"manhattan\")\n",
    "    k_precision_wdbc_manhattan_norm[cnt] = 1-cl.error(datostest, prediccion)\n",
    "        \n",
    "    cnt += 1"
   ]
  },
  {
   "cell_type": "code",
   "execution_count": 5,
   "metadata": {},
   "outputs": [
    {
     "data": {
      "image/png": "[encoded data removed]",
      "text/plain": [
       "<Figure size 432x288 with 1 Axes>"
      ]
     },
     "metadata": {
      "needs_background": "light"
     },
     "output_type": "display_data"
    }
   ],
   "source": [
    "plt.figure()\n",
    "plt.plot(k_values, k_precision_wdbc_manhattan_norm)\n",
    "plt.ylim(0.5, 1)\n",
    "plt.xlabel(\"k\")\n",
    "plt.ylabel(\"Precisión\")\n",
    "plt.title(\"Precisión frente al número k de vecinos con distancia Manhattan normalizado\")\n",
    "plt.show()"
   ]
  },
  {
   "cell_type": "markdown",
   "metadata": {},
   "source": [
    "<h4>Distancia Mahalanobis</h4>"
   ]
  },
  {
   "cell_type": "code",
   "execution_count": 8,
   "metadata": {},
   "outputs": [
    {
     "ename": "ValueError",
     "evalue": "shapes (30,) and (31,31) not aligned: 30 (dim 0) != 31 (dim 0)",
     "output_type": "error",
     "traceback": [
      "\u001b[1;31m---------------------------------------------------------------------------\u001b[0m",
      "\u001b[1;31mValueError\u001b[0m                                Traceback (most recent call last)",
      "\u001b[1;32m<ipython-input-8-e98d033cf262>\u001b[0m in \u001b[0;36m<module>\u001b[1;34m\u001b[0m\n\u001b[0;32m     14\u001b[0m \u001b[1;33m\u001b[0m\u001b[0m\n\u001b[0;32m     15\u001b[0m \u001b[1;32mfor\u001b[0m \u001b[0mk\u001b[0m \u001b[1;32min\u001b[0m \u001b[0mk_values\u001b[0m\u001b[1;33m:\u001b[0m\u001b[1;33m\u001b[0m\u001b[1;33m\u001b[0m\u001b[0m\n\u001b[1;32m---> 16\u001b[1;33m     \u001b[0mprediccion\u001b[0m \u001b[1;33m=\u001b[0m \u001b[0mcl\u001b[0m\u001b[1;33m.\u001b[0m\u001b[0mclasifica\u001b[0m\u001b[1;33m(\u001b[0m\u001b[0mdatostest\u001b[0m\u001b[1;33m,\u001b[0m \u001b[0mdataset\u001b[0m\u001b[1;33m.\u001b[0m\u001b[0mnominalAtributos\u001b[0m\u001b[1;33m,\u001b[0m \u001b[0mdataset\u001b[0m\u001b[1;33m.\u001b[0m\u001b[0mdiccionario\u001b[0m\u001b[1;33m,\u001b[0m \u001b[0mk\u001b[0m\u001b[1;33m=\u001b[0m\u001b[0mk\u001b[0m\u001b[1;33m,\u001b[0m \u001b[0mdistancia\u001b[0m\u001b[1;33m=\u001b[0m\u001b[1;34m\"mahalanobis\"\u001b[0m\u001b[1;33m)\u001b[0m\u001b[1;33m\u001b[0m\u001b[1;33m\u001b[0m\u001b[0m\n\u001b[0m\u001b[0;32m     17\u001b[0m     \u001b[0mk_precision_wdbc_mahalanobis_norm\u001b[0m\u001b[1;33m[\u001b[0m\u001b[0mcnt\u001b[0m\u001b[1;33m]\u001b[0m \u001b[1;33m+=\u001b[0m \u001b[1;36m1\u001b[0m\u001b[1;33m-\u001b[0m\u001b[0mcl\u001b[0m\u001b[1;33m.\u001b[0m\u001b[0merror\u001b[0m\u001b[1;33m(\u001b[0m\u001b[0mdatostest\u001b[0m\u001b[1;33m,\u001b[0m \u001b[0mprediccion\u001b[0m\u001b[1;33m)\u001b[0m\u001b[1;33m\u001b[0m\u001b[1;33m\u001b[0m\u001b[0m\n\u001b[0;32m     18\u001b[0m \u001b[1;33m\u001b[0m\u001b[0m\n",
      "\u001b[1;32m~\\Desktop\\Universidad\\FAA\\practica2\\Clasificador.py\u001b[0m in \u001b[0;36mclasifica\u001b[1;34m(self, datostest, atributosDiscretos, diccionario, distancia, k)\u001b[0m\n\u001b[0;32m    291\u001b[0m                 \u001b[1;32melif\u001b[0m \u001b[0mdistancia\u001b[0m \u001b[1;33m==\u001b[0m \u001b[1;34m\"mahalanobis\"\u001b[0m\u001b[1;33m:\u001b[0m\u001b[1;33m\u001b[0m\u001b[1;33m\u001b[0m\u001b[0m\n\u001b[0;32m    292\u001b[0m \u001b[1;33m\u001b[0m\u001b[0m\n\u001b[1;32m--> 293\u001b[1;33m                     \u001b[0mdistancias\u001b[0m\u001b[1;33m[\u001b[0m\u001b[0mi\u001b[0m\u001b[1;33m]\u001b[0m\u001b[1;33m[\u001b[0m\u001b[0mj\u001b[0m\u001b[1;33m]\u001b[0m \u001b[1;33m=\u001b[0m \u001b[1;33m[\u001b[0m\u001b[0mmahalanobis\u001b[0m\u001b[1;33m(\u001b[0m\u001b[0mdatos_test_norm\u001b[0m\u001b[1;33m[\u001b[0m\u001b[0mi\u001b[0m\u001b[1;33m]\u001b[0m\u001b[1;33m[\u001b[0m\u001b[1;33m:\u001b[0m\u001b[1;33m-\u001b[0m\u001b[1;36m1\u001b[0m\u001b[1;33m]\u001b[0m\u001b[1;33m,\u001b[0m \u001b[0mself\u001b[0m\u001b[1;33m.\u001b[0m\u001b[0mdatos_train_norm\u001b[0m\u001b[1;33m[\u001b[0m\u001b[0mj\u001b[0m\u001b[1;33m]\u001b[0m\u001b[1;33m[\u001b[0m\u001b[1;33m:\u001b[0m\u001b[1;33m-\u001b[0m\u001b[1;36m1\u001b[0m\u001b[1;33m]\u001b[0m\u001b[1;33m,\u001b[0m \u001b[0mV\u001b[0m\u001b[1;33m)\u001b[0m\u001b[1;33m,\u001b[0m \u001b[0mclase_j\u001b[0m\u001b[1;33m]\u001b[0m\u001b[1;33m\u001b[0m\u001b[1;33m\u001b[0m\u001b[0m\n\u001b[0m\u001b[0;32m    294\u001b[0m \u001b[1;33m\u001b[0m\u001b[0m\n\u001b[0;32m    295\u001b[0m         \u001b[0mpred\u001b[0m \u001b[1;33m=\u001b[0m \u001b[0mnp\u001b[0m\u001b[1;33m.\u001b[0m\u001b[0mzeros\u001b[0m\u001b[1;33m(\u001b[0m\u001b[0mdatostest\u001b[0m\u001b[1;33m.\u001b[0m\u001b[0mshape\u001b[0m\u001b[1;33m[\u001b[0m\u001b[1;36m0\u001b[0m\u001b[1;33m]\u001b[0m\u001b[1;33m)\u001b[0m\u001b[1;33m\u001b[0m\u001b[1;33m\u001b[0m\u001b[0m\n",
      "\u001b[1;32mc:\\users\\admitin\\appdata\\local\\programs\\python\\python37-32\\lib\\site-packages\\scipy\\spatial\\distance.py\u001b[0m in \u001b[0;36mmahalanobis\u001b[1;34m(u, v, VI)\u001b[0m\n\u001b[0;32m   1076\u001b[0m     \u001b[0mVI\u001b[0m \u001b[1;33m=\u001b[0m \u001b[0mnp\u001b[0m\u001b[1;33m.\u001b[0m\u001b[0matleast_2d\u001b[0m\u001b[1;33m(\u001b[0m\u001b[0mVI\u001b[0m\u001b[1;33m)\u001b[0m\u001b[1;33m\u001b[0m\u001b[1;33m\u001b[0m\u001b[0m\n\u001b[0;32m   1077\u001b[0m     \u001b[0mdelta\u001b[0m \u001b[1;33m=\u001b[0m \u001b[0mu\u001b[0m \u001b[1;33m-\u001b[0m \u001b[0mv\u001b[0m\u001b[1;33m\u001b[0m\u001b[1;33m\u001b[0m\u001b[0m\n\u001b[1;32m-> 1078\u001b[1;33m     \u001b[0mm\u001b[0m \u001b[1;33m=\u001b[0m \u001b[0mnp\u001b[0m\u001b[1;33m.\u001b[0m\u001b[0mdot\u001b[0m\u001b[1;33m(\u001b[0m\u001b[0mnp\u001b[0m\u001b[1;33m.\u001b[0m\u001b[0mdot\u001b[0m\u001b[1;33m(\u001b[0m\u001b[0mdelta\u001b[0m\u001b[1;33m,\u001b[0m \u001b[0mVI\u001b[0m\u001b[1;33m)\u001b[0m\u001b[1;33m,\u001b[0m \u001b[0mdelta\u001b[0m\u001b[1;33m)\u001b[0m\u001b[1;33m\u001b[0m\u001b[1;33m\u001b[0m\u001b[0m\n\u001b[0m\u001b[0;32m   1079\u001b[0m     \u001b[1;32mreturn\u001b[0m \u001b[0mnp\u001b[0m\u001b[1;33m.\u001b[0m\u001b[0msqrt\u001b[0m\u001b[1;33m(\u001b[0m\u001b[0mm\u001b[0m\u001b[1;33m)\u001b[0m\u001b[1;33m\u001b[0m\u001b[1;33m\u001b[0m\u001b[0m\n\u001b[0;32m   1080\u001b[0m \u001b[1;33m\u001b[0m\u001b[0m\n",
      "\u001b[1;32m<__array_function__ internals>\u001b[0m in \u001b[0;36mdot\u001b[1;34m(*args, **kwargs)\u001b[0m\n",
      "\u001b[1;31mValueError\u001b[0m: shapes (30,) and (31,31) not aligned: 30 (dim 0) != 31 (dim 0)"
     ]
    }
   ],
   "source": [
    "dataset = Datos('wdbc.data')\n",
    "transformar_datos(dataset)\n",
    "\n",
    "seed = 0\n",
    "p = 0.2\n",
    "datostrain, datostest = get_train_test(dataset, seed=seed, p=0.2)\n",
    "\n",
    "cl = ClasificadorVecinosProximos()\n",
    "cl.entrenamiento(datostrain, dataset.nominalAtributos, dataset.diccionario)\n",
    "\n",
    "k_precision_wdbc_mahalanobis_norm = np.zeros(len(k_values))\n",
    "\n",
    "cnt = 0\n",
    "\n",
    "for k in k_values:\n",
    "    prediccion = cl.clasifica(datostest, dataset.nominalAtributos, dataset.diccionario, k=k, distancia=\"mahalanobis\")\n",
    "    k_precision_wdbc_mahalanobis_norm[cnt] += 1-cl.error(datostest, prediccion)\n",
    "        \n",
    "    cnt += 1"
   ]
  },
  {
   "cell_type": "code",
   "execution_count": null,
   "metadata": {},
   "outputs": [],
   "source": [
    "plt.figure()\n",
    "plt.plot(k_values, k_precision_wdbc_mahalanobis_norm)\n",
    "plt.ylim(0.5, 1)\n",
    "plt.xlabel(\"k\")\n",
    "plt.ylabel(\"Precisión\")\n",
    "plt.title(\"Precisión frente al número k de vecinos con distancia Mahalanobis normalizado\")\n",
    "plt.show()"
   ]
  },
  {
   "cell_type": "markdown",
   "metadata": {},
   "source": [
    "<h3>pima-indians-diabetes.data</h3>"
   ]
  },
  {
   "cell_type": "markdown",
   "metadata": {},
   "source": [
    "<h4>Distancia euclídea</h4>"
   ]
  },
  {
   "cell_type": "code",
   "execution_count": 9,
   "metadata": {},
   "outputs": [],
   "source": [
    "dataset = Datos('pima-indians-diabetes.data')\n",
    "transformar_datos(dataset)\n",
    "\n",
    "seed = 0\n",
    "p = 0.2\n",
    "datostrain, datostest = get_train_test(dataset, seed=seed, p=p)\n",
    "\n",
    "cl = ClasificadorVecinosProximos()\n",
    "cl.entrenamiento(datostrain, dataset.nominalAtributos, dataset.diccionario)\n",
    "\n",
    "k_precision_pima_euclidean_norm = np.zeros(len(k_values))\n",
    "\n",
    "cnt = 0\n",
    "\n",
    "for k in k_values:\n",
    "    prediccion = cl.clasifica(datostest, dataset.nominalAtributos, dataset.diccionario, k=k, distancia=\"euclidea\")\n",
    "    k_precision_pima_euclidean_norm[cnt] = 1-cl.error(datostest, prediccion)\n",
    "        \n",
    "    cnt += 1"
   ]
  },
  {
   "cell_type": "code",
   "execution_count": 10,
   "metadata": {},
   "outputs": [
    {
     "data": {
      "image/png": "[encoded data removed]",
      "text/plain": [
       "<Figure size 432x288 with 1 Axes>"
      ]
     },
     "metadata": {
      "needs_background": "light"
     },
     "output_type": "display_data"
    }
   ],
   "source": [
    "plt.figure()\n",
    "plt.plot(k_values, k_precision_pima_euclidean_norm)\n",
    "plt.ylim(0.5, 1)\n",
    "plt.xlabel(\"k\")\n",
    "plt.ylabel(\"Precisión\")\n",
    "plt.title(\"Precisión frente al número k de vecinos con distancia euclídea\")\n",
    "plt.show()"
   ]
  },
  {
   "cell_type": "markdown",
   "metadata": {},
   "source": [
    "<h4>Distancia Manhattan</h4>"
   ]
  },
  {
   "cell_type": "code",
   "execution_count": 6,
   "metadata": {},
   "outputs": [],
   "source": [
    "dataset = Datos('pima-indians-diabetes.data')\n",
    "transformar_datos(dataset)\n",
    "datostrain, datostest = get_train_test(dataset, seed, p)\n",
    "\n",
    "cl = ClasificadorVecinosProximos()\n",
    "cl.entrenamiento(datostrain, dataset.nominalAtributos, dataset.diccionario)\n",
    "\n",
    "k_precision_pima_manhattan_norm = np.zeros(len(k_values))\n",
    "\n",
    "cnt = 0\n",
    "\n",
    "for k in k_values:\n",
    "    prediccion = cl.clasifica(datostest, dataset.nominalAtributos, dataset.diccionario, k=k, distancia=\"manhattan\")\n",
    "    k_precision_pima_manhattan_norm[cnt] = 1-cl.error(datostest, prediccion)\n",
    "        \n",
    "    cnt += 1"
   ]
  },
  {
   "cell_type": "code",
   "execution_count": 7,
   "metadata": {},
   "outputs": [
    {
     "data": {
      "image/png": "[encoded data removed]",
      "text/plain": [
       "<Figure size 432x288 with 1 Axes>"
      ]
     },
     "metadata": {
      "needs_background": "light"
     },
     "output_type": "display_data"
    }
   ],
   "source": [
    "plt.figure()\n",
    "plt.plot(k_values, k_precision_pima_manhattan_norm)\n",
    "plt.ylim(0.5, 1)\n",
    "plt.xlabel(\"k\")\n",
    "plt.ylabel(\"Precisión\")\n",
    "plt.title(\"Precisión frente al número k de vecinos con distancia Manhattan normalizado\")\n",
    "plt.show()"
   ]
  },
  {
   "cell_type": "markdown",
   "metadata": {},
   "source": [
    "<h4>Distancia Mahalanobis</h4>"
   ]
  },
  {
   "cell_type": "code",
   "execution_count": 13,
   "metadata": {},
   "outputs": [
    {
     "ename": "ValueError",
     "evalue": "shapes (8,) and (9,9) not aligned: 8 (dim 0) != 9 (dim 0)",
     "output_type": "error",
     "traceback": [
      "\u001b[1;31m---------------------------------------------------------------------------\u001b[0m",
      "\u001b[1;31mValueError\u001b[0m                                Traceback (most recent call last)",
      "\u001b[1;32m<ipython-input-13-63614bc490bc>\u001b[0m in \u001b[0;36m<module>\u001b[1;34m\u001b[0m\n\u001b[0;32m     11\u001b[0m \u001b[1;33m\u001b[0m\u001b[0m\n\u001b[0;32m     12\u001b[0m \u001b[1;32mfor\u001b[0m \u001b[0mk\u001b[0m \u001b[1;32min\u001b[0m \u001b[0mk_values\u001b[0m\u001b[1;33m:\u001b[0m\u001b[1;33m\u001b[0m\u001b[1;33m\u001b[0m\u001b[0m\n\u001b[1;32m---> 13\u001b[1;33m     \u001b[0mprediccion\u001b[0m \u001b[1;33m=\u001b[0m \u001b[0mcl\u001b[0m\u001b[1;33m.\u001b[0m\u001b[0mclasifica\u001b[0m\u001b[1;33m(\u001b[0m\u001b[0mdatostest\u001b[0m\u001b[1;33m,\u001b[0m \u001b[0mdataset\u001b[0m\u001b[1;33m.\u001b[0m\u001b[0mnominalAtributos\u001b[0m\u001b[1;33m,\u001b[0m \u001b[0mdataset\u001b[0m\u001b[1;33m.\u001b[0m\u001b[0mdiccionario\u001b[0m\u001b[1;33m,\u001b[0m \u001b[0mk\u001b[0m\u001b[1;33m=\u001b[0m\u001b[0mk\u001b[0m\u001b[1;33m,\u001b[0m \u001b[0mdistancia\u001b[0m\u001b[1;33m=\u001b[0m\u001b[1;34m\"mahalanobis\"\u001b[0m\u001b[1;33m)\u001b[0m\u001b[1;33m\u001b[0m\u001b[1;33m\u001b[0m\u001b[0m\n\u001b[0m\u001b[0;32m     14\u001b[0m     \u001b[0mk_precision_pima_mahalanobis_norm\u001b[0m\u001b[1;33m[\u001b[0m\u001b[0mcnt\u001b[0m\u001b[1;33m]\u001b[0m \u001b[1;33m+=\u001b[0m \u001b[1;36m1\u001b[0m\u001b[1;33m-\u001b[0m\u001b[0mcl\u001b[0m\u001b[1;33m.\u001b[0m\u001b[0merror\u001b[0m\u001b[1;33m(\u001b[0m\u001b[0mdatostest\u001b[0m\u001b[1;33m,\u001b[0m \u001b[0mprediccion\u001b[0m\u001b[1;33m)\u001b[0m\u001b[1;33m\u001b[0m\u001b[1;33m\u001b[0m\u001b[0m\n\u001b[0;32m     15\u001b[0m \u001b[1;33m\u001b[0m\u001b[0m\n",
      "\u001b[1;32m~\\Desktop\\Universidad\\FAA\\practica2\\Clasificador.py\u001b[0m in \u001b[0;36mclasifica\u001b[1;34m(self, datostest, atributosDiscretos, diccionario, distancia, k)\u001b[0m\n\u001b[0;32m    291\u001b[0m                 \u001b[1;32melif\u001b[0m \u001b[0mdistancia\u001b[0m \u001b[1;33m==\u001b[0m \u001b[1;34m\"mahalanobis\"\u001b[0m\u001b[1;33m:\u001b[0m\u001b[1;33m\u001b[0m\u001b[1;33m\u001b[0m\u001b[0m\n\u001b[0;32m    292\u001b[0m \u001b[1;33m\u001b[0m\u001b[0m\n\u001b[1;32m--> 293\u001b[1;33m                     \u001b[0mdistancias\u001b[0m\u001b[1;33m[\u001b[0m\u001b[0mi\u001b[0m\u001b[1;33m]\u001b[0m\u001b[1;33m[\u001b[0m\u001b[0mj\u001b[0m\u001b[1;33m]\u001b[0m \u001b[1;33m=\u001b[0m \u001b[1;33m[\u001b[0m\u001b[0mmahalanobis\u001b[0m\u001b[1;33m(\u001b[0m\u001b[0mdatos_test_norm\u001b[0m\u001b[1;33m[\u001b[0m\u001b[0mi\u001b[0m\u001b[1;33m]\u001b[0m\u001b[1;33m[\u001b[0m\u001b[1;33m:\u001b[0m\u001b[1;33m-\u001b[0m\u001b[1;36m1\u001b[0m\u001b[1;33m]\u001b[0m\u001b[1;33m,\u001b[0m \u001b[0mself\u001b[0m\u001b[1;33m.\u001b[0m\u001b[0mdatos_train_norm\u001b[0m\u001b[1;33m[\u001b[0m\u001b[0mj\u001b[0m\u001b[1;33m]\u001b[0m\u001b[1;33m[\u001b[0m\u001b[1;33m:\u001b[0m\u001b[1;33m-\u001b[0m\u001b[1;36m1\u001b[0m\u001b[1;33m]\u001b[0m\u001b[1;33m,\u001b[0m \u001b[0mV\u001b[0m\u001b[1;33m)\u001b[0m\u001b[1;33m,\u001b[0m \u001b[0mclase_j\u001b[0m\u001b[1;33m]\u001b[0m\u001b[1;33m\u001b[0m\u001b[1;33m\u001b[0m\u001b[0m\n\u001b[0m\u001b[0;32m    294\u001b[0m \u001b[1;33m\u001b[0m\u001b[0m\n\u001b[0;32m    295\u001b[0m         \u001b[0mpred\u001b[0m \u001b[1;33m=\u001b[0m \u001b[0mnp\u001b[0m\u001b[1;33m.\u001b[0m\u001b[0mzeros\u001b[0m\u001b[1;33m(\u001b[0m\u001b[0mdatostest\u001b[0m\u001b[1;33m.\u001b[0m\u001b[0mshape\u001b[0m\u001b[1;33m[\u001b[0m\u001b[1;36m0\u001b[0m\u001b[1;33m]\u001b[0m\u001b[1;33m)\u001b[0m\u001b[1;33m\u001b[0m\u001b[1;33m\u001b[0m\u001b[0m\n",
      "\u001b[1;32mc:\\users\\admitin\\appdata\\local\\programs\\python\\python37-32\\lib\\site-packages\\scipy\\spatial\\distance.py\u001b[0m in \u001b[0;36mmahalanobis\u001b[1;34m(u, v, VI)\u001b[0m\n\u001b[0;32m   1076\u001b[0m     \u001b[0mVI\u001b[0m \u001b[1;33m=\u001b[0m \u001b[0mnp\u001b[0m\u001b[1;33m.\u001b[0m\u001b[0matleast_2d\u001b[0m\u001b[1;33m(\u001b[0m\u001b[0mVI\u001b[0m\u001b[1;33m)\u001b[0m\u001b[1;33m\u001b[0m\u001b[1;33m\u001b[0m\u001b[0m\n\u001b[0;32m   1077\u001b[0m     \u001b[0mdelta\u001b[0m \u001b[1;33m=\u001b[0m \u001b[0mu\u001b[0m \u001b[1;33m-\u001b[0m \u001b[0mv\u001b[0m\u001b[1;33m\u001b[0m\u001b[1;33m\u001b[0m\u001b[0m\n\u001b[1;32m-> 1078\u001b[1;33m     \u001b[0mm\u001b[0m \u001b[1;33m=\u001b[0m \u001b[0mnp\u001b[0m\u001b[1;33m.\u001b[0m\u001b[0mdot\u001b[0m\u001b[1;33m(\u001b[0m\u001b[0mnp\u001b[0m\u001b[1;33m.\u001b[0m\u001b[0mdot\u001b[0m\u001b[1;33m(\u001b[0m\u001b[0mdelta\u001b[0m\u001b[1;33m,\u001b[0m \u001b[0mVI\u001b[0m\u001b[1;33m)\u001b[0m\u001b[1;33m,\u001b[0m \u001b[0mdelta\u001b[0m\u001b[1;33m)\u001b[0m\u001b[1;33m\u001b[0m\u001b[1;33m\u001b[0m\u001b[0m\n\u001b[0m\u001b[0;32m   1079\u001b[0m     \u001b[1;32mreturn\u001b[0m \u001b[0mnp\u001b[0m\u001b[1;33m.\u001b[0m\u001b[0msqrt\u001b[0m\u001b[1;33m(\u001b[0m\u001b[0mm\u001b[0m\u001b[1;33m)\u001b[0m\u001b[1;33m\u001b[0m\u001b[1;33m\u001b[0m\u001b[0m\n\u001b[0;32m   1080\u001b[0m \u001b[1;33m\u001b[0m\u001b[0m\n",
      "\u001b[1;32m<__array_function__ internals>\u001b[0m in \u001b[0;36mdot\u001b[1;34m(*args, **kwargs)\u001b[0m\n",
      "\u001b[1;31mValueError\u001b[0m: shapes (8,) and (9,9) not aligned: 8 (dim 0) != 9 (dim 0)"
     ]
    }
   ],
   "source": [
    "dataset = Datos('pima-indians-diabetes.data')\n",
    "transformar_datos(dataset)\n",
    "datostrain, datostest = get_train_test(dataset, seed, p)\n",
    "\n",
    "cl = ClasificadorVecinosProximos()\n",
    "cl.entrenamiento(datostrain, dataset.nominalAtributos, dataset.diccionario)\n",
    "\n",
    "k_precision_pima_mahalanobis_norm = np.zeros(len(k_values))\n",
    "\n",
    "cnt = 0\n",
    "\n",
    "for k in k_values:\n",
    "    prediccion = cl.clasifica(datostest, dataset.nominalAtributos, dataset.diccionario, k=k, distancia=\"mahalanobis\")\n",
    "    k_precision_pima_mahalanobis_norm[cnt] += 1-cl.error(datostest, prediccion)\n",
    "        \n",
    "    cnt += 1"
   ]
  },
  {
   "cell_type": "code",
   "execution_count": null,
   "metadata": {},
   "outputs": [],
   "source": [
    "plt.figure()\n",
    "plt.plot(k_values, k_precision_pima_mahalanobis_norm)\n",
    "plt.ylim(0.5, 1)\n",
    "plt.xlabel(\"k\")\n",
    "plt.ylabel(\"Precisión\")\n",
    "plt.title(\"Precisión frente al número k de vecinos con distancia Mahalanobis normalizado\")\n",
    "plt.show()"
   ]
  },
  {
   "cell_type": "markdown",
   "metadata": {},
   "source": [
    "<h3>Datos sin normalizar</h3>"
   ]
  },
  {
   "cell_type": "markdown",
   "metadata": {},
   "source": [
    "<h3>wdbc.data</h3>"
   ]
  },
  {
   "cell_type": "markdown",
   "metadata": {},
   "source": [
    "<h4>Distancia euclídea</h4>"
   ]
  },
  {
   "cell_type": "code",
   "execution_count": 4,
   "metadata": {},
   "outputs": [],
   "source": [
    "dataset = Datos('wdbc.data')\n",
    "transformar_datos(dataset)\n",
    "\n",
    "seed=0\n",
    "p=0.2\n",
    "datostrain, datostest = get_train_test(dataset,seed=seed, p=p)\n",
    "\n",
    "cl = ClasificadorVecinosProximos()\n",
    "cl.entrenamiento(datostrain, dataset.nominalAtributos, dataset.diccionario, norm=False)\n",
    "\n",
    "k_precision_wdbc_euclidean = np.zeros(len(k_values))\n",
    "\n",
    "cnt = 0\n",
    "\n",
    "for k in k_values:\n",
    "    prediccion = cl.clasifica(datostest, dataset.nominalAtributos, dataset.diccionario, k=k, distancia=\"euclidea\")\n",
    "    k_precision_wdbc_euclidean[cnt] = 1-cl.error(datostest, prediccion)\n",
    "        \n",
    "    cnt += 1"
   ]
  },
  {
   "cell_type": "code",
   "execution_count": 5,
   "metadata": {},
   "outputs": [
    {
     "data": {
      "image/png": "[encoded data removed]",
      "text/plain": [
       "<Figure size 432x288 with 1 Axes>"
      ]
     },
     "metadata": {
      "needs_background": "light"
     },
     "output_type": "display_data"
    }
   ],
   "source": [
    "plt.figure()\n",
    "plt.plot(k_values, k_precision_wdbc_euclidean)\n",
    "plt.ylim(0.5, 1)\n",
    "plt.xlabel(\"k\")\n",
    "plt.ylabel(\"Precisión\")\n",
    "plt.title(\"Precisión frente al número k de vecinos con distancia euclídea\")\n",
    "plt.show()"
   ]
  },
  {
   "cell_type": "markdown",
   "metadata": {},
   "source": [
    "<h4>Distancia Manhattan</h4>"
   ]
  },
  {
   "cell_type": "code",
   "execution_count": 8,
   "metadata": {},
   "outputs": [],
   "source": [
    "dataset = Datos('wdbc.data')\n",
    "transformar_datos(dataset)\n",
    "\n",
    "seed = 0\n",
    "p = 0.2\n",
    "datostrain, datostest = get_train_test(dataset, seed=seed, p=p)\n",
    "\n",
    "cl = ClasificadorVecinosProximos()\n",
    "cl.entrenamiento(datostrain, dataset.nominalAtributos, dataset.diccionario, norm=False)\n",
    "\n",
    "k_precision_wdbc_manhattan = np.zeros(len(k_values))\n",
    "\n",
    "cnt = 0\n",
    "\n",
    "for k in k_values:\n",
    "    prediccion = cl.clasifica(datostest, dataset.nominalAtributos, dataset.diccionario, k=k, distancia=\"manhattan\")\n",
    "    k_precision_wdbc_manhattan[cnt] = 1-cl.error(datostest, prediccion)\n",
    "        \n",
    "    cnt += 1"
   ]
  },
  {
   "cell_type": "code",
   "execution_count": 9,
   "metadata": {},
   "outputs": [
    {
     "data": {
      "image/png": "[encoded data removed]",
      "text/plain": [
       "<Figure size 432x288 with 1 Axes>"
      ]
     },
     "metadata": {
      "needs_background": "light"
     },
     "output_type": "display_data"
    }
   ],
   "source": [
    "plt.figure()\n",
    "plt.plot(k_values, k_precision_wdbc_manhattan)\n",
    "plt.ylim(0.5, 1)\n",
    "plt.xlabel(\"k\")\n",
    "plt.ylabel(\"Precisión\")\n",
    "plt.title(\"Precisión frente al número k de vecinos con distancia Manhattan\")\n",
    "plt.show()"
   ]
  },
  {
   "cell_type": "markdown",
   "metadata": {},
   "source": [
    "<h4>Distancia Mahalanobis</h4>"
   ]
  },
  {
   "cell_type": "code",
   "execution_count": null,
   "metadata": {},
   "outputs": [],
   "source": [
    "dataset = Datos('wdbc.data')\n",
    "transformar_datos(dataset)\n",
    "\n",
    "seed = 0\n",
    "p = 0.2\n",
    "datostrain, datostest = get_train_test(dataset, seed=seed, p=0.2)\n",
    "\n",
    "cl = ClasificadorVecinosProximos()\n",
    "cl.entrenamiento(datostrain, dataset.nominalAtributos, dataset.diccionario, norm=False)\n",
    "\n",
    "k_precision_wdbc_mahalanobis = np.zeros(len(k_values))\n",
    "\n",
    "cnt = 0\n",
    "\n",
    "for k in k_values:\n",
    "    prediccion = cl.clasifica(datostest, dataset.nominalAtributos, dataset.diccionario, k=k, distancia=\"mahalanobis\")\n",
    "    k_precision_wdbc_mahalanobis[cnt] += 1-cl.error(datostest, prediccion)\n",
    "        \n",
    "    cnt += 1"
   ]
  },
  {
   "cell_type": "code",
   "execution_count": null,
   "metadata": {},
   "outputs": [],
   "source": [
    "plt.figure()\n",
    "plt.plot(k_values, k_precision_wdbc_mahalanobis)\n",
    "plt.ylim(0.5, 1)\n",
    "plt.xlabel(\"k\")\n",
    "plt.ylabel(\"Precisión\")\n",
    "plt.title(\"Precisión frente al número k de vecinos con distancia Mahalanobis\")\n",
    "plt.show()"
   ]
  },
  {
   "cell_type": "markdown",
   "metadata": {},
   "source": [
    "<h3>pima-indians-diabetes.data</h3>"
   ]
  },
  {
   "cell_type": "markdown",
   "metadata": {},
   "source": [
    "<h4>Distancia euclídea</h4>"
   ]
  },
  {
   "cell_type": "code",
   "execution_count": 8,
   "metadata": {},
   "outputs": [],
   "source": [
    "dataset = Datos('pima-indians-diabetes.data')\n",
    "transformar_datos(dataset)\n",
    "\n",
    "seed = 0\n",
    "p = 0.2\n",
    "datostrain, datostest = get_train_test(dataset, seed=seed, p=p)\n",
    "\n",
    "cl = ClasificadorVecinosProximos()\n",
    "cl.entrenamiento(datostrain, dataset.nominalAtributos, dataset.diccionario, norm=False)\n",
    "\n",
    "k_precision_pima_euclidean = np.zeros(len(k_values))\n",
    "\n",
    "cnt = 0\n",
    "\n",
    "for k in k_values:\n",
    "    prediccion = cl.clasifica(datostest, dataset.nominalAtributos, dataset.diccionario, k=k, distancia=\"euclidea\")\n",
    "    k_precision_pima_euclidean[cnt] = 1-cl.error(datostest, prediccion)\n",
    "        \n",
    "    cnt += 1"
   ]
  },
  {
   "cell_type": "code",
   "execution_count": 9,
   "metadata": {},
   "outputs": [
    {
     "data": {
      "image/png": "[encoded data removed]",
      "text/plain": [
       "<Figure size 432x288 with 1 Axes>"
      ]
     },
     "metadata": {
      "needs_background": "light"
     },
     "output_type": "display_data"
    }
   ],
   "source": [
    "plt.figure()\n",
    "plt.plot(k_values, k_precision_pima_euclidean)\n",
    "plt.ylim(0.5, 1)\n",
    "plt.xlabel(\"k\")\n",
    "plt.ylabel(\"Precisión\")\n",
    "plt.title(\"Precisión frente al número k de vecinos con distancia euclídea\")\n",
    "plt.show()"
   ]
  },
  {
   "cell_type": "markdown",
   "metadata": {},
   "source": [
    "<h4>Distancia Manhattan</h4>"
   ]
  },
  {
   "cell_type": "code",
   "execution_count": 10,
   "metadata": {},
   "outputs": [],
   "source": [
    "dataset = Datos('pima-indians-diabetes.data')\n",
    "transformar_datos(dataset)\n",
    "datostrain, datostest = get_train_test(dataset, seed, p)\n",
    "\n",
    "cl = ClasificadorVecinosProximos()\n",
    "cl.entrenamiento(datostrain, dataset.nominalAtributos, dataset.diccionario, norm=False)\n",
    "\n",
    "k_precision_pima_manhattan = np.zeros(len(k_values))\n",
    "\n",
    "cnt = 0\n",
    "\n",
    "for k in k_values:\n",
    "    prediccion = cl.clasifica(datostest, dataset.nominalAtributos, dataset.diccionario, k=k, distancia=\"manhattan\")\n",
    "    k_precision_pima_manhattan[cnt] = 1-cl.error(datostest, prediccion)\n",
    "        \n",
    "    cnt += 1"
   ]
  },
  {
   "cell_type": "code",
   "execution_count": 12,
   "metadata": {},
   "outputs": [
    {
     "data": {
      "image/png": "[encoded data removed]",
      "text/plain": [
       "<Figure size 432x288 with 1 Axes>"
      ]
     },
     "metadata": {
      "needs_background": "light"
     },
     "output_type": "display_data"
    }
   ],
   "source": [
    "plt.figure()\n",
    "plt.plot(k_values, k_precision_pima_manhattan)\n",
    "plt.ylim(0.5, 1)\n",
    "plt.xlabel(\"k\")\n",
    "plt.ylabel(\"Precisión\")\n",
    "plt.title(\"Precisión frente al número k de vecinos con distancia Manhattan\")\n",
    "plt.show()"
   ]
  },
  {
   "cell_type": "markdown",
   "metadata": {},
   "source": [
    "<h4>Distancia Mahalanobis</h4>"
   ]
  },
  {
   "cell_type": "code",
   "execution_count": null,
   "metadata": {},
   "outputs": [],
   "source": [
    "dataset = Datos('pima-indians-diabetes.data')\n",
    "transformar_datos(dataset)\n",
    "datostrain, datostest = get_train_test(dataset, seed, p)\n",
    "\n",
    "cl = ClasificadorVecinosProximos()\n",
    "cl.entrenamiento(datostrain, dataset.nominalAtributos, dataset.diccionario, norm=False)\n",
    "\n",
    "k_precision_pima_mahalanobis = np.zeros(len(k_values))\n",
    "\n",
    "cnt = 0\n",
    "\n",
    "for k in k_values:\n",
    "    prediccion = cl.clasifica(datostest, dataset.nominalAtributos, dataset.diccionario, k=k, distancia=\"mahalanobis\")\n",
    "    k_precision_pima_mahalanobis[cnt] += 1-cl.error(datostest, prediccion)\n",
    "        \n",
    "    cnt += 1"
   ]
  },
  {
   "cell_type": "code",
   "execution_count": null,
   "metadata": {},
   "outputs": [],
   "source": [
    "plt.figure()\n",
    "plt.plot(k_values, k_precision_pima_mahalanobis)\n",
    "plt.ylim(0.5, 1)\n",
    "plt.xlabel(\"k\")\n",
    "plt.ylabel(\"Precisión\")\n",
    "plt.title(\"Precisión frente al número k de vecinos con distancia Mahalanobis\")\n",
    "plt.show()"
   ]
  },
  {
   "cell_type": "markdown",
   "metadata": {},
   "source": [
    "<h2>Prueba de RegresionLogistica</h2>"
   ]
  },
  {
   "cell_type": "code",
   "execution_count": 24,
   "metadata": {},
   "outputs": [],
   "source": [
    "n_epocas_values=np.arange(1000, 10000, 2000)\n",
    "alpha_values = np.arange(0.001, 0.011, 0.001)"
   ]
  },
  {
   "cell_type": "markdown",
   "metadata": {},
   "source": [
    "<h3>wdbc.data</h3>"
   ]
  },
  {
   "cell_type": "code",
   "execution_count": 25,
   "metadata": {},
   "outputs": [
    {
     "name": "stderr",
     "output_type": "stream",
     "text": [
      "C:\\Users\\admitin\\Desktop\\Universidad\\FAA\\practica2\\Clasificador.py:308: RuntimeWarning: overflow encountered in exp\n",
      "  return 1/(1 + np.exp(-x))\n"
     ]
    }
   ],
   "source": [
    "dataset = Datos('wdbc.data')\n",
    "transformar_datos(dataset)\n",
    "datostrain, datostest = get_train_test(dataset, seed, p)\n",
    "\n",
    "epocas_precision_wdbc = np.empty((n_epocas_values.shape[0], alpha_values.shape[0]) )\n",
    "\n",
    "i = 0\n",
    "\n",
    "for n_epocas in n_epocas_values:\n",
    "    j = 0\n",
    "    for alpha in alpha_values:\n",
    "        cl = ClasificadorRegresionLogistica(alpha=alpha, n_epocas=n_epocas)\n",
    "        cl.entrenamiento(datostrain, dataset.nominalAtributos, dataset.diccionario)\n",
    "        prediccion = cl.clasifica(datostest, dataset.nominalAtributos, dataset.diccionario)\n",
    "\n",
    "        epocas_precision_wdbc[i][j] = 1-cl.error(datostest, prediccion)\n",
    "        j += 1\n",
    "        \n",
    "    i += 1"
   ]
  },
  {
   "cell_type": "code",
   "execution_count": 28,
   "metadata": {},
   "outputs": [
    {
     "data": {
      "image/png": "[encoded data removed]",
      "text/plain": [
       "<Figure size 432x288 with 1 Axes>"
      ]
     },
     "metadata": {
      "needs_background": "light"
     },
     "output_type": "display_data"
    }
   ],
   "source": [
    "plt.figure()\n",
    "for i in range(epocas_precision_wdbc.shape[0]):\n",
    "    plt.plot(alpha_values, epocas_precision_wdbc[i], label=\"n_epocas=\"+str(n_epocas_values[i]))\n",
    "plt.xlabel(\"Constante de aprendizaje\")\n",
    "plt.ylabel(\"Precisión\")\n",
    "plt.title(\"Precisión frente al número de épocas y constante de aprendizaje\")\n",
    "plt.legend(loc = \"upper right\")\n",
    "plt.show()"
   ]
  },
  {
   "cell_type": "markdown",
   "metadata": {},
   "source": [
    "<h3>pima-indians-diabetes.data</h3>"
   ]
  },
  {
   "cell_type": "code",
   "execution_count": 58,
   "metadata": {},
   "outputs": [
    {
     "name": "stderr",
     "output_type": "stream",
     "text": [
      "C:\\Users\\admitin\\Desktop\\Universidad\\FAA\\practica2\\Clasificador.py:297: RuntimeWarning: overflow encountered in exp\n",
      "  return 1/(1 + np.exp(-x))\n"
     ]
    }
   ],
   "source": [
    "dataset = Datos('pima-indians-diabetes.data')\n",
    "transformar_datos(dataset)\n",
    "datostrain, datostest = get_train_test(dataset, seed, p)\n",
    "\n",
    "epocas_precision_pima = np.empty(len(n_epocas_values))\n",
    "\n",
    "cnt = 0\n",
    "\n",
    "for n_epocas in n_epocas_values:\n",
    "    cl = ClasificadorRegresionLogistica(alpha=0.01, n_epocas=n_epocas)\n",
    "    cl.entrenamiento(datostrain, dataset.nominalAtributos, dataset.diccionario)\n",
    "    prediccion = cl.clasifica(datostest, dataset.nominalAtributos, dataset.diccionario)\n",
    "    \n",
    "    epocas_precision_pima[cnt] = 1-cl.error(datostest, prediccion)\n",
    "    cnt += 1"
   ]
  },
  {
   "cell_type": "code",
   "execution_count": 59,
   "metadata": {},
   "outputs": [
    {
     "name": "stdout",
     "output_type": "stream",
     "text": [
      "[0.72727273 0.75324675 0.72727273 0.74025974 0.72727273 0.7012987\n",
      " 0.67532468 0.72727273 0.68831169 0.75974026]\n"
     ]
    }
   ],
   "source": [
    "print(epocas_precision_pima)"
   ]
  },
  {
   "cell_type": "code",
   "execution_count": 60,
   "metadata": {},
   "outputs": [
    {
     "data": {
      "image/png": "[encoded data removed]",
      "text/plain": [
       "<Figure size 432x288 with 1 Axes>"
      ]
     },
     "metadata": {
      "needs_background": "light"
     },
     "output_type": "display_data"
    }
   ],
   "source": [
    "plt.figure()\n",
    "plt.plot(n_epocas_values, epocas_precision_pima)\n",
    "plt.xlabel(\"n_epocas\")\n",
    "plt.ylabel(\"Precisión\")\n",
    "plt.title(\"Precisión frente al número de épocas\")\n",
    "plt.show()"
   ]
  },
  {
   "cell_type": "markdown",
   "metadata": {},
   "source": [
    "<h2>Comparación con Scikit-Learn</h2>"
   ]
  },
  {
   "cell_type": "markdown",
   "metadata": {},
   "source": [
    "<h3>VecinosProximos<h3>"
   ]
  },
  {
   "cell_type": "markdown",
   "metadata": {},
   "source": [
    "Igual que en el apartado anterior, por simplicidad utilizaremos siempre validación simple  con una iteración. Primero transformamos los datos al formato adecuado y realizamos la partición:"
   ]
  },
  {
   "cell_type": "code",
   "execution_count": 16,
   "metadata": {},
   "outputs": [],
   "source": [
    "archivo = 'pima-indians-diabetes.data'\n",
    "p = 0.2\n",
    "seed = 0\n",
    "\n",
    "dataset = Datos(archivo)\n",
    "\n",
    "transformar_datos(dataset)\n",
    "            \n",
    "X = dataset.datos[:, :-1]\n",
    "y = dataset.datos[:, -1]\n",
    "\n",
    "X = X.astype('int32')\n",
    "y = y.astype('int32')\n",
    "\n",
    "X_train, X_test, y_train, y_test = train_test_split(X, y, test_size=p, random_state=seed)"
   ]
  },
  {
   "cell_type": "markdown",
   "metadata": {},
   "source": [
    "Ejecutamos el algoritmo de clasificación de vecinos próximos primero con n_vecinos = 5 y distancia euclidea:"
   ]
  },
  {
   "cell_type": "code",
   "execution_count": 20,
   "metadata": {},
   "outputs": [
    {
     "name": "stdout",
     "output_type": "stream",
     "text": [
      "0.7597402597402597\n"
     ]
    }
   ],
   "source": [
    "clf = KNeighborsClassifier(n_neighbors=5, weights='uniform', algorithm='brute', p=2, metric='minkowski', metric_params=None, n_jobs=None).fit(X_train, y_train)\n",
    "print(clf.score(X_test, y_test))"
   ]
  },
  {
   "cell_type": "markdown",
   "metadata": {},
   "source": [
    "Ahora hacemos el mismo experimento que en el apartado anteriorn para n_vecinos de 1 a 50. "
   ]
  },
  {
   "cell_type": "code",
   "execution_count": null,
   "metadata": {},
   "outputs": [],
   "source": []
  },
  {
   "cell_type": "code",
   "execution_count": 56,
   "metadata": {},
   "outputs": [],
   "source": [
    "archivo = 'wdbc.data'\n",
    "p = 0.3\n",
    "seed = 0\n",
    "\n",
    "dataset = Datos(archivo)\n",
    "\n",
    "datos = dataset.datos\n",
    "for i in range(datos.shape[0]):\n",
    "    for j in range(datos.shape[1]):\n",
    "        if dataset.nominalAtributos[j] or j == datos.shape[1] - 1:\n",
    "            datos[i, j] = dataset.diccionario[j][datos[i, j]]  \n",
    "            \n",
    "X = datos[:, :-1]\n",
    "y = datos[:, -1]\n",
    "\n",
    "X = X.astype('int32')\n",
    "y = y.astype('int32')\n",
    "\n",
    "X_train, X_test, y_train, y_test = train_test_split(X, y, test_size=p, random_state=seed)"
   ]
  },
  {
   "cell_type": "markdown",
   "metadata": {},
   "source": [
    "Observamos que no hay diferencia entre haber utilizado Laplace y no haberlo utilizado. Puede que en este caso haya sido así, pero en general es buena idea utilizar Laplace, porque no se sabe como es el dataset, y podría ocurrir que alguna de las probabilidades condicionadas fuesen 0."
   ]
  },
  {
   "cell_type": "code",
   "execution_count": 57,
   "metadata": {},
   "outputs": [
    {
     "name": "stdout",
     "output_type": "stream",
     "text": [
      "0.9590643274853801\n"
     ]
    }
   ],
   "source": [
    "clf = LogisticRegression(random_state=seed, max_iter=5000).fit(X_train, y_train)\n",
    "print(clf.score(X_test, y_test))"
   ]
  },
  {
   "cell_type": "code",
   "execution_count": null,
   "metadata": {},
   "outputs": [],
   "source": [
    "print('\\ttic-tac-toe scikit\\ttic-tac-toe propio\\tgerman scikit\\t\\tgerman propio')\n",
    "print('VS\\t(', round(1-ac_tic_simple_0, 3), ')\\t\\t(', round(media_vs_a1, 3), round(desv_vs_a1,3), ')\\t\\t(', round(1-ac_german_simple, 3), ')\\t\\t(', round(media_vs_a2, 3), round(desv_vs_a2,3), ')')\n",
    "print('VC\\t(', round(np.mean(1-ac_tic_cruzada_0), 3), round(np.std(1-ac_tic_cruzada_0),3), ')\\t\\t(', round(media_vc_a1, 3), round(desv_vc_a1,3), ')\\t\\t(', round(np.mean(1-ac_german_cruzada), 3), round(np.std(1-ac_german_cruzada),3), ')\\t\\t(', round(media_vc_a2, 3), round(desv_vc_a2,3), ')')\n"
   ]
  },
  {
   "cell_type": "markdown",
   "metadata": {},
   "source": [
    "En general, parece que nuestro estimador comete menos errores que el de Scikit para estos datos y esta semilla. Habría que realizar pruebas mas extensas para medir las calidades y comparar ambos esitimadores adecuadamente."
   ]
  },
  {
   "cell_type": "markdown",
   "metadata": {},
   "source": [
    "<h2>Evaluación de hipótesis mediante Análisis ROC</h2>"
   ]
  },
  {
   "cell_type": "code",
   "execution_count": 26,
   "metadata": {},
   "outputs": [],
   "source": [
    "p = 0.2\n",
    "seed = 0\n",
    "\n",
    "def get_ROC_data(conf_data, clases, ocurrencias_clases):\n",
    "    \n",
    "    matriz_conf = np.zeros((2, 2))\n",
    "    matriz_conf[0][0] = ocurrencias_clases[clases[1]]\n",
    "    matriz_conf[0][1] = ocurrencias_clases[clases[0]]\n",
    "    tpr = np.empty(len(datostest))\n",
    "    fpr = np.empty(len(datostest))\n",
    "\n",
    "    for i in range(len(conf_data)):\n",
    "        if conf_data[i][1] == clases[0]: # Dato negativo\n",
    "            matriz_conf[1][1] += 1 #TN\n",
    "            matriz_conf[0][1] -= 1 #FP\n",
    "\n",
    "        else: # Dato positivo\n",
    "            matriz_conf[1][0] += 1 #FN\n",
    "            matriz_conf[0][0] -= 1 #TP\n",
    "\n",
    "\n",
    "        tpr[i] = matriz_conf[0][0]/(matriz_conf[0][0]+matriz_conf[1][0])\n",
    "\n",
    "        fpr[i] = matriz_conf[0][1]/(matriz_conf[0][1]+matriz_conf[1][1])\n",
    "    \n",
    "    return tpr, fpr\n",
    "\n",
    "def get_matriz_conf(datostest, prediccion, clases):\n",
    "    matriz_conf = np.zeros((2, 2))\n",
    "    \n",
    "    for i in range(len(datostest)):\n",
    "        if prediccion[i] == clases[0]:\n",
    "            if datostest[i][-1] == clases[0]: # TN\n",
    "                matriz_conf[1][1] += 1\n",
    "            else: # FN \n",
    "                matriz_conf[1][0] += 1\n",
    "        else:\n",
    "            if datostest[i][-1] == clases[0]: # FP\n",
    "                matriz_conf[0][1] += 1\n",
    "            else: # TP\n",
    "                matriz_conf[0][0] += 1\n",
    "    \n",
    "    return matriz_conf"
   ]
  },
  {
   "cell_type": "markdown",
   "metadata": {},
   "source": [
    "<h3>Naive-Bayes</h3>"
   ]
  },
  {
   "cell_type": "markdown",
   "metadata": {},
   "source": [
    "<h4>wdbc.data</h4>"
   ]
  },
  {
   "cell_type": "code",
   "execution_count": 27,
   "metadata": {},
   "outputs": [],
   "source": [
    "archivo = 'wdbc.data'\n",
    "\n",
    "dataset = Datos(archivo)\n",
    "transformar_datos(dataset)\n",
    "datostrain, datostest = get_train_test(dataset, seed=seed)\n",
    "\n",
    "clases, counts = np.unique(datostest[:, -1], return_counts=True)\n",
    "clases = list(map(int, sorted(clases)))\n",
    "\n",
    "cl = ClasificadorNaiveBayes()\n",
    "cl.entrenamiento(datostrain, dataset.nominalAtributos, dataset.diccionario)\n",
    "\n",
    "prediccion = cl.clasifica(datostest, dataset.nominalAtributos, dataset.diccionario)\n",
    "\n",
    "conf_data = np.empty((len(prediccion), 2))\n",
    "for i in range(conf_data.shape[0]):\n",
    "    conf_data[i] = [cl.probabilidades[i][1], datostest[i][-1]]\n",
    "\n",
    "conf_data = sorted(conf_data, key=lambda x: x[0])\n"
   ]
  },
  {
   "cell_type": "code",
   "execution_count": 28,
   "metadata": {},
   "outputs": [],
   "source": [
    "tpr_wdbc_bayes, fpr_wdbc_bayes = get_ROC_data(conf_data, clases, counts)\n",
    "matriz_conf_wdbc_bayes = get_matriz_conf(datostest, prediccion, clases)"
   ]
  },
  {
   "cell_type": "markdown",
   "metadata": {},
   "source": [
    "Matriz de confusión:"
   ]
  },
  {
   "cell_type": "code",
   "execution_count": 29,
   "metadata": {},
   "outputs": [
    {
     "name": "stdout",
     "output_type": "stream",
     "text": [
      "Matriz de confusión wdbc.data Naive-Bayes\n",
      "\n",
      "\t\t\t\tReal\n",
      "\t\t  Positivo\t\tNegativo\n",
      "Estimado Positivo  42.0  \t\t  7.0\n",
      "\t Negativo  9.0  \t\t  56.0\n"
     ]
    }
   ],
   "source": [
    "print(\"Matriz de confusión wdbc.data Naive-Bayes\")\n",
    "print()\n",
    "print(\"\\t\\t\\t\\tReal\")\n",
    "print(\"\\t\\t  Positivo\\t\\tNegativo\")\n",
    "print(\"Estimado Positivo \", matriz_conf_wdbc_bayes[0][0], \" \\t\\t \", matriz_conf_wdbc_bayes[0][1])\n",
    "print(\"\\t Negativo \", matriz_conf_wdbc_bayes[1][0], \" \\t\\t \", matriz_conf_wdbc_bayes[1][1])"
   ]
  },
  {
   "cell_type": "code",
   "execution_count": 30,
   "metadata": {},
   "outputs": [
    {
     "data": {
      "image/png": "[encoded data removed]",
      "text/plain": [
       "<Figure size 432x288 with 1 Axes>"
      ]
     },
     "metadata": {
      "needs_background": "light"
     },
     "output_type": "display_data"
    }
   ],
   "source": [
    "plt.figure()\n",
    "plt.plot(fpr_wdbc_bayes, tpr_wdbc_bayes)\n",
    "plt.title(\"Curva ROC wdbc.data Naive-Bayes\")\n",
    "plt.xlabel(\"FPR\")\n",
    "plt.ylabel(\"TPR\")\n",
    "plt.show()"
   ]
  },
  {
   "cell_type": "markdown",
   "metadata": {},
   "source": [
    "<h4>pima-indians-diabetes.data</h4>"
   ]
  },
  {
   "cell_type": "code",
   "execution_count": 31,
   "metadata": {},
   "outputs": [],
   "source": [
    "archivo = 'pima-indians-diabetes.data'\n",
    "\n",
    "dataset = Datos(archivo)\n",
    "transformar_datos(dataset)\n",
    "datostrain, datostest = get_train_test(dataset, seed=seed)\n",
    "\n",
    "clases, counts = np.unique(datostest[:, -1], return_counts=True)\n",
    "clases = list(map(int, sorted(clases)))\n",
    "\n",
    "cl = ClasificadorNaiveBayes()\n",
    "cl.entrenamiento(datostrain, dataset.nominalAtributos, dataset.diccionario)\n",
    "\n",
    "prediccion = cl.clasifica(datostest, dataset.nominalAtributos, dataset.diccionario)\n",
    "\n",
    "conf_data = np.empty((len(prediccion), 2))\n",
    "for i in range(conf_data.shape[0]):\n",
    "    conf_data[i] = [cl.probabilidades[i][1], datostest[i][-1]]\n",
    "\n",
    "conf_data = sorted(conf_data, key=lambda x: x[0])\n"
   ]
  },
  {
   "cell_type": "code",
   "execution_count": 32,
   "metadata": {},
   "outputs": [],
   "source": [
    "tpr_pima_bayes, fpr_pima_bayes = get_ROC_data(conf_data, clases, counts)\n",
    "matriz_conf_pima_bayes = get_matriz_conf(datostest, prediccion, clases)"
   ]
  },
  {
   "cell_type": "markdown",
   "metadata": {},
   "source": [
    "Matriz de confusión:"
   ]
  },
  {
   "cell_type": "code",
   "execution_count": 33,
   "metadata": {},
   "outputs": [
    {
     "name": "stdout",
     "output_type": "stream",
     "text": [
      "Matriz de confusión pima-indians-diabetes.data Naive-Bayes\n",
      "\n",
      "\t\t\t\tReal\n",
      "\t\t  Positivo\t\tNegativo\n",
      "Estimado Positivo  27.0  \t\t  15.0\n",
      "\t Negativo  24.0  \t\t  88.0\n"
     ]
    }
   ],
   "source": [
    "print(\"Matriz de confusión pima-indians-diabetes.data Naive-Bayes\")\n",
    "print()\n",
    "print(\"\\t\\t\\t\\tReal\")\n",
    "print(\"\\t\\t  Positivo\\t\\tNegativo\")\n",
    "print(\"Estimado Positivo \", matriz_conf_pima_bayes[0][0], \" \\t\\t \", matriz_conf_pima_bayes[0][1])\n",
    "print(\"\\t Negativo \", matriz_conf_pima_bayes[1][0], \" \\t\\t \", matriz_conf_pima_bayes[1][1])"
   ]
  },
  {
   "cell_type": "code",
   "execution_count": 34,
   "metadata": {},
   "outputs": [
    {
     "data": {
      "image/png": "[encoded data removed]",
      "text/plain": [
       "<Figure size 432x288 with 1 Axes>"
      ]
     },
     "metadata": {
      "needs_background": "light"
     },
     "output_type": "display_data"
    }
   ],
   "source": [
    "plt.figure()\n",
    "plt.plot(fpr_pima_bayes, tpr_pima_bayes)\n",
    "plt.title(\"Curva ROC pima-indians-diabetes.data Naive-Bayes\")\n",
    "plt.xlabel(\"FPR\")\n",
    "plt.ylabel(\"TPR\")\n",
    "plt.show()"
   ]
  },
  {
   "cell_type": "markdown",
   "metadata": {},
   "source": [
    "<h3>Regresión Logística</h3>"
   ]
  },
  {
   "cell_type": "code",
   "execution_count": 35,
   "metadata": {},
   "outputs": [],
   "source": [
    "alpha = 0.001\n",
    "n_epocas = 10000"
   ]
  },
  {
   "cell_type": "markdown",
   "metadata": {},
   "source": [
    "<h4>wdbc.data</h4>"
   ]
  },
  {
   "cell_type": "code",
   "execution_count": 36,
   "metadata": {},
   "outputs": [
    {
     "name": "stderr",
     "output_type": "stream",
     "text": [
      "C:\\Users\\admitin\\Desktop\\Universidad\\FAA\\practica2\\Clasificador.py:319: RuntimeWarning: overflow encountered in exp\n",
      "  return 1/(1 + np.exp(-x))\n"
     ]
    }
   ],
   "source": [
    "archivo = 'wdbc.data'\n",
    "\n",
    "dataset = Datos(archivo)\n",
    "transformar_datos(dataset)\n",
    "datostrain, datostest = get_train_test(dataset, seed=seed)\n",
    "\n",
    "clases, counts = np.unique(datostest[:, -1], return_counts=True)\n",
    "clases = list(map(int, sorted(clases)))\n",
    "\n",
    "cl = ClasificadorRegresionLogistica(alpha=alpha, n_epocas=n_epocas)\n",
    "cl.entrenamiento(datostrain, dataset.nominalAtributos, dataset.diccionario)\n",
    "\n",
    "prediccion = cl.clasifica(datostest, dataset.nominalAtributos, dataset.diccionario)\n"
   ]
  },
  {
   "cell_type": "code",
   "execution_count": 37,
   "metadata": {},
   "outputs": [],
   "source": [
    "conf_data = np.empty((len(prediccion), 2))\n",
    "for i in range(conf_data.shape[0]):\n",
    "    conf_data[i] = [cl.sigmoid(np.inner(np.concatenate(([1], datostest[i][:-1])), cl.w)), datostest[i][-1]]\n",
    "\n",
    "conf_data = sorted(conf_data, key=lambda x: x[0])"
   ]
  },
  {
   "cell_type": "code",
   "execution_count": 38,
   "metadata": {},
   "outputs": [],
   "source": [
    "tpr_wdbc_logistica, fpr_wdbc_logistica = get_ROC_data(conf_data, clases, counts)\n",
    "matriz_conf_wdbc_logistica = get_matriz_conf(datostest, prediccion, clases)"
   ]
  },
  {
   "cell_type": "markdown",
   "metadata": {},
   "source": [
    "Matriz de confusión:"
   ]
  },
  {
   "cell_type": "code",
   "execution_count": 39,
   "metadata": {},
   "outputs": [
    {
     "name": "stdout",
     "output_type": "stream",
     "text": [
      "Matriz de confusión wdbc.data Regresión Logística\n",
      "\n",
      "\t\t\t\tReal\n",
      "\t\t  Positivo\t\tNegativo\n",
      "Estimado Positivo  46.0  \t\t  4.0\n",
      "\t Negativo  5.0  \t\t  59.0\n"
     ]
    }
   ],
   "source": [
    "print(\"Matriz de confusión wdbc.data Regresión Logística\")\n",
    "print()\n",
    "print(\"\\t\\t\\t\\tReal\")\n",
    "print(\"\\t\\t  Positivo\\t\\tNegativo\")\n",
    "print(\"Estimado Positivo \", matriz_conf_wdbc_logistica[0][0], \" \\t\\t \", matriz_conf_wdbc_logistica[0][1])\n",
    "print(\"\\t Negativo \", matriz_conf_wdbc_logistica[1][0], \" \\t\\t \", matriz_conf_wdbc_logistica[1][1])"
   ]
  },
  {
   "cell_type": "code",
   "execution_count": 40,
   "metadata": {},
   "outputs": [
    {
     "data": {
      "image/png": "[encoded data removed]",
      "text/plain": [
       "<Figure size 432x288 with 1 Axes>"
      ]
     },
     "metadata": {
      "needs_background": "light"
     },
     "output_type": "display_data"
    }
   ],
   "source": [
    "plt.figure()\n",
    "plt.plot(fpr_wdbc_logistica, tpr_wdbc_logistica)\n",
    "plt.title(\"Curva ROC wdbc.data Regresión Logística\")\n",
    "plt.xlabel(\"FPR\")\n",
    "plt.ylabel(\"TPR\")\n",
    "plt.show()"
   ]
  },
  {
   "cell_type": "markdown",
   "metadata": {},
   "source": [
    "<h4>pima-indians-diabetes.data</h4>"
   ]
  },
  {
   "cell_type": "code",
   "execution_count": 41,
   "metadata": {},
   "outputs": [],
   "source": [
    "archivo = 'pima-indians-diabetes.data'\n",
    "\n",
    "dataset = Datos(archivo)\n",
    "transformar_datos(dataset)\n",
    "datostrain, datostest = get_train_test(dataset, seed=seed)\n",
    "\n",
    "clases, counts = np.unique(datostest[:, -1], return_counts=True)\n",
    "clases = list(map(int, sorted(clases)))\n",
    "\n",
    "cl = ClasificadorRegresionLogistica(alpha=alpha, n_epocas=n_epocas)\n",
    "cl.entrenamiento(datostrain, dataset.nominalAtributos, dataset.diccionario)\n",
    "\n",
    "prediccion = cl.clasifica(datostest, dataset.nominalAtributos, dataset.diccionario)\n"
   ]
  },
  {
   "cell_type": "code",
   "execution_count": 42,
   "metadata": {},
   "outputs": [],
   "source": [
    "conf_data = np.empty((len(prediccion), 2))\n",
    "for i in range(conf_data.shape[0]):\n",
    "    conf_data[i] = [cl.sigmoid(np.inner(np.concatenate(([1], datostest[i][:-1])), cl.w)), datostest[i][-1]]\n",
    "\n",
    "conf_data = sorted(conf_data, key=lambda x: x[0])"
   ]
  },
  {
   "cell_type": "code",
   "execution_count": 43,
   "metadata": {},
   "outputs": [],
   "source": [
    "tpr_pima_logistica, fpr_pima_logistica = get_ROC_data(conf_data, clases, counts)\n",
    "matriz_conf_pima_logistica = get_matriz_conf(datostest, prediccion, clases)"
   ]
  },
  {
   "cell_type": "markdown",
   "metadata": {},
   "source": [
    "Matriz de confusión:"
   ]
  },
  {
   "cell_type": "code",
   "execution_count": 44,
   "metadata": {},
   "outputs": [
    {
     "name": "stdout",
     "output_type": "stream",
     "text": [
      "Matriz de confusión pima-indians-diabetes.data Regresión Logística\n",
      "\n",
      "\t\t\t\tReal\n",
      "\t\t  Positivo\t\tNegativo\n",
      "Estimado Positivo  25.0  \t\t  13.0\n",
      "\t Negativo  26.0  \t\t  90.0\n"
     ]
    }
   ],
   "source": [
    "print(\"Matriz de confusión pima-indians-diabetes.data Regresión Logística\")\n",
    "print()\n",
    "print(\"\\t\\t\\t\\tReal\")\n",
    "print(\"\\t\\t  Positivo\\t\\tNegativo\")\n",
    "print(\"Estimado Positivo \", matriz_conf_pima_logistica[0][0], \" \\t\\t \", matriz_conf_pima_logistica[0][1])\n",
    "print(\"\\t Negativo \", matriz_conf_pima_logistica[1][0], \" \\t\\t \", matriz_conf_pima_logistica[1][1])"
   ]
  },
  {
   "cell_type": "code",
   "execution_count": 45,
   "metadata": {},
   "outputs": [
    {
     "data": {
      "image/png": "[encoded data removed]",
      "text/plain": [
       "<Figure size 432x288 with 1 Axes>"
      ]
     },
     "metadata": {
      "needs_background": "light"
     },
     "output_type": "display_data"
    }
   ],
   "source": [
    "plt.figure()\n",
    "plt.plot(fpr_pima_logistica, tpr_pima_logistica)\n",
    "plt.title(\"Curva ROC pima-indians-diabetes.data Naive-Bayes\")\n",
    "plt.xlabel(\"FPR\")\n",
    "plt.ylabel(\"TPR\")\n",
    "plt.show()"
   ]
  },
  {
   "cell_type": "markdown",
   "metadata": {},
   "source": [
    "<h3>Vecinos Próximos</h3>"
   ]
  },
  {
   "cell_type": "code",
   "execution_count": 46,
   "metadata": {},
   "outputs": [],
   "source": [
    "k = 10"
   ]
  },
  {
   "cell_type": "markdown",
   "metadata": {},
   "source": [
    "<h4>wdbc.data</h4>"
   ]
  },
  {
   "cell_type": "code",
   "execution_count": 47,
   "metadata": {},
   "outputs": [],
   "source": [
    "archivo = 'wdbc.data'\n",
    "\n",
    "dataset = Datos(archivo)\n",
    "transformar_datos(dataset)\n",
    "datostrain, datostest = get_train_test(dataset, seed=seed)\n",
    "\n",
    "clases, counts = np.unique(datostest[:, -1], return_counts=True)\n",
    "clases = list(map(int, sorted(clases)))\n",
    "\n",
    "cl = ClasificadorVecinosProximos()\n",
    "cl.entrenamiento(datostrain, dataset.nominalAtributos, dataset.diccionario)\n",
    "\n",
    "prediccion = cl.clasifica(datostest, dataset.nominalAtributos, dataset.diccionario, k=k)\n"
   ]
  },
  {
   "cell_type": "code",
   "execution_count": 48,
   "metadata": {},
   "outputs": [],
   "source": [
    "conf_data = np.empty((len(prediccion), 2))\n",
    "for i in range(conf_data.shape[0]):\n",
    "    conf_data[i] = [cl.probabilidades[i], datostest[i][-1]]\n",
    "\n",
    "conf_data = sorted(conf_data, key=lambda x: x[0])"
   ]
  },
  {
   "cell_type": "code",
   "execution_count": 49,
   "metadata": {},
   "outputs": [],
   "source": [
    "tpr_wdbc_vecinos, fpr_wdbc_vecinos = get_ROC_data(conf_data, clases, counts)\n",
    "matriz_conf_wdbc_vecinos = get_matriz_conf(datostest, prediccion, clases)"
   ]
  },
  {
   "cell_type": "markdown",
   "metadata": {},
   "source": [
    "Matriz de confusión:"
   ]
  },
  {
   "cell_type": "code",
   "execution_count": 50,
   "metadata": {},
   "outputs": [
    {
     "name": "stdout",
     "output_type": "stream",
     "text": [
      "Matriz de confusión wdbc.data Vecinos Próximos\n",
      "\n",
      "\t\t\t\tReal\n",
      "\t\t  Positivo\t\tNegativo\n",
      "Estimado Positivo  46.0  \t\t  0.0\n",
      "\t Negativo  5.0  \t\t  63.0\n"
     ]
    }
   ],
   "source": [
    "print(\"Matriz de confusión wdbc.data Vecinos Próximos\")\n",
    "print()\n",
    "print(\"\\t\\t\\t\\tReal\")\n",
    "print(\"\\t\\t  Positivo\\t\\tNegativo\")\n",
    "print(\"Estimado Positivo \", matriz_conf_wdbc_vecinos[0][0], \" \\t\\t \", matriz_conf_wdbc_vecinos[0][1])\n",
    "print(\"\\t Negativo \", matriz_conf_wdbc_vecinos[1][0], \" \\t\\t \", matriz_conf_wdbc_vecinos[1][1])"
   ]
  },
  {
   "cell_type": "code",
   "execution_count": 51,
   "metadata": {},
   "outputs": [
    {
     "data": {
      "image/png": "[encoded data removed]",
      "text/plain": [
       "<Figure size 432x288 with 1 Axes>"
      ]
     },
     "metadata": {
      "needs_background": "light"
     },
     "output_type": "display_data"
    }
   ],
   "source": [
    "plt.figure()\n",
    "plt.plot(fpr_wdbc_vecinos, tpr_wdbc_vecinos)\n",
    "plt.title(\"Curva ROC wdbc.data Vecinos Próximos\")\n",
    "plt.xlabel(\"FPR\")\n",
    "plt.ylabel(\"TPR\")\n",
    "plt.show()"
   ]
  },
  {
   "cell_type": "markdown",
   "metadata": {},
   "source": [
    "<h4>pima-indians-diabetes.data</h4>"
   ]
  },
  {
   "cell_type": "code",
   "execution_count": 52,
   "metadata": {},
   "outputs": [],
   "source": [
    "archivo = 'pima-indians-diabetes.data'\n",
    "\n",
    "dataset = Datos(archivo)\n",
    "transformar_datos(dataset)\n",
    "datostrain, datostest = get_train_test(dataset, seed=seed)\n",
    "\n",
    "clases, counts = np.unique(datostest[:, -1], return_counts=True)\n",
    "clases = list(map(int, sorted(clases)))\n",
    "\n",
    "cl = ClasificadorVecinosProximos()\n",
    "cl.entrenamiento(datostrain, dataset.nominalAtributos, dataset.diccionario)\n",
    "\n",
    "prediccion = cl.clasifica(datostest, dataset.nominalAtributos, dataset.diccionario, k=k)\n"
   ]
  },
  {
   "cell_type": "code",
   "execution_count": 53,
   "metadata": {},
   "outputs": [],
   "source": [
    "conf_data = np.empty((len(prediccion), 2))\n",
    "for i in range(conf_data.shape[0]):\n",
    "    conf_data[i] = [cl.probabilidades[i], datostest[i][-1]]\n",
    "\n",
    "conf_data = sorted(conf_data, key=lambda x: x[0])"
   ]
  },
  {
   "cell_type": "code",
   "execution_count": 54,
   "metadata": {},
   "outputs": [],
   "source": [
    "tpr_pima_vecinos, fpr_pima_vecinos = get_ROC_data(conf_data, clases, counts)\n",
    "matriz_conf_pima_vecinos = get_matriz_conf(datostest, prediccion, clases)"
   ]
  },
  {
   "cell_type": "markdown",
   "metadata": {},
   "source": [
    "Matriz de confusión:"
   ]
  },
  {
   "cell_type": "code",
   "execution_count": 55,
   "metadata": {},
   "outputs": [
    {
     "name": "stdout",
     "output_type": "stream",
     "text": [
      "Matriz de confusión pima-indians-diabetes.data Vecinos Próximos\n",
      "\n",
      "\t\t\t\tReal\n",
      "\t\t  Positivo\t\tNegativo\n",
      "Estimado Positivo  51.0  \t\t  0.0\n",
      "\t Negativo  0.0  \t\t  103.0\n"
     ]
    }
   ],
   "source": [
    "print(\"Matriz de confusión pima-indians-diabetes.data Vecinos Próximos\")\n",
    "print()\n",
    "print(\"\\t\\t\\t\\tReal\")\n",
    "print(\"\\t\\t  Positivo\\t\\tNegativo\")\n",
    "print(\"Estimado Positivo \", matriz_conf_pima_vecinos[0][0], \" \\t\\t \", matriz_conf_pima_vecinos[0][1])\n",
    "print(\"\\t Negativo \", matriz_conf_pima_vecinos[1][0], \" \\t\\t \", matriz_conf_pima_vecinos[1][1])"
   ]
  },
  {
   "cell_type": "code",
   "execution_count": 56,
   "metadata": {},
   "outputs": [
    {
     "data": {
      "image/png": "[encoded data removed]",
      "text/plain": [
       "<Figure size 432x288 with 1 Axes>"
      ]
     },
     "metadata": {
      "needs_background": "light"
     },
     "output_type": "display_data"
    }
   ],
   "source": [
    "plt.figure()\n",
    "plt.plot(fpr_pima_vecinos, tpr_pima_vecinos)\n",
    "plt.title(\"Curva ROC pima-indians-diabetes.data Vecinos Próximos\")\n",
    "plt.xlabel(\"FPR\")\n",
    "plt.ylabel(\"TPR\")\n",
    "plt.show()"
   ]
  },
  {
   "cell_type": "markdown",
   "metadata": {},
   "source": [
    "<h3>Comparación de las curvas por datasets</h3>"
   ]
  },
  {
   "cell_type": "code",
   "execution_count": 63,
   "metadata": {},
   "outputs": [
    {
     "data": {
      "image/png": "[encoded data removed]",
      "text/plain": [
       "<Figure size 432x288 with 1 Axes>"
      ]
     },
     "metadata": {
      "needs_background": "light"
     },
     "output_type": "display_data"
    }
   ],
   "source": [
    "plt.figure()\n",
    "plt.plot(fpr_wdbc_bayes, tpr_wdbc_bayes, label=\"Naive-Bayes\")\n",
    "plt.plot(fpr_wdbc_logistica, tpr_wdbc_logistica, label=\"Regresión Logística\")\n",
    "plt.plot(fpr_wdbc_vecinos, tpr_wdbc_vecinos, label=\"Vecinos Próximos\")\n",
    "plt.legend(loc=\"lower right\")\n",
    "plt.xlabel(\"FPR\")\n",
    "plt.ylabel(\"TPR\")\n",
    "plt.title(\"Curvas ROC wdbc.data\")\n",
    "plt.show()"
   ]
  },
  {
   "cell_type": "code",
   "execution_count": 62,
   "metadata": {},
   "outputs": [
    {
     "data": {
      "image/png": "[encoded data removed]",
      "text/plain": [
       "<Figure size 432x288 with 1 Axes>"
      ]
     },
     "metadata": {
      "needs_background": "light"
     },
     "output_type": "display_data"
    }
   ],
   "source": [
    "plt.figure()\n",
    "plt.plot(fpr_pima_bayes, tpr_pima_bayes, label=\"Naive-Bayes\")\n",
    "plt.plot(fpr_pima_logistica, tpr_pima_logistica, label=\"Regresión Logística\")\n",
    "plt.plot(fpr_pima_vecinos, tpr_pima_vecinos, label=\"Vecinos Próximos\")\n",
    "plt.legend(loc=\"lower right\")\n",
    "plt.xlabel(\"FPR\")\n",
    "plt.ylabel(\"TPR\")\n",
    "plt.title(\"Curvas ROC pima-indians-diabetes.data\")\n",
    "plt.show()"
   ]
  },
  {
   "cell_type": "markdown",
   "metadata": {},
   "source": [
    "<h3>AUC</h3>"
   ]
  },
  {
   "cell_type": "markdown",
   "metadata": {},
   "source": [
    "A continuación, vamos a calcular las áreas bajo las curvas ROC (AUC) para determinar la calidad de cada método:"
   ]
  },
  {
   "cell_type": "code",
   "execution_count": 57,
   "metadata": {},
   "outputs": [],
   "source": [
    "def AUC(fpr, tpr):\n",
    "\n",
    "    auc = 0\n",
    "    for i in range(len(tpr)-1):\n",
    "        auc += (fpr[i]-fpr[i+1])*tpr[i]\n",
    "    \n",
    "    auc += fpr[-1]*tpr[-1]\n",
    "        \n",
    "    return auc"
   ]
  },
  {
   "cell_type": "code",
   "execution_count": 58,
   "metadata": {},
   "outputs": [],
   "source": [
    "auc_wdbc_bayes = AUC(fpr_wdbc_bayes, tpr_wdbc_bayes)\n",
    "auc_pima_bayes = AUC(fpr_pima_bayes, tpr_pima_bayes)\n",
    "\n",
    "auc_wdbc_logistica = AUC(fpr_wdbc_logistica, tpr_wdbc_logistica)\n",
    "auc_pima_logistica = AUC(fpr_pima_logistica, tpr_pima_logistica)\n",
    "\n",
    "auc_wdbc_vecinos = AUC(fpr_wdbc_vecinos, tpr_wdbc_vecinos)\n",
    "auc_pima_vecinos = AUC(fpr_pima_vecinos, tpr_pima_vecinos)"
   ]
  },
  {
   "cell_type": "code",
   "execution_count": 59,
   "metadata": {},
   "outputs": [
    {
     "name": "stdout",
     "output_type": "stream",
     "text": [
      "AUC wdbc.data Naive-Bayes: 0.9374416433239959\n",
      "AUC wdbc.data Regresión Logística: 0.954248366013071\n",
      "AUC wdbc.data Vecinos Próximos: 0.9713663243075008\n",
      "\n",
      "AUC pima-indians-diabetes.data Naive-Bayes: 0.8102036931277368\n",
      "AUC pima-indians-diabetes.data Regresión Logística: 0.7985912811726631\n",
      "AUC pima-indians-diabetes.data Vecinos Próximos: 0.9902912621359221\n"
     ]
    }
   ],
   "source": [
    "print(\"AUC wdbc.data Naive-Bayes:\", auc_wdbc_bayes)\n",
    "print(\"AUC wdbc.data Regresión Logística:\", auc_wdbc_logistica)\n",
    "print(\"AUC wdbc.data Vecinos Próximos:\", auc_wdbc_vecinos)\n",
    "print()\n",
    "print(\"AUC pima-indians-diabetes.data Naive-Bayes:\", auc_pima_bayes)\n",
    "print(\"AUC pima-indians-diabetes.data Regresión Logística:\", auc_pima_logistica)\n",
    "print(\"AUC pima-indians-diabetes.data Vecinos Próximos:\", auc_pima_vecinos)\n"
   ]
  },
  {
   "cell_type": "markdown",
   "metadata": {},
   "source": [
    "Para ambos datasets se obtiene que Vecinos Próximos da mejores resultados."
   ]
  },
  {
   "cell_type": "code",
   "execution_count": null,
   "metadata": {},
   "outputs": [],
   "source": []
  }
 ],
 "metadata": {
  "kernelspec": {
   "display_name": "Python 3",
   "language": "python",
   "name": "python3"
  },
  "language_info": {
   "codemirror_mode": {
    "name": "ipython",
    "version": 3
   },
   "file_extension": ".py",
   "mimetype": "text/x-python",
   "name": "python",
   "nbconvert_exporter": "python",
   "pygments_lexer": "ipython3",
   "version": "3.7.4"
  }
 },
 "nbformat": 4,
 "nbformat_minor": 4
}
